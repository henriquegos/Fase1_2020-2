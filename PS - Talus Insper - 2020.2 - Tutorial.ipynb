{
 "cells": [
  {
   "cell_type": "markdown",
   "metadata": {},
   "source": [
    "# NOTEBOOK COM TUTORIAIS RELEVANTES\n",
    "<br>\n",
    "\n",
    "- <a href=\"#tutorial-jupyter\">Tutorial simples de Jupyter</a>\n",
    "- <a href=\"#variaveis\">Tipos de variáveis</a>\n",
    "- <a href=\"#operacoes-numeros\">Operações básicas</a>\n",
    "- <a href=\"#operacoes-strings\">Operações com strings</a>\n",
    "- <a href=\"#estruturas\">Estruturas básicas</a>\n",
    "- <a href=\"#condicionais\">Condicionais</a>\n",
    "- <a href=\"#loops\">Estruturas de repetição</a>\n",
    "- <a href=\"#funcoes\">Funções</a>\n",
    "- <a href=\"#arquivos\">Arquivos</a>\n",
    "- <a href=\"#poo\">Programação Orientada a Objetos (POO)</a>\n",
    "- <a href=\"#pydata\">Stack básica de PyData</a>"
   ]
  },
  {
   "cell_type": "markdown",
   "metadata": {},
   "source": [
    "## Tutorial Jupyter\n",
    "<div id=\"tutorial-jupyter\"></div>"
   ]
  },
  {
   "cell_type": "markdown",
   "metadata": {},
   "source": [
    "Caso você não saiba como usar jupyter, aqui vai um tutorial simples mas que satisfaz as necessidades para esse tutorial e o desafio."
   ]
  },
  {
   "cell_type": "markdown",
   "metadata": {},
   "source": [
    "Célula são essas estruturas nas quais escrevemos texto e código no Jupyter, para editar uma célula de código basta clicar nessa, se for uma célula de texto, clique duas vezes.\n",
    "\n",
    "Para executar uma célula, você pode usar o botão __Run__ na toolbar do Jupyter. Ou ainda usando as teclas <kbd>Shift</kbd>+<kbd>Enter</kbd>.\n",
    "\n",
    "<img src=\"./img/run-jupyter-cell.png\">\n",
    "\n",
    "Ainda nessa imagem, a tecla de <kbd>+</kbd> adiciona novas células. A tecla com as setas permitem mover uma célula no jupyter.\n",
    "\n",
    "Além de executar uma célula, você pode interromper a execução com o botão com um quadrado no meio. Você pode ainda interromper o kernel, sem entrar nos detalhes, isso resetaria tudo que já foi feito no jupyter, nada será apagado, mas variáveis criadas e tudo mais serão esquecidas.\n",
    "\n",
    "O botão com duas setas roda todas as células até que chegue no fim ou encontre um erro.\n",
    "\n",
    "No campo escrito __Markdown__ você pode mudar o tipo da célula. Células de texto são do tipo Markdown e células de código do tipo Code.\n",
    "\n",
    "Ferramentas de edição como retornar células excluídas, copiar e colar células... podem ser achadas na opção __Edit__.\n",
    "\n",
    "Você pode ainda reiniciar o kernel e rodar todas as células ou simplesmente limpar o output na opção __Kernel__."
   ]
  },
  {
   "cell_type": "markdown",
   "metadata": {},
   "source": [
    "## Variáveis e tipos de variáveis\n",
    "<div id=\"variaveis\"></div>"
   ]
  },
  {
   "cell_type": "markdown",
   "metadata": {},
   "source": [
    "Diferente de outras linguagens de programação tradicionais, em Python você não precisa declarar o tipo de uma variável. Você pode declarar variáveis simplesmente atribuindo um valor a elas e também pode mudar a qualquer momento:"
   ]
  },
  {
   "cell_type": "code",
   "execution_count": null,
   "metadata": {},
   "outputs": [],
   "source": [
    "# a função usada para verificar o tipo de uma variável é a função type()\n",
    "print('{0} é uma variável do tipo {1}'.format(-1,type(-1)))"
   ]
  },
  {
   "cell_type": "code",
   "execution_count": null,
   "metadata": {},
   "outputs": [],
   "source": [
    "# você pode simplesmente invocar a função e passar o argumento que ao executar a célula terá como output o tipo\n",
    "type(-1)"
   ]
  },
  {
   "cell_type": "markdown",
   "metadata": {},
   "source": [
    "Alguns outros tipos de variáveis comuns em python são:"
   ]
  },
  {
   "cell_type": "code",
   "execution_count": null,
   "metadata": {},
   "outputs": [],
   "source": [
    "# inteiros (e.g. 0, -1, 2)\n",
    "print('{0} é uma variável do tipo {1}'.format(2,type(2)))"
   ]
  },
  {
   "cell_type": "code",
   "execution_count": null,
   "metadata": {},
   "outputs": [],
   "source": [
    "# float/números reais/pontos flutuantes (e.g. 1.0, 3.14, -2.71)\n",
    "print('{0} e {1} são variáveis do tipo {2}'.format(2.0,3.14,type(2.0)))"
   ]
  },
  {
   "cell_type": "code",
   "execution_count": null,
   "metadata": {},
   "outputs": [],
   "source": [
    "# complex/números complexos (e.g. 3 + 4j, -1j)\n",
    "# atente que, ao contrário da literatura clássica, aqui a raiz complexa é j\n",
    "print('{0} é uma variável do tipo {1}'.format(3+4j,type(3+4j)))"
   ]
  },
  {
   "cell_type": "code",
   "execution_count": null,
   "metadata": {},
   "outputs": [],
   "source": [
    "# string/caracteres/texto (e.g. 'isso eh uma string', 'a', 'string')\n",
    "print(\"{0} é uma variável do tipo {1}\".format('Uma string',type('Uma string')))"
   ]
  },
  {
   "cell_type": "code",
   "execution_count": null,
   "metadata": {},
   "outputs": [],
   "source": [
    "# OBS.: strings devem estar entre aspas (\"\") ou aspas simples ('')\n",
    "# do contrário será interpretado como uma variável sem valor\n",
    "# rode a célula abaixo para verificar o erro que será obtido se esquecer as aspas\n",
    "type(string)"
   ]
  },
  {
   "cell_type": "code",
   "execution_count": null,
   "metadata": {},
   "outputs": [],
   "source": [
    "# booleano (e.g. True ou False)\n",
    "print('{0} é uma variável do tipo {1}'.format(True,type(True)))\n",
    "# perceba que True e False não precisam de aspas, no entanto a primeira letra deve ser maiúscula\n",
    "# nunca nomeie variáveis com esse nome, é uma boa prática de programação!"
   ]
  },
  {
   "cell_type": "code",
   "execution_count": null,
   "metadata": {},
   "outputs": [],
   "source": [
    "# None/vazio/sem valor\n",
    "print('{0} é uma variável do tipo {1}'.format(None,type(None)))"
   ]
  },
  {
   "cell_type": "markdown",
   "metadata": {},
   "source": [
    "Pode ser útil comparar o tipo de variáveis e até mesmo converter o tipo da variável para outro. Verifique como fazer isso:"
   ]
  },
  {
   "cell_type": "code",
   "execution_count": null,
   "metadata": {},
   "outputs": [],
   "source": [
    "# para comparar o tipo de uma variável, usamos a função isinstance()\n",
    "# ela retorna um booleano com o resultado da comparação\n",
    "print('isinstance(\"Uma string\",str) = {0}'.format(isinstance('Uma string',str)))\n",
    "print('isinstance(-1,float) = {0}'.format(isinstance(-1,float)))"
   ]
  },
  {
   "cell_type": "code",
   "execution_count": null,
   "metadata": {},
   "outputs": [],
   "source": [
    "# para converter o tipo da variável, basta passar esta por uma função específica de cada variável\n",
    "string_para_converter = '-1'\n",
    "type(string_para_converter)"
   ]
  },
  {
   "cell_type": "code",
   "execution_count": null,
   "metadata": {},
   "outputs": [],
   "source": [
    "string_convertida = float(string_para_converter)\n",
    "type(string_convertida)"
   ]
  },
  {
   "cell_type": "markdown",
   "metadata": {},
   "source": [
    "Diferentemente de outras linguagens tradicionais, não é preciso declarar o tipo de uma variável quando esta é declarada. O que permite substituir e converter variáveis muito mais fácil, como visto nas células acima"
   ]
  },
  {
   "cell_type": "code",
   "execution_count": null,
   "metadata": {},
   "outputs": [],
   "source": [
    "# a maneira correta de declarar uma variável é variavel = valor\n",
    "# nunca use valor = variavel\n",
    "var = 1\n",
    "print('{0} do tipo {1}'.format(var,type(var)))\n",
    "var = float(var)\n",
    "print('{0} do tipo {1}'.format(var,type(var)))\n",
    "var = 'string'\n",
    "print('{0} do tipo {1}'.format(var,type(var)))\n",
    "\n",
    "# a mesma variável com valores e tipos diferentes!"
   ]
  },
  {
   "cell_type": "code",
   "execution_count": null,
   "metadata": {},
   "outputs": [],
   "source": [
    "# lembre-se que Python é uma linguagem case sensity\n",
    "# isso significa que letras maiusculas e minusculas no corpo de uma variável são diferentes\n",
    "var = 2\n",
    "Var = 3\n",
    "print(var, Var)"
   ]
  },
  {
   "cell_type": "markdown",
   "metadata": {},
   "source": [
    "## Operações básicas\n",
    "<div id=\"operacoes-numeros\"></div>"
   ]
  },
  {
   "cell_type": "markdown",
   "metadata": {},
   "source": [
    "É importante ainda saber realizar operações com variáveis em Python. Veja algumas das operações principais:"
   ]
  },
  {
   "cell_type": "code",
   "execution_count": null,
   "metadata": {},
   "outputs": [],
   "source": [
    "# soma\n",
    "a = 2\n",
    "b = 3\n",
    "c = a + b\n",
    "c"
   ]
  },
  {
   "cell_type": "code",
   "execution_count": null,
   "metadata": {},
   "outputs": [],
   "source": [
    "# você ainda pode fazer isso diretamente, sem atribuir a um novo valor\n",
    "a + b"
   ]
  },
  {
   "cell_type": "code",
   "execution_count": null,
   "metadata": {},
   "outputs": [],
   "source": [
    "# é possível ainda realizar operações com ints e floats\n",
    "c + 3.14"
   ]
  },
  {
   "cell_type": "code",
   "execution_count": null,
   "metadata": {},
   "outputs": [],
   "source": [
    "# não é possível somar números com variáveis não numéricas\n",
    "5 + 'string'"
   ]
  },
  {
   "cell_type": "code",
   "execution_count": null,
   "metadata": {},
   "outputs": [],
   "source": [
    "# entretanto é possível somar strings\n",
    "# a essa operação damos o nome de 'concatenação'\n",
    "str1 = 'Eu vou passar'\n",
    "str2 = 'no case da Talus'\n",
    "str_res = str1 + ' ' + str2\n",
    "str_res"
   ]
  },
  {
   "cell_type": "code",
   "execution_count": null,
   "metadata": {},
   "outputs": [],
   "source": [
    "# subtração\n",
    "a = 5\n",
    "b = 2.5\n",
    "a - b"
   ]
  },
  {
   "cell_type": "code",
   "execution_count": null,
   "metadata": {},
   "outputs": [],
   "source": [
    "# não é possível realizar o mesmo com strings novamente\n",
    "str1 = 'Eu vou passar no case da Talus'\n",
    "str2 = 'Talus'\n",
    "str1 - str2"
   ]
  },
  {
   "cell_type": "code",
   "execution_count": null,
   "metadata": {},
   "outputs": [],
   "source": [
    "# multiplicação\n",
    "a = 3.14\n",
    "b = -2\n",
    "a*b"
   ]
  },
  {
   "cell_type": "code",
   "execution_count": null,
   "metadata": {},
   "outputs": [],
   "source": [
    "# dessa vez é possível usar essa operação com strings\n",
    "str1 = '*'\n",
    "str1*5"
   ]
  },
  {
   "cell_type": "code",
   "execution_count": null,
   "metadata": {},
   "outputs": [],
   "source": [
    "# divisão\n",
    "a = 5\n",
    "b = 2\n",
    "a/b"
   ]
  },
  {
   "cell_type": "code",
   "execution_count": null,
   "metadata": {},
   "outputs": [],
   "source": [
    "# se usarmos duas barras inclinadas conseguiremos apenas a parte inteira da divisão\n",
    "a//b"
   ]
  },
  {
   "cell_type": "code",
   "execution_count": null,
   "metadata": {},
   "outputs": [],
   "source": [
    "# cuidado ao dividir por zero!\n",
    "# veja o erro que você obteria\n",
    "3.14/0"
   ]
  },
  {
   "cell_type": "code",
   "execution_count": null,
   "metadata": {},
   "outputs": [],
   "source": [
    "# exponenciação\n",
    "# a operação de exponenciação é realizada usando dois asteriscos de multiplicação\n",
    "a = 4\n",
    "a**2"
   ]
  },
  {
   "cell_type": "code",
   "execution_count": null,
   "metadata": {},
   "outputs": [],
   "source": [
    "# também é possível realizar a operação utilizando a função pow()\n",
    "pow(16,0.5)\n",
    "# note que o resultado da radiação é um float e não um inteiro"
   ]
  },
  {
   "cell_type": "code",
   "execution_count": null,
   "metadata": {},
   "outputs": [],
   "source": [
    "# módulo\n",
    "# o operador módulo representada por '%' devolve o resto da divisão entre dois números\n",
    "5%2"
   ]
  },
  {
   "cell_type": "code",
   "execution_count": null,
   "metadata": {},
   "outputs": [],
   "source": [
    "# arredondamento\n",
    "# é possível arredondar números usando a função round\n",
    "pi = 3.14159265359\n",
    "print('O número completo é {0}\\nO número arredondado para duas casas decimais é {1}'.format(pi, round(pi,2)))"
   ]
  },
  {
   "cell_type": "code",
   "execution_count": null,
   "metadata": {},
   "outputs": [],
   "source": [
    "# valor absoluto\n",
    "# a função abs() retorna o valor absoluto de um número\n",
    "abs(-2.71)"
   ]
  },
  {
   "cell_type": "code",
   "execution_count": null,
   "metadata": {},
   "outputs": [],
   "source": [
    "# serve inclusive para números complexos\n",
    "# seja um número complexo z = a + bj -> abs(z) = raiz(a² + b²)\n",
    "z = 3 + 4j\n",
    "abs(z)"
   ]
  },
  {
   "cell_type": "code",
   "execution_count": null,
   "metadata": {},
   "outputs": [],
   "source": [
    "# ainda sobre números complexos\n",
    "# é possível obter a parte real e imaginária de um número complexo\n",
    "# basta usar os atribulos .real e .imag\n",
    "print('A parte real de {0} é {1} e a parte imaginária é {2}'.format(z, z.real, z.imag))\n",
    "\n",
    "# não se preocupe agora com o significado de atributo\n",
    "# você também verá isso"
   ]
  },
  {
   "cell_type": "code",
   "execution_count": null,
   "metadata": {},
   "outputs": [],
   "source": [
    "# comparação\n",
    "# esse conjunto de operações retorna um valor booleano que verifica a veracidade do que foi dito\n",
    "a = 2\n",
    "b = 3.14\n",
    "a == b"
   ]
  },
  {
   "cell_type": "code",
   "execution_count": null,
   "metadata": {},
   "outputs": [],
   "source": [
    "# perceba que a comparação é feita utilizando dois símbolos de igualdade\n",
    "# um único símbolo tem valor de atribuição, duplo símbolos têm valor de comparação\n",
    "# da mesma forma, é possível verificar a desigualdade, nesse caso usamos como sinal '!='\n",
    "a != b"
   ]
  },
  {
   "cell_type": "code",
   "execution_count": null,
   "metadata": {},
   "outputs": [],
   "source": [
    "# você pode usar ainda símbolos como >, <, >= (maior que ou igual), <= (menor que ou igual)\n",
    "a <= b"
   ]
  },
  {
   "cell_type": "markdown",
   "metadata": {},
   "source": [
    "## Manipulação de strings\n",
    "<div id=\"operacoes-strings\"></div>"
   ]
  },
  {
   "cell_type": "markdown",
   "metadata": {},
   "source": [
    "Como vimos, existem algumas operações de números são aplicáveis a strings. Nessa parte, vamos ver algumas operações desse tipo de variável"
   ]
  },
  {
   "cell_type": "code",
   "execution_count": 1,
   "metadata": {
    "tags": []
   },
   "outputs": [
    {
     "output_type": "stream",
     "name": "stdout",
     "text": "\"Make it work, make it right, make it fast.\"\n-Kent Beck\n"
    }
   ],
   "source": [
    "# se quiser acrescentar cotações ou marcações com aspas em uma string\n",
    "# é preciso mesclar entre aspas simples e aspas duplas\n",
    "string = '\"Make it work, make it right, make it fast.\"\\n-Kent Beck'\n",
    "print(string)"
   ]
  },
  {
   "cell_type": "code",
   "execution_count": null,
   "metadata": {},
   "outputs": [],
   "source": [
    "# perceba que usamos uma estrutura peculiar na string anterior: um '\\n'\n",
    "# essas estruturas nos permitem adicionar elementos de espaçamento a uma string\n",
    "# como quebra de linha ou tabeamento (nesse caso seria \\t)\n",
    "string = 'exemplo de\\ttabeamento'\n",
    "print(string)"
   ]
  },
  {
   "cell_type": "code",
   "execution_count": null,
   "metadata": {},
   "outputs": [],
   "source": [
    "# nesse caso, perceba que simplesmente convocar a string e executar a célula\n",
    "# não ocuta a estrutura de espaçamento\n",
    "string"
   ]
  },
  {
   "cell_type": "code",
   "execution_count": null,
   "metadata": {},
   "outputs": [],
   "source": [
    "# é possível convocar caracteres ou grupos de caracteres de uma string\n",
    "# para isso, passamos, entre colchetes, o index do caracter\n",
    "# lembre-se que em Python a indexação inicia-se em 0\n",
    "# então em 'Talus Insper' o elemento 0 é o 'T' e o elemento 1 é o 'a'\n",
    "string = 'Talus Insper'\n",
    "string[3]"
   ]
  },
  {
   "cell_type": "code",
   "execution_count": null,
   "metadata": {},
   "outputs": [],
   "source": [
    "# você pode passar ainda uma range de valores\n",
    "# atente que em Python a range de 0 a n invocaria os n primeiros elementos, portanto de 0 a n-1\n",
    "string[0:4]"
   ]
  },
  {
   "cell_type": "code",
   "execution_count": null,
   "metadata": {},
   "outputs": [],
   "source": [
    "# perceba que o último caracter apresentado é o 'u' que tem index 3\n",
    "# é possível ainda regular o tamanho do passo\n",
    "string[0:4:2]"
   ]
  },
  {
   "cell_type": "code",
   "execution_count": null,
   "metadata": {},
   "outputs": [],
   "source": [
    "# nessa célula, nós pedimos dos elementos 0 a 3 pulando de dois em dois elementos\n",
    "# a sintaxe então seria [index_start:index_stop+1:step]\n",
    "# uma curiosidade é que números negativos também são possível\n",
    "string[::-1]"
   ]
  },
  {
   "cell_type": "code",
   "execution_count": null,
   "metadata": {},
   "outputs": [],
   "source": [
    "# nesse caso foi printado do elemento final até o inicial, já que o step é negativo\n",
    "# e portanto está voltando\n",
    "# você pode ainda controlar o elemento final sem contar os caracteres\n",
    "# imagine que você não quer os últimos três caracteres de uma string\n",
    "string[:-3]"
   ]
  },
  {
   "cell_type": "code",
   "execution_count": null,
   "metadata": {},
   "outputs": [],
   "source": [
    "# ou que você não queira os três primeiros\n",
    "string[3:]"
   ]
  },
  {
   "cell_type": "code",
   "execution_count": null,
   "metadata": {},
   "outputs": [],
   "source": [
    "# atente que você pode mudar uma string por outra\n",
    "# mas não pode mudar um único caracter\n",
    "string[0] = 'C'"
   ]
  },
  {
   "cell_type": "code",
   "execution_count": null,
   "metadata": {},
   "outputs": [],
   "source": [
    "# existem algumas funções muito práticas para lidarmos com strings\n",
    "# como a função len() que nos devolve o tamanho de uma string\n",
    "print(\"{0} possui {1} caracteres\".format(string, len(string)))\n",
    "\n",
    "# espaço e elementos como \\n como UM único caracter\n",
    "print(len('\\n'))"
   ]
  },
  {
   "cell_type": "code",
   "execution_count": null,
   "metadata": {},
   "outputs": [],
   "source": [
    "# os métodos upper() e lower() deixam uma string maiuscula ou minuscula, respectivamente\n",
    "string.upper()"
   ]
  },
  {
   "cell_type": "code",
   "execution_count": null,
   "metadata": {},
   "outputs": [],
   "source": [
    "string.lower()"
   ]
  },
  {
   "cell_type": "code",
   "execution_count": null,
   "metadata": {},
   "outputs": [],
   "source": [
    "# os métodos NÃO altera a string original\n",
    "# métodos devem ser passados após a variável diferente de funções\n",
    "# calma que você ainda vai entender o porque"
   ]
  },
  {
   "cell_type": "code",
   "execution_count": null,
   "metadata": {},
   "outputs": [],
   "source": [
    "# o método split() divide a string em função de um caracter\n",
    "string.split('s')"
   ]
  },
  {
   "cell_type": "code",
   "execution_count": null,
   "metadata": {},
   "outputs": [],
   "source": [
    "# perceba que a string foi dividida em função de 's'\n",
    "# caso não passe nenhum argumento, a string será dividida em função do espaço ' '\n",
    "string.split()"
   ]
  },
  {
   "cell_type": "code",
   "execution_count": null,
   "metadata": {},
   "outputs": [],
   "source": [
    "# o método count() devolve o número de aparições de um caracter ou de uma substring\n",
    "string.count('s')"
   ]
  },
  {
   "cell_type": "code",
   "execution_count": null,
   "metadata": {},
   "outputs": [],
   "source": [
    "# caso de uma substring\n",
    "string.count('Talus')"
   ]
  },
  {
   "cell_type": "code",
   "execution_count": null,
   "metadata": {},
   "outputs": [],
   "source": [
    "# o método find() acha o index da primeira aparição de um caracter\n",
    "string.find('s')"
   ]
  },
  {
   "cell_type": "code",
   "execution_count": null,
   "metadata": {},
   "outputs": [],
   "source": [
    "# Python é uma linguagem muito prática pois várias estruturas de condição seguem a linguagem natural falada\n",
    "# por exemplo a seguinte linha de código verifica se a substring 'Insper' está contida em 'Talus Insper'\n",
    "'Insper' in 'Talus Insper'\n",
    "\n",
    "# bem intuitivo, não?"
   ]
  },
  {
   "cell_type": "markdown",
   "metadata": {},
   "source": [
    "## Estruturas básicas\n",
    "<div id=\"estruturas\"></div>"
   ]
  },
  {
   "cell_type": "markdown",
   "metadata": {},
   "source": [
    "Em Python temos algumas estruturas muito úteis que ajudam a guardar e manipular mais facilmente dados e variáveis"
   ]
  },
  {
   "cell_type": "markdown",
   "metadata": {},
   "source": [
    "A primeira estrutura útil são as __listas__!"
   ]
  },
  {
   "cell_type": "code",
   "execution_count": null,
   "metadata": {},
   "outputs": [],
   "source": [
    "# O primeiro objeto é a lista. Diferentemente de várias linguagems\n",
    "# em Python não possuimos arrays propriamente ditos,\n",
    "# usamos sempre uma lista para guardar uma série de dados.\n",
    "\n",
    "# para declararmos uma lista, basta escrevermos os elementos separados por vírgulas entre colchetes\n",
    "lista = [2, 4, 6, 8, 10]\n",
    "\n",
    "print(lista)\n",
    "print(type(lista))"
   ]
  },
  {
   "cell_type": "code",
   "execution_count": null,
   "metadata": {},
   "outputs": [],
   "source": [
    "# perceba que pode haver, ainda, listas vazias\n",
    "# ou listas com elementos de vários tipos\n",
    "\n",
    "# perceba que até listas podem estar dentro de listas!\n",
    "lista1 = [1, -2, 'string', 3.14, []]\n",
    "\n",
    "lista2 = []\n",
    "\n",
    "print(lista1)\n",
    "print(lista2)"
   ]
  },
  {
   "cell_type": "code",
   "execution_count": null,
   "metadata": {},
   "outputs": [],
   "source": [
    "# você ainda pode gerar listas usando a função list()\n",
    "\n",
    "lista = list()\n",
    "lista"
   ]
  },
  {
   "cell_type": "code",
   "execution_count": null,
   "metadata": {},
   "outputs": [],
   "source": [
    "# essa função pode receber argumentos e eles serão convertidos em listas\n",
    "\n",
    "lista = list('Talus')\n",
    "lista"
   ]
  },
  {
   "cell_type": "code",
   "execution_count": null,
   "metadata": {},
   "outputs": [],
   "source": [
    "# você pode se referir a um item de uma lista convocando seu index\n",
    "# como visto, a contagem em python começa do zero\n",
    "# então se quisermos o termo -2 da lista1, por exemplo, ele é o termo de index 1\n",
    "\n",
    "print(lista1[1])\n",
    "print(lista1[4])"
   ]
  },
  {
   "cell_type": "code",
   "execution_count": null,
   "metadata": {},
   "outputs": [],
   "source": [
    "# você pode ainda remover ou acrescentar novos elementos a uma lista\n",
    "lista = []\n",
    "print('Lista antes de acrescentar elemento: {}'.format(lista))\n",
    "\n",
    "# para acrescentar elementos usamos o método .append()\n",
    "lista.append('Talus')\n",
    "lista.append('Insper')\n",
    "print('Lista após acrescentar elementos: {}'.format(lista))\n",
    "\n",
    "# e, para excluirmos, podemos usar o método .remove()\n",
    "lista.remove('Insper')\n",
    "print('Lista após remover um elemento: {}'.format(lista))"
   ]
  },
  {
   "cell_type": "code",
   "execution_count": null,
   "metadata": {},
   "outputs": [],
   "source": [
    "# perceba que uma lista pode ser vista como um vetor unidimensional de elementos\n",
    "# podemos, ainda, criar listas com dimensões maiores\n",
    "# para isso, criamos uma \"lista de listas\"\n",
    "\n",
    "lista2D = [[1,2,3],[4,5,6],[7,8,9]]\n",
    "print(lista2D)"
   ]
  },
  {
   "cell_type": "code",
   "execution_count": null,
   "metadata": {},
   "outputs": [],
   "source": [
    "# a lista criada pode ser vista como uma matriz de números\n",
    "# pode ser mais fácil visualizar da seguinte maneira\n",
    "\n",
    "print(\"{0}\\n{1}\\n{2}\".format(lista2D[0],lista2D[1],lista2D[2]))"
   ]
  },
  {
   "cell_type": "code",
   "execution_count": null,
   "metadata": {},
   "outputs": [],
   "source": [
    "# você pode ainda criar listas de 3, 4, 10, 50 ou quantas dimensões quiser\n",
    "# para tratar de vetores em dimensões mais altas usamos tensores\n",
    "# eles são uma das criações matemáticas responsáveis pela ascensão do Deep Learning\n",
    "# mas você vai aprender mais sobre isso quando você se juntar a gente! 😉"
   ]
  },
  {
   "cell_type": "code",
   "execution_count": null,
   "metadata": {},
   "outputs": [],
   "source": [
    "# para se referir a um elemento de um vetor de mais dimensões\n",
    "# temos que criar uma cadeia de index que precisamos passar até chegar nesse\n",
    "# por exemplo, em lista2D, o elemento 6 tem index 2 para a lista da qual faz parte\n",
    "# essa lista, por sua vez, tem index 1 para a lista2D\n",
    "# logo a cadeira será 1 -> 2 para acessarmos o elemento 6\n",
    "\n",
    "print(lista2D[1][2])"
   ]
  },
  {
   "cell_type": "markdown",
   "metadata": {},
   "source": [
    "É possível fazer ainda operações com listas:"
   ]
  },
  {
   "cell_type": "code",
   "execution_count": null,
   "metadata": {},
   "outputs": [],
   "source": [
    "# somar listas\n",
    "lista1 = [1,2,3]\n",
    "lista2 = [4,5,6]\n",
    "\n",
    "lista1+lista2"
   ]
  },
  {
   "cell_type": "code",
   "execution_count": null,
   "metadata": {},
   "outputs": [],
   "source": [
    "# você pode até multiplicar uma lista por um inteiro\n",
    "# é o equivalente a somar aquela lista com sigo mesma\n",
    "lista = [1,2,3]\n",
    "\n",
    "lista*4"
   ]
  },
  {
   "cell_type": "code",
   "execution_count": null,
   "metadata": {},
   "outputs": [],
   "source": [
    "# perceba que listas são muito parecidas com strings\n",
    "# na verdade, strings é que são parecidos com listas!\n",
    "# assim como em outras linguagens, uma string é um array/vetor/lista de caracteres\n",
    "# então as operações de string também servem aquim\n",
    "\n",
    "lista = ['Talus','Insper',10,'Machine Learning']\n",
    "print('Talus' in lista)"
   ]
  },
  {
   "cell_type": "markdown",
   "metadata": {},
   "source": [
    "Algumas funções built-in úteis para listas são:"
   ]
  },
  {
   "cell_type": "code",
   "execution_count": null,
   "metadata": {},
   "outputs": [],
   "source": [
    "# obter tamanho de uma lista\n",
    "# para isso usamos a função len()\n",
    "\n",
    "lista = [0,1,2,3,4,5,6,7]\n",
    "len(lista)"
   ]
  },
  {
   "cell_type": "code",
   "execution_count": null,
   "metadata": {},
   "outputs": [],
   "source": [
    "# retornar o máximo valor de uma lista\n",
    "\n",
    "max(lista)"
   ]
  },
  {
   "cell_type": "code",
   "execution_count": null,
   "metadata": {},
   "outputs": [],
   "source": [
    "# retornar o mínimo valor de uma lista\n",
    "\n",
    "min(lista)"
   ]
  },
  {
   "cell_type": "code",
   "execution_count": null,
   "metadata": {},
   "outputs": [],
   "source": [
    "# contar o número de termos numa lista\n",
    "\n",
    "lista = ['Talus','Insper','Talus','Machine Learning','IA']\n",
    "lista.count('Talus')"
   ]
  },
  {
   "cell_type": "code",
   "execution_count": null,
   "metadata": {},
   "outputs": [],
   "source": [
    "# pegar o index da primeira aparição\n",
    "\n",
    "lista.index('Insper')"
   ]
  },
  {
   "cell_type": "code",
   "execution_count": null,
   "metadata": {},
   "outputs": [],
   "source": [
    "# inserir elementos em outra posição\n",
    "\n",
    "# acrescentando 'Data Science' a posição de index 2\n",
    "lista.insert(2, 'Data Science')\n",
    "lista"
   ]
  },
  {
   "cell_type": "code",
   "execution_count": null,
   "metadata": {},
   "outputs": [],
   "source": [
    "# reverter a ordem dos elementos\n",
    "\n",
    "lista.reverse()\n",
    "lista"
   ]
  },
  {
   "cell_type": "code",
   "execution_count": null,
   "metadata": {},
   "outputs": [],
   "source": [
    "# sortear os elementos de uma lista\n",
    "\n",
    "lista = [3.14, -1, 5, 0, 2]\n",
    "lista.sort()\n",
    "lista"
   ]
  },
  {
   "cell_type": "markdown",
   "metadata": {},
   "source": [
    "Imagine agora que você precisasse criar uma maneira de relacionar as disciplinas do primeiro ano de engenharia do Insper com o semestre dessa disciplina. Com os conhecimentos até aqui você poderia pensar em criar duas listas: uma com os nomes das disciplinas e, para cada disciplina, o semestre em outra lista com o mesmo index"
   ]
  },
  {
   "cell_type": "code",
   "execution_count": null,
   "metadata": {},
   "outputs": [],
   "source": [
    "disciplinas = ['GDE','DeSoft','ModSim','InstruMed','NatDes','MatVar','CDados','Acionas','CoDes','FisMov']\n",
    "semestre = ['1° Semestre','1° Semestre','1° Semestre','1° Semestre','1° Semestre',\n",
    "            '2° Semestre','2° Semestre','2° Semestre','2° Semestre','2° Semestre']"
   ]
  },
  {
   "cell_type": "code",
   "execution_count": null,
   "metadata": {},
   "outputs": [],
   "source": [
    "# dessa forma\n",
    "\n",
    "print('{0} é uma matéria do {1}. Já {2} é uma matéria do {3}'\n",
    "      .format(disciplinas[5],semestre[5],disciplinas[0],semestre[0]))"
   ]
  },
  {
   "cell_type": "markdown",
   "metadata": {},
   "source": [
    "Uma maneira ainda mais eficiente seria criar uma única lista com dois elementos: 1° e 2° semestre e outra lista com duas listas: uma com as matérias do primeiro semestre e outra com as matérias do segundo"
   ]
  },
  {
   "cell_type": "code",
   "execution_count": null,
   "metadata": {},
   "outputs": [],
   "source": [
    "semestre = ['1° Semestre','2° Semestre']\n",
    "disciplinas = [['GDE','DeSoft','ModSim','InstruMed','NatDes'],['MatVar','CDados','Acionas','CoDes','FisMov']]\n",
    "\n",
    "print('{0} é uma matéria do {1}. Já {2} é uma matéria do {3}'\n",
    "      .format(disciplinas[1][2],semestre[1],disciplinas[0][1],semestre[0]))"
   ]
  },
  {
   "cell_type": "markdown",
   "metadata": {},
   "source": [
    "Mas ainda existe um jeito ainda mais eficiente. A próxima estrutura que vamos falar sobre resolve esse problema muito mais fácil. Essa estrutura são os __dicionários__"
   ]
  },
  {
   "cell_type": "code",
   "execution_count": null,
   "metadata": {},
   "outputs": [],
   "source": [
    "# Um dicionário simples contendo o nome, sobrenome e a idade de uma pessoa.\n",
    "dicionario = {'Nome': 'Joseph', 'Sobrenome': 'Joestrela', 'Idade': 69}\n",
    "\n",
    "# Vamos acessar o sobrenome dessa pessoa usando a chave 'Sobrenome'\n",
    "print(dicionario['Sobrenome'])\n",
    "\n",
    "# Vamos acessar agora a idade dessa pessoa com a chave 'Idade'\n",
    "print(dicionario['Idade'])"
   ]
  },
  {
   "cell_type": "code",
   "execution_count": null,
   "metadata": {},
   "outputs": [],
   "source": [
    "# você pode ainda criar dicionários através da função dict()\n",
    "\n",
    "dicionario = dict()\n",
    "dicionario"
   ]
  },
  {
   "cell_type": "code",
   "execution_count": null,
   "metadata": {},
   "outputs": [],
   "source": [
    "# é possível adicionar elementos a esse dicionário da seguinte forma\n",
    "\n",
    "dicionario['key'] = 'value'\n",
    "dicionario['pi'] = 3.14\n",
    "dicionario"
   ]
  },
  {
   "cell_type": "code",
   "execution_count": null,
   "metadata": {},
   "outputs": [],
   "source": [
    "# Assim como a lista, o dicionário possui algumas funções muito uteis para facilitar sua manipulação.\n",
    "# A função values() retorna todos os valores das chaves do dicionário.\n",
    "\n",
    "dicionario = {'Nome': 'Joseph', 'Sobrenome': 'Joestrela', 'Idade': 69}\n",
    "\n",
    "dicionario.values()"
   ]
  },
  {
   "cell_type": "code",
   "execution_count": null,
   "metadata": {},
   "outputs": [],
   "source": [
    "# A função keys() retorna todas as chaves do dicionário\n",
    "\n",
    "dicionario = {'Nome': 'Joseph', 'Sobrenome': 'Joestrela', 'Idade': 69}\n",
    "\n",
    "dicionario.keys()"
   ]
  },
  {
   "cell_type": "code",
   "execution_count": null,
   "metadata": {},
   "outputs": [],
   "source": [
    "# A função pop() nos dicionários funciona de uma maneira muito semelhante a sua semelhante nas listas, contudo, usaremos\n",
    "# as chaves ao inves dos indices\n",
    "\n",
    "dicionario = {'Nome': 'Joseph', 'Sobrenome': 'Joestrela', 'Idade': 69}\n",
    "\n",
    "nome = dicionario.pop('Nome')\n",
    "\n",
    "# O nome da pessoa obtido através da função pop()\n",
    "print(nome)\n",
    "\n",
    "# Perceba que a chave 'Nome', assim como seu valor foram perdidos\n",
    "print(dicionario)"
   ]
  },
  {
   "cell_type": "code",
   "execution_count": null,
   "metadata": {},
   "outputs": [],
   "source": [
    "# A função popitem() funciona como a função pop() em listas quando não especificamos o indice, removendo o ultimo\n",
    "# item junto a sua chave e os retornando.\n",
    "\n",
    "dicionario = {'Nome': 'Joseph', 'Sobrenome': 'Joestrela', 'Idade': 69}\n",
    "\n",
    "idade = dicionario.popitem()\n",
    "\n",
    "# A idade da pessoa\n",
    "print(idade)\n",
    "\n",
    "# Perceba como o ultimo item do dicionario foi perdido junto a sua chave\n",
    "print(dicionario)"
   ]
  },
  {
   "cell_type": "code",
   "execution_count": null,
   "metadata": {},
   "outputs": [],
   "source": [
    "# sendo assim, veja como poderíamos solucionar o problema das disciplinas\n",
    "\n",
    "semestre_disciplina = {'1° Semestre':['GDE','DeSoft','ModSim','InstruMed','NatDes'],\n",
    "                       '2° Semestre':['MatVar','CDados','Acionas','CoDes','FisMov']}\n",
    "\n",
    "semestre = '1° Semestre'\n",
    "print('{0} são disciplinas do {1}'\n",
    "      .format(semestre_disciplina[semestre], semestre))"
   ]
  },
  {
   "cell_type": "markdown",
   "metadata": {},
   "source": [
    "## Condicionais\n",
    "<div id=\"condicionais\"></div>"
   ]
  },
  {
   "cell_type": "markdown",
   "metadata": {},
   "source": [
    "Em Python existem estruturas condicionais como em outras linguagens de programação. Veja como utilizar algumas delas"
   ]
  },
  {
   "cell_type": "code",
   "execution_count": null,
   "metadata": {},
   "outputs": [],
   "source": [
    "# em Python é possível realizar comparações sem uma estrutura de comparação\n",
    "\n",
    "print(5 > 2)"
   ]
  },
  {
   "cell_type": "code",
   "execution_count": null,
   "metadata": {},
   "outputs": [],
   "source": [
    "# vê? Afinal, 5 realmente é maior que 2 até o momento em que escrevo isso\n",
    "# podemos relacionar essas condições com uma ação\n",
    "# como um \"acionador\"\n",
    "# veja como podemos fazer isso"
   ]
  },
  {
   "cell_type": "code",
   "execution_count": null,
   "metadata": {},
   "outputs": [],
   "source": [
    "# condicional if\n",
    "\n",
    "if 5>2:\n",
    "    print(\"5 é maior que 2, ufa!\")"
   ]
  },
  {
   "cell_type": "markdown",
   "metadata": {},
   "source": [
    "Algumas coisas são importantes notar:\n",
    "\n",
    "- Em Python não precisamos por as condições entre parênteses. Mas se você usar também funciona!\n",
    "- Python não possui chave para separar os blocos de código, mas a identação é muito importante!\n",
    "- Não esqueça os dois pontos também!"
   ]
  },
  {
   "cell_type": "code",
   "execution_count": null,
   "metadata": {},
   "outputs": [],
   "source": [
    "# multiplas condições\n",
    "# é possível usar multiplas condições em um único if usando operadores lógicos and e or\n",
    "\n",
    "if (5 > 2 and 3 < 6):\n",
    "    print(\"Deu certo!\")\n",
    "    \n",
    "if (5 > 2 or 3 > 6):\n",
    "    print(\"Também deu certo!\")"
   ]
  },
  {
   "cell_type": "code",
   "execution_count": null,
   "metadata": {},
   "outputs": [],
   "source": [
    "# o condicional and é equivalente a utilizar um if dentro de outro\n",
    "\n",
    "if 5 > 2:\n",
    "    if 3 < 6:\n",
    "        print(\"Vê?\")"
   ]
  },
  {
   "cell_type": "code",
   "execution_count": null,
   "metadata": {},
   "outputs": [],
   "source": [
    "# já o condicional or é equivalente a escrever dois if separadamente com a mesma ação\n",
    "\n",
    "if 5 > 2:\n",
    "    print(\"Okay, né?\")\n",
    "if 3 > 6:\n",
    "    print(\"Okay, né?\")"
   ]
  },
  {
   "cell_type": "markdown",
   "metadata": {},
   "source": [
    "Até agora fizemos operações usando os operadores \"maior que\" (>) e \"menor que\" (<). Mas atente para outros sinais:\n",
    "\n",
    "- maior que ou igual (>=)\n",
    "- menor que ou igual (<=)\n",
    "- igual (==)\n",
    "- diferente (!=)\n",
    "\n",
    "perceba que o operador de igualdade é \"==\", um único \"=\" significa atribuição, conforme vimos em variáveis. Dois \"=\" significam comparação."
   ]
  },
  {
   "cell_type": "code",
   "execution_count": null,
   "metadata": {},
   "outputs": [],
   "source": [
    "if 'Python' != 'Javascript':\n",
    "    print('Python é diferente de Javascript')\n",
    "\n",
    "lista1 = [1,2,3,4]\n",
    "lista2 = [5,6,7,8]\n",
    "\n",
    "if len(lista1) == len(lista2):\n",
    "    print('As lista têm o mesmo tamanho')\n",
    "    \n",
    "dicionario = {'Machine':'Learning','Inteligência':'Artificial'}\n",
    "\n",
    "if 'Machine' in dicionario:\n",
    "    print(dicionario['Machine'])"
   ]
  },
  {
   "cell_type": "code",
   "execution_count": null,
   "metadata": {},
   "outputs": [],
   "source": [
    "# acho que isso ficou claro\n",
    "# imagine agora que a condição não seja atendida\n",
    "# mas que sua negação também implique em uma ação\n",
    "# como você atacaria esse problema?"
   ]
  },
  {
   "cell_type": "code",
   "execution_count": null,
   "metadata": {},
   "outputs": [],
   "source": [
    "# em alguns casos, a resposta é simples\n",
    "# basta fazermos dois if: um com a condição e outro com sua negação\n",
    "\n",
    "if 3 > 6:\n",
    "    print('Algo está errado aqui...')\n",
    "if 3 <= 6:\n",
    "    print('Ufa!')\n",
    "    \n",
    "# a negação de \"3 maior que 6\" é \"3 menor que OU IGUAL a 6\""
   ]
  },
  {
   "cell_type": "code",
   "execution_count": null,
   "metadata": {},
   "outputs": [],
   "source": [
    "# mas em alguns casos, pensar na negação não é tão simples\n",
    "# para poupar-nos desse sofrimento, existe uma estrutura que faz isso por nós\n",
    "# esse é o else\n",
    "\n",
    "if 3 > 6:\n",
    "    print('Algo está errado aqui...')\n",
    "else:\n",
    "    print('Ufa!')"
   ]
  },
  {
   "cell_type": "code",
   "execution_count": null,
   "metadata": {},
   "outputs": [],
   "source": [
    "# o else não exige nenhuma condição\n",
    "# ele sempre nega o if imediatamente anterior a este\n",
    "# se houver alguma estrutura entre estes você terá um erro\n",
    "\n",
    "num1 = 3\n",
    "num2 = 6\n",
    "\n",
    "if num1 > num2:\n",
    "    print('Algo está errado aqui...')\n",
    "    \n",
    "num1 = 5\n",
    "    \n",
    "else:\n",
    "    print('Ufa!')"
   ]
  },
  {
   "cell_type": "code",
   "execution_count": null,
   "metadata": {},
   "outputs": [],
   "source": [
    "# mas nesse caso de verificar se um número é maior que outro\n",
    "# ou em outros casos\n",
    "# a negação inclui várias possibilidades\n",
    "# nesse caso, por exemplo, num1 poderia ser menor que num2 ou poderia ser igual\n",
    "# o else inclui ambas possibilidades\n",
    "# se você quiser atacar cada uma separadamente pode usar a estrutura elif\n",
    "\n",
    "num1 = 3\n",
    "num2 = 6\n",
    "\n",
    "if num1 > num2:\n",
    "    print('{} > {}'.format(num1, num2))\n",
    "elif num1 == num2:\n",
    "    print('{} = {}'.format(num1, num2))\n",
    "elif num1 < num2:\n",
    "    print('{} < {}'.format(num1, num2))\n",
    "    \n",
    "# já o elif requer uma condição"
   ]
  },
  {
   "cell_type": "markdown",
   "metadata": {},
   "source": [
    "## Estruturas de loop e repetição\n",
    "<div id=\"loops\"></div>"
   ]
  },
  {
   "cell_type": "markdown",
   "metadata": {},
   "source": [
    "Agora imagine que você queira realizar uma ação constantemente __enquanto__ a condição for verdadeira.\n",
    "\n",
    "Para isso, você pode utilizar as funções de loop do Python. Começando pela mais simples de todas (e com o nome mais intuitivo) o *while*"
   ]
  },
  {
   "cell_type": "code",
   "execution_count": null,
   "metadata": {},
   "outputs": [],
   "source": [
    "# imagine que você quer printar o valor de um contador enquanto ele for menor que um certo limite\n",
    "# sendo esse contador acrescido de uma unidade após cada comparação\n",
    "# o if não atenderia sua demanda pois, do contrário, você teria que escrever vários if consecutivamente\n",
    "\n",
    "# printar o valor de count enquanto count < limit:\n",
    "\n",
    "count = 0\n",
    "limit = 10\n",
    "if count < limit:\n",
    "    count += 1\n",
    "else:\n",
    "    print(count)\n",
    "    \n",
    "if count < limit:\n",
    "    count += 1\n",
    "else:\n",
    "    print(count)\n",
    "    \n",
    "# ...\n",
    "# você já entendeu onde isso vai dar e, claramente, não é o mais eficiente"
   ]
  },
  {
   "cell_type": "code",
   "execution_count": null,
   "metadata": {},
   "outputs": [],
   "source": [
    "# o while pode te ajudar com esse problema, veja como funciona a estrutura:\n",
    "\n",
    "count = 0\n",
    "limit = 10\n",
    "\n",
    "while count < limit:\n",
    "    count += 1\n",
    "print(count)\n",
    "\n",
    "# muito simples, né?"
   ]
  },
  {
   "cell_type": "code",
   "execution_count": null,
   "metadata": {},
   "outputs": [],
   "source": [
    "# o while também aceita um condicional else\n",
    "\n",
    "count = 0\n",
    "limit = 10\n",
    "\n",
    "while count < limit:\n",
    "    print('Count ainda é menor que limit')\n",
    "    count += 1\n",
    "else:\n",
    "    print(count)"
   ]
  },
  {
   "cell_type": "code",
   "execution_count": null,
   "metadata": {},
   "outputs": [],
   "source": [
    "# essa estrutura acima é chamada de while controlado por contador\n",
    "# nesse caso, a variável controlada também é usada na condição\n",
    "# mas existem outros tipos, por exemplo, while controlado por sentinela\n",
    "# nesse caso, a condição usa um valor \"sentinela\" definido para parar o loop\n",
    "\n",
    "sentinel = 'h'\n",
    "position = 0\n",
    "word = 'Python'\n",
    "letter = word[position]\n",
    "\n",
    "while letter != sentinel:\n",
    "    position += 1\n",
    "    letter = word[position]\n",
    "print('{0} está na posição {1} na palavra {2}'.format(sentinel, position, word))"
   ]
  },
  {
   "cell_type": "code",
   "execution_count": null,
   "metadata": {},
   "outputs": [],
   "source": [
    "# existem diversos outros tipos, mas não é nosso foco estudarmos isso\n",
    "# esses dois tipos já nos satisfazem bem"
   ]
  },
  {
   "cell_type": "code",
   "execution_count": null,
   "metadata": {},
   "outputs": [],
   "source": [
    "# existem alguns comandos úteis que podem ser usados em conjunto com o while\n",
    "# veja alguns destes\n",
    "\n",
    "# pass\n",
    "# este pode ser usado para pular uma etapa do while\n",
    "\n",
    "count = 0\n",
    "limit = 10\n",
    "\n",
    "while count < limit:\n",
    "    if count < 4:\n",
    "        pass\n",
    "    else:\n",
    "        print(count)\n",
    "    count += 1"
   ]
  },
  {
   "cell_type": "code",
   "execution_count": null,
   "metadata": {},
   "outputs": [],
   "source": [
    "# perceba que o pass não ignora o código fora do if\n",
    "\n",
    "count = 0\n",
    "limit = 10\n",
    "\n",
    "while count < limit:\n",
    "    if count < 4:\n",
    "        pass\n",
    "    print(count)\n",
    "    count += 1\n",
    "\n",
    "# mas existe um comando com uma utilidade parecida que o faz"
   ]
  },
  {
   "cell_type": "code",
   "execution_count": null,
   "metadata": {},
   "outputs": [],
   "source": [
    "# continue\n",
    "\n",
    "count = 0\n",
    "limit = 10\n",
    "\n",
    "while count < limit:\n",
    "    count += 1\n",
    "    if count < 4:\n",
    "        continue\n",
    "    print(count)\n",
    "    \n",
    "# perceba que o print, mesmo fora do if, foi ignorado\n",
    "# o continue literalmente pula essa etapa do while\n",
    "# se você não colocar a soma antes do continue, você iria ver que o while ficaria rodando infinitamente\n",
    "# uma vez que ele ignoraria essa ação"
   ]
  },
  {
   "cell_type": "code",
   "execution_count": null,
   "metadata": {},
   "outputs": [],
   "source": [
    "# break\n",
    "# este é um comando ainda mais radical uma vez que ele aborta o while, independente da condição superior\n",
    "\n",
    "count = 0\n",
    "limit = 10\n",
    "\n",
    "while count < limit:\n",
    "    if count == 4:\n",
    "        break\n",
    "    count += 1\n",
    "    print(count)"
   ]
  },
  {
   "cell_type": "markdown",
   "metadata": {},
   "source": [
    "Existe uma estrutura de loop que substitui e while e é mais prático algumas vezes. Este é o *for*"
   ]
  },
  {
   "cell_type": "code",
   "execution_count": null,
   "metadata": {},
   "outputs": [],
   "source": [
    "# o for é muito usado para ler listas, dicionários, sequências...\n",
    "# veja um exemplo\n",
    "\n",
    "carrinho = ['Machine Learning - Tom Mitchell', 'Deep Learning - Goodfellow et al', 'Hands-on Machine Learning - Aurelion Geron']\n",
    "\n",
    "for item in carrinho:\n",
    "    print(item)"
   ]
  },
  {
   "cell_type": "code",
   "execution_count": null,
   "metadata": {},
   "outputs": [],
   "source": [
    "# você pode ainda varrer as chaves ou valores de um dicionário\n",
    "\n",
    "carrinho = {'Machine Learning':{'autor':'Mitchell, Tom', 'publisher':'McGraw-Hill'},\n",
    "            'Deep Learning':{'autor':'Goodfellow et al', 'publisher':'MIT Press'},\n",
    "            'Hands-on Machine Learning':{'autor':'Geron, Aurelion', 'publisher':'OReilly Media'}}\n",
    "\n",
    "print('TÍTULOS DOS LIVROS')\n",
    "for title in carrinho.items():\n",
    "    print(title)\n",
    "    \n",
    "print('\\nAUTORES DOS LIVROS')\n",
    "for item in carrinho.values():\n",
    "    print(item['autor'])"
   ]
  },
  {
   "cell_type": "code",
   "execution_count": null,
   "metadata": {},
   "outputs": [],
   "source": [
    "# o for pode ser usado em combinação com o range\n",
    "# o range gera uma 'lista' de números inteiros\n",
    "# entre aspas pois o range NÃO é uma lista\n",
    "# ainda que possa ser transformado em uma\n",
    "\n",
    "print(type(range(10)))\n",
    "print(range(10))"
   ]
  },
  {
   "cell_type": "code",
   "execution_count": null,
   "metadata": {},
   "outputs": [],
   "source": [
    "# o exemplo acima gera os 10 primeiros números inteiros a partir do zero\n",
    "\n",
    "for integer in range(10):\n",
    "    print(integer)"
   ]
  },
  {
   "cell_type": "code",
   "execution_count": null,
   "metadata": {},
   "outputs": [],
   "source": [
    "# o range recebe 3 argumentos:\n",
    "# range(start, stop, step)\n",
    "# se apenas um for passado, ele considera start=0 e step=1\n",
    "# veja um caso completo\n",
    "\n",
    "for integer in range(3,20,2):\n",
    "    print(integer)"
   ]
  },
  {
   "cell_type": "code",
   "execution_count": null,
   "metadata": {},
   "outputs": [],
   "source": [
    "# o step pode, inclusive, ser negativo\n",
    "# só atente que, nesse caso, stop < start\n",
    "\n",
    "for integer in range(10,0,-1):\n",
    "    print(integer)"
   ]
  },
  {
   "cell_type": "code",
   "execution_count": null,
   "metadata": {},
   "outputs": [],
   "source": [
    "# os comandos pass, continue e break também se aplicam ao for\n",
    "# a usabilidade do for é parecida com a do while, entretanto ele é mais fácil de ser inicializado e mais prático\n",
    "# veja um exemplo de como ele pode ser mais prático\n",
    "# imagine que você queira ler os itens da lista usada no primeiro exemplo\n",
    "# veja como seria com while\n",
    "\n",
    "count = 0\n",
    "carrinho = ['Machine Learning - Tom Mitchell', 'Deep Learning - Goodfellow et al', 'Hands-on Machine Learning - Aurelion Geron']\n",
    "limit = len(carrinho)\n",
    "\n",
    "while count < limit:\n",
    "    print(carrinho[count])\n",
    "    count += 1\n",
    "    \n",
    "# esse é apenas um exemplo\n",
    "# se você se dedicar a esse caminho desafiador do machine learning, você com certeza topará em vários outros"
   ]
  },
  {
   "cell_type": "markdown",
   "metadata": {},
   "source": [
    "## Funções\n",
    "<div id=\"funcoes\"></div>"
   ]
  },
  {
   "cell_type": "markdown",
   "metadata": {},
   "source": [
    "Imagine agora que você desenvolva uma estrutura de código com tudo que você já aprendeu até aqui e deseje testar a mesma estrutura com diferentes variáveis. Você sempre pode copiar e colar o código e mudar aquilo que julgar melhor, mas existe um jeito ainda mais fácil: transformar aquele seu código em uma *função*"
   ]
  },
  {
   "cell_type": "markdown",
   "metadata": {},
   "source": [
    "em Python usamos o comando *def* para criar uma função\n",
    "\n",
    "```python\n",
    "def funcao(input1, input2, input3, ...):\n",
    "    codigo_aqui\n",
    "    return output\n",
    "```"
   ]
  },
  {
   "cell_type": "code",
   "execution_count": null,
   "metadata": {},
   "outputs": [],
   "source": [
    "# veja um exemplo\n",
    "\n",
    "def somar_dois_numeros(num1, num2):\n",
    "    soma = num1 + num2\n",
    "    return soma"
   ]
  },
  {
   "cell_type": "code",
   "execution_count": null,
   "metadata": {},
   "outputs": [],
   "source": [
    "somar_dois_numeros(10, 20)"
   ]
  },
  {
   "cell_type": "code",
   "execution_count": null,
   "metadata": {},
   "outputs": [],
   "source": [
    "# você pode até mesmo usar funções dentro de funções\n",
    "\n",
    "def soma(num1, num2):\n",
    "    return num1+num2\n",
    "\n",
    "def multiplicacao(num1, num2):\n",
    "    return num1*num2\n",
    "\n",
    "def subtracao(num1, num2):\n",
    "    return num1-num2\n",
    "\n",
    "def divisao(num1, num2):\n",
    "    if num2 == 0:\n",
    "        return 'Impossível dividir um número por zero!'\n",
    "    return num1/num2\n",
    "\n",
    "def fatoracao(num1):\n",
    "    if num1 < 0:\n",
    "        return 'Impossível fatorar números negativos! E não venha com suas teorias de doutorado de que é possível!'\n",
    "    else:\n",
    "        fat = 1\n",
    "        while num1 > 1:\n",
    "            fat *= num1\n",
    "            num1 -= 1\n",
    "        return fat"
   ]
  },
  {
   "cell_type": "code",
   "execution_count": null,
   "metadata": {},
   "outputs": [],
   "source": [
    "def calculadora(num1, symbol, num2=0):\n",
    "    \n",
    "    '''\n",
    "    Função que simula uma calculadora simples\n",
    "    - num1: input1\n",
    "    - num2: input2, opcional no caso de fatorial\n",
    "    - symbol: símbolo que representa a operação desejada\n",
    "        - '+' para soma\n",
    "        - '-' para subtração\n",
    "        - '*' para multiplicação\n",
    "        - '/' para divisão\n",
    "        - '!' para fatoração\n",
    "    '''\n",
    "    \n",
    "    if symbol == '+':\n",
    "        return soma(num1, num2=0)\n",
    "    elif symbol == '-':\n",
    "        return subtracao(num1, num2=0)\n",
    "    elif symbol == '*':\n",
    "        return multiplicacao(num1, num2=1)\n",
    "    elif symbol == '/':\n",
    "        return divisao(num1, num2=1)\n",
    "    elif symbol == '!':\n",
    "        return fatoracao(num1)\n",
    "    \n",
    "    return 'Cheque seus inputs!'"
   ]
  },
  {
   "cell_type": "code",
   "execution_count": null,
   "metadata": {},
   "outputs": [],
   "source": [
    "# percebeu aquele imenso texto vermelho entre aspas simples?\n",
    "# isso se chama doc string\n",
    "# é uma string que explica o funcionamento de sua função, a documentação\n",
    "# é uma boa prática colocá-la sempre\n",
    "\n",
    "help(calculadora)"
   ]
  },
  {
   "cell_type": "markdown",
   "metadata": {},
   "source": [
    "## Trabalhando com arquivos\n",
    "<div id=\"arquivos\"></div>"
   ]
  },
  {
   "cell_type": "markdown",
   "metadata": {},
   "source": [
    "Se você é um usuário frequente de computador (imagino que você seja) você possui na sua máquina vários arquivos (files). Eles são ótimos para acessar, armazenar e manipular dados. Você vai ver agora como fazer isso com Python"
   ]
  },
  {
   "cell_type": "code",
   "execution_count": null,
   "metadata": {},
   "outputs": [],
   "source": [
    "# ler arquivos\n",
    "# para ler o conteúdo de um arquivo precisamos primeiro abrí-lo\n",
    "\n",
    "# para abrir um arquivo você usará a função open\n",
    "# ela recebe dois argumentos: o caminho (path) para o arquivo e uma letra que indica o que será feito\n",
    "# r no caso significa read, w significa write, a significa append...\n",
    "# existe uma variedade de outros, recomendamos que leia a documentação para conhecer mais\n",
    "file = open('./data/demo_read_file.txt','r')\n",
    "texto = file.read()\n",
    "print(texto)"
   ]
  },
  {
   "cell_type": "code",
   "execution_count": null,
   "metadata": {},
   "outputs": [],
   "source": [
    "# você pode ler quantos caracteres quiser\n",
    "\n",
    "texto = file.read(5)\n",
    "print(texto)"
   ]
  },
  {
   "cell_type": "code",
   "execution_count": null,
   "metadata": {},
   "outputs": [],
   "source": [
    "# pera, o que aconteceu aqui?\n",
    "# você também obteve um monte de NADA?\n",
    "# isso acontece porque, quando você lê um arquivo, o cursor é posto no final do texto\n",
    "# se você abrir o arquivo novamente, o cursor volta pra posição zero\n",
    "\n",
    "file = open('./data/demo_read_file.txt','r')\n",
    "texto = file.read(5)\n",
    "print(texto)"
   ]
  },
  {
   "cell_type": "code",
   "execution_count": null,
   "metadata": {},
   "outputs": [],
   "source": [
    "# você pode voltar para uma determinada posição usando o método seek()\n",
    "\n",
    "# nesse caso, estamos voltando à posição 0, o começo do arquivo\n",
    "file.seek(0,0)\n",
    "texto = file.read(6)\n",
    "print(texto)"
   ]
  },
  {
   "cell_type": "markdown",
   "metadata": {},
   "source": [
    "se quiser entender mais sobre como ler arquivos, vale dar uma lida nesse <a href=\"https://www.w3schools.com/python/python_file_open.asp\" target=\"_blank\">link</a>"
   ]
  },
  {
   "cell_type": "code",
   "execution_count": null,
   "metadata": {},
   "outputs": [],
   "source": [
    "# você pode ainda escrever em arquivos\n",
    "\n",
    "# antes de rodar essa célula!\n",
    "# verifique a pasta data e perceba que o arquivo demo_write_file.txt não existe\n",
    "# caso você já tenha rodado, tudo bem, apague esse arquivo e continue como se nada tivesse acontecido\n",
    "\n",
    "file = open('./data/demo_write_file.txt', 'w')\n",
    "texto = \"Hello! I'm the demo_write_file!\"\n",
    "file.write(texto)\n",
    "file.close()"
   ]
  },
  {
   "cell_type": "code",
   "execution_count": null,
   "metadata": {},
   "outputs": [],
   "source": [
    "# agora olhe a pasta novamente\n",
    "# viu que o arquivo foi criado?\n",
    "# isso é porque a tag 'w' cria um arquivo caso esse não exista\n",
    "# outra coisa que você deve notar é que eu usei agora um método .close()\n",
    "# isso porque o arquivo deve ser fechado após ser escrito"
   ]
  },
  {
   "cell_type": "code",
   "execution_count": null,
   "metadata": {},
   "outputs": [],
   "source": [
    "# vamos ver o que você escreveu no arquivo agora!\n",
    "\n",
    "file = open('./data/demo_write_file.txt','r')\n",
    "texto = file.read()\n",
    "print(texto)"
   ]
  },
  {
   "cell_type": "code",
   "execution_count": null,
   "metadata": {},
   "outputs": [],
   "source": [
    "# atenção!\n",
    "# se você precisar acrescentar algo a seu arquivo não use a tag 'w' novamente\n",
    "# isso porque você irá SOBRESCREVER o que você escreveu antes\n",
    "\n",
    "file = open('./data/demo_write_file.txt', 'w')\n",
    "texto = \"Ops! Algo de errado aconteceu aqui...\"\n",
    "file.write(texto)\n",
    "file.close()"
   ]
  },
  {
   "cell_type": "code",
   "execution_count": null,
   "metadata": {},
   "outputs": [],
   "source": [
    "file = open('./data/demo_write_file.txt','r')\n",
    "texto = file.read()\n",
    "print(texto)"
   ]
  },
  {
   "cell_type": "code",
   "execution_count": null,
   "metadata": {},
   "outputs": [],
   "source": [
    "# se quiser acrescentar algo, use a tag 'a' para fazer append de algo\n",
    "# eu sei, eu sei\n",
    "# talvez você saiba que existem outras formas de fazer isso\n",
    "# mas não vem ao caso aqui\n",
    "\n",
    "file = open('./data/demo_write_file.txt', 'a')\n",
    "texto = \"\\nDa próxima vez use a tag 'a' para acrescentar algo!\"\n",
    "file.write(texto)\n",
    "file.close()"
   ]
  },
  {
   "cell_type": "code",
   "execution_count": null,
   "metadata": {},
   "outputs": [],
   "source": [
    "file = open('./data/demo_write_file.txt','r')\n",
    "texto = file.read()\n",
    "print(texto)"
   ]
  },
  {
   "cell_type": "code",
   "execution_count": null,
   "metadata": {},
   "outputs": [],
   "source": [
    "# e não é só .txt que você pode manipular não\n",
    "# veja como poderíamos ler o arquivo housing.csv que você irá usar no projeto mais pra frente\n",
    "\n",
    "file = open('./data/housing.csv','r')\n",
    "conteudo = file.read()\n",
    "print(conteudo)"
   ]
  },
  {
   "cell_type": "code",
   "execution_count": null,
   "metadata": {},
   "outputs": [],
   "source": [
    "# bem desorganizado né?\n",
    "# isso tudo é um único texto\n",
    "# mas talvez seja útil separar esse texto em partes menores\n",
    "# as linhas talvez?\n",
    "\n",
    "# separando o texto pelo '\\n' que marca uma quebra de linha\n",
    "rows = conteudo.split('\\n')\n",
    "type(rows)"
   ]
  },
  {
   "cell_type": "code",
   "execution_count": null,
   "metadata": {},
   "outputs": [],
   "source": [
    "# agora você pode ver uma única linha\n",
    "rows[0]"
   ]
  },
  {
   "cell_type": "markdown",
   "metadata": {},
   "source": [
    "futuramente você vai aprender como tratar e visualizar esse tipo de arquivo de um jeito bem mais simples"
   ]
  },
  {
   "cell_type": "markdown",
   "metadata": {},
   "source": [
    "## Programação Orientada a Objetos (POO)\n",
    "<div id=\"poo\"><div>"
   ]
  },
  {
   "cell_type": "markdown",
   "metadata": {},
   "source": [
    "Um dos diferenciais de Python é que esta é uma língua orientada a objeto. Todos os tipos de variáveis estudadas até aqui são objetos (strings, floats...), com seus métodos e seus atributos. De agora em diante vamos ensiná-lo a criar seus próprios objetos, tipos de variáveis únicos.\n",
    "\n",
    "Programação Orientada a Objetos é só uma das formas de programação que existem. Se quiser entender mais sobre isso dá uma lida nesse <a href=\"https://pt.wikipedia.org/wiki/Programa%C3%A7%C3%A3o_orientada_a_objetos\" target=\"_blank\">link</a>"
   ]
  },
  {
   "cell_type": "code",
   "execution_count": null,
   "metadata": {},
   "outputs": [],
   "source": [
    "# para declararmos um objeto usamos a expressão class\n",
    "\n",
    "class Filme():\n",
    "    \n",
    "    # a função init é sempre necessária, sim, tem esses '_' mesmo\n",
    "    def __init__(self):\n",
    "        # self é uma expressão que usamos para nos referirmos ao objeto criado\n",
    "        self.titulo = 'Toy Story'\n",
    "        self.diretor = 'John Lasseter'\n",
    "        print('Você acabou de criar um objeto da classe filme!')\n",
    "        \n",
    "    def imprimir_titulo_e_autor(self):\n",
    "        print('{0} é um filme dirigido por {1}'.format(self.titulo, self.diretor))"
   ]
  },
  {
   "cell_type": "code",
   "execution_count": null,
   "metadata": {},
   "outputs": [],
   "source": [
    "# agora, para criar um objeto desse tipo, basta chamarmos o objeto\n",
    "# da mesma forma que para criarmos uma lista podemos apenas invocar a classe list()\n",
    "\n",
    "filme = Filme()"
   ]
  },
  {
   "cell_type": "code",
   "execution_count": null,
   "metadata": {},
   "outputs": [],
   "source": [
    "# você pode se perguntar qual o tipo dessa variável que criou, veja:\n",
    "\n",
    "type(filme)"
   ]
  },
  {
   "cell_type": "code",
   "execution_count": null,
   "metadata": {},
   "outputs": [],
   "source": [
    "# você pode estar se perguntando de que serve aquele self.titulo, aquela função que imprime os dados...\n",
    "# pois bem, agora você vai entender a diferença entre um atributo e um método"
   ]
  },
  {
   "cell_type": "code",
   "execution_count": null,
   "metadata": {},
   "outputs": [],
   "source": [
    "# de maneira bem simples, atributos são propriedades (características) de um objeto\n",
    "# já os métodos são as ações que estes objetos podem fazer\n",
    "\n",
    "# atributos são convocados da seguinte forma:\n",
    "print(filme.titulo)"
   ]
  },
  {
   "cell_type": "code",
   "execution_count": null,
   "metadata": {},
   "outputs": [],
   "source": [
    "# já os métodos são de uma maneira bem parecida, mas você precisa acrescentar () ao fim\n",
    "filme.imprimir_titulo_e_autor()"
   ]
  },
  {
   "cell_type": "code",
   "execution_count": null,
   "metadata": {},
   "outputs": [],
   "source": [
    "# caso não tenha ficado claro, imagine que gato fosse um objeto\n",
    "# atributos seriam coisas como tamanho, raça, cor, nome...\n",
    "# já os métodos seriam coisas como miar, caçar passarinho ou dormir em cima do teclado do seu dono"
   ]
  },
  {
   "cell_type": "code",
   "execution_count": null,
   "metadata": {},
   "outputs": [],
   "source": [
    "# legal né?\n",
    "# mas você pode ter percebido que aquela classe não é bem uma classe filme que possa representar qualquer filme\n",
    "# está mais para uma classe Filme_do_Toy_Story\n",
    "# você pode trocar os atributos da sua classe\n",
    "\n",
    "filme.titulo = 'Rio'\n",
    "filme.diretor = 'Carlos Saldanha'\n",
    "filme.imprimir_titulo_e_autor()"
   ]
  },
  {
   "cell_type": "code",
   "execution_count": 1,
   "metadata": {},
   "outputs": [],
   "source": [
    "# mas existe um jeito de inicializar o objeto já com os atributos desejados\n",
    "# veja como deveriamos ter construído a classe nesse caso\n",
    "\n",
    "class Filme():\n",
    "    def __init__(self, titulo, diretor):\n",
    "        self.titulo = titulo\n",
    "        self.diretor = diretor\n",
    "        print('Você acabou de criar um objeto da classe filme!')\n",
    "        \n",
    "    def imprimir_titulo_e_autor(self):\n",
    "        print('{0} é um filme dirigido por {1}'.format(self.titulo, self.diretor))"
   ]
  },
  {
   "cell_type": "code",
   "execution_count": 4,
   "metadata": {},
   "outputs": [
    {
     "name": "stdout",
     "output_type": "stream",
     "text": [
      "Você acabou de criar um objeto da classe filme!\n",
      "Você acabou de criar um objeto da classe filme!\n"
     ]
    }
   ],
   "source": [
    "filme1 = Filme('Seila','Naosei')\n",
    "filme2 = Filme('Tantofaz','Deixa')"
   ]
  },
  {
   "cell_type": "code",
   "execution_count": 5,
   "metadata": {},
   "outputs": [
    {
     "data": {
      "text/plain": [
       "('Tantofaz', 'Deixa')"
      ]
     },
     "execution_count": 5,
     "metadata": {},
     "output_type": "execute_result"
    }
   ],
   "source": [
    "string1 = 'Seila'\n",
    "string2 = 'Tantofaz'\n",
    "string1 = string2\n",
    "string2 = 'Deixa'\n",
    "string1, string2"
   ]
  },
  {
   "cell_type": "code",
   "execution_count": 6,
   "metadata": {},
   "outputs": [
    {
     "data": {
      "text/plain": [
       "('Nadademais', 'Nadademais')"
      ]
     },
     "execution_count": 6,
     "metadata": {},
     "output_type": "execute_result"
    }
   ],
   "source": [
    "filme1 = filme2\n",
    "filme1.titulo = 'Qualquercoisa'\n",
    "filme2.titulo = 'Nadademais'\n",
    "filme1.titulo, filme2.titulo"
   ]
  },
  {
   "cell_type": "code",
   "execution_count": null,
   "metadata": {},
   "outputs": [],
   "source": [
    "# veja agora:\n",
    "filme = Filme('Os Incríveis','Brad Bird')"
   ]
  },
  {
   "cell_type": "code",
   "execution_count": null,
   "metadata": {},
   "outputs": [],
   "source": [
    "filme.imprimir_titulo_e_autor()"
   ]
  },
  {
   "cell_type": "code",
   "execution_count": null,
   "metadata": {},
   "outputs": [],
   "source": [
    "# uma vantagem desse tipo de programação é a capacidade de que uma classe herde atributos de outra\n",
    "# por exemplo, imagine que você deseje criar uma classe para cachorros e outra classe para gatos\n",
    "# mas você deve concordar que estes objetos compartilham de diversos métodos\n",
    "# por exemplo comer, correr, morder sua perna... vários\n",
    "# enquanto outros são bem particulares: latir, miar...\n",
    "# para isso podemos criar uma super-classe e, a partir desta, criar outras sub-classes que herdem atributos dessa\n",
    "# veja como fazer isso"
   ]
  },
  {
   "cell_type": "code",
   "execution_count": null,
   "metadata": {},
   "outputs": [],
   "source": [
    "# criando a super-classe\n",
    "\n",
    "class Animal():\n",
    "    \n",
    "    def __init__(self, tamanho, peso):\n",
    "        self.tamanho = tamanho\n",
    "        self.peso = peso\n",
    "        \n",
    "    def comer(self):\n",
    "        print('Comendo...')\n",
    "        \n",
    "    def dormir(self):\n",
    "        print('zzz...')\n",
    "        \n",
    "# nossa super-classe é a classe animal\n",
    "# nela colocamos atributos e métodos comuns à maioria dos animais"
   ]
  },
  {
   "cell_type": "code",
   "execution_count": null,
   "metadata": {},
   "outputs": [],
   "source": [
    "# criando sub-classe\n",
    "\n",
    "class Gato(Animal):\n",
    "    \n",
    "    def __init__(self, tamanho, peso):\n",
    "        # tamanho em cm\n",
    "        # peso em kg\n",
    "        Animal.__init__(self, tamanho, peso)\n",
    "        print('Gato criado!')\n",
    "        \n",
    "    def miar(self):\n",
    "        print('Seu gato está miando! Pode ser fome...')"
   ]
  },
  {
   "cell_type": "code",
   "execution_count": null,
   "metadata": {},
   "outputs": [],
   "source": [
    "# criamos agora um objeto Gato\n",
    "\n",
    "tiberius = Gato()\n",
    "# \"Tiberius é o nome do meu gato\" - Caio"
   ]
  },
  {
   "cell_type": "code",
   "execution_count": null,
   "metadata": {},
   "outputs": [],
   "source": [
    "# viram que, apesar de Gato não necessitar do atributo tamanho e peso você obteve um erro?\n",
    "# isso porque gatos são animais (pelo menos o meu é) e Animal necessita desses dois atributos\n",
    "\n",
    "tiberius = Gato(27, 4.8)"
   ]
  },
  {
   "cell_type": "code",
   "execution_count": null,
   "metadata": {},
   "outputs": [],
   "source": [
    "# agora convoque um método da sub-classe gato\n",
    "\n",
    "tiberius.miar()"
   ]
  },
  {
   "cell_type": "code",
   "execution_count": null,
   "metadata": {},
   "outputs": [],
   "source": [
    "# perceba que, como Gato recebe Animal como parâmetros, ele também possui os métodos desse\n",
    "\n",
    "tiberius.dormir()"
   ]
  },
  {
   "cell_type": "code",
   "execution_count": null,
   "metadata": {},
   "outputs": [],
   "source": [
    "# esse é o conceito de herdar características de outra classe"
   ]
  },
  {
   "cell_type": "markdown",
   "metadata": {},
   "source": [
    "## Pacotes úteis\n",
    "<div id=\"pydata\"></div>"
   ]
  },
  {
   "cell_type": "markdown",
   "metadata": {},
   "source": [
    "Vamos ensinar agora alguns pacotes úteis de Python. Com estes você já será totalmente capaz de resolver o desafio que vamos te passar.\n",
    "\n",
    "Nós vamos apenas raspar a casca desse mundo de pacotes de data science, sempre consulte a documentação!"
   ]
  },
  {
   "cell_type": "markdown",
   "metadata": {},
   "source": [
    "### Numpy"
   ]
  },
  {
   "cell_type": "markdown",
   "metadata": {},
   "source": [
    "Essa é uma library poderosa para lidar com arrays (vetores) n-dimensionais de uma maneira mais eficiente. A título de curiosidade, essa biblioteca é usada não só para machine learning, mas em áreas como química, biologia, computação quântica... ela foi usada até para produzir aquela imagem que você viu um tempo atrás do primeiro buraco negro \"fotografado\".\n",
    "\n",
    "Vamos aprender um pouco sobre ela aqui, mas atenção, isso não substitui (nem chega perto de substituir) a documentação do pacote que você pode achar <a href=\"https://numpy.org/\" target=\"_blank\">aqui</a>."
   ]
  },
  {
   "cell_type": "code",
   "execution_count": null,
   "metadata": {},
   "outputs": [],
   "source": [
    "# para importar um módulo você precisa instalá-lo através do pip\n",
    "# você possivelmente já tem esse pacote, mas você pode rodar essa célula se não tiver\n",
    "\n",
    "!pip install numpy"
   ]
  },
  {
   "cell_type": "code",
   "execution_count": 5,
   "metadata": {},
   "outputs": [],
   "source": [
    "# para usar o pacote, você deve importá-lo\n",
    "\n",
    "import numpy as np"
   ]
  },
  {
   "cell_type": "code",
   "execution_count": 6,
   "metadata": {},
   "outputs": [],
   "source": [
    "# você pode ainda importar um único método ou função de um pacote\n",
    "\n",
    "from numpy import arange"
   ]
  },
  {
   "cell_type": "code",
   "execution_count": 7,
   "metadata": {},
   "outputs": [
    {
     "output_type": "execute_result",
     "data": {
      "text/plain": "'1.18.5'"
     },
     "metadata": {},
     "execution_count": 7
    }
   ],
   "source": [
    "# o atributo __version__ indica a versão do pacote\n",
    "\n",
    "np.__version__"
   ]
  },
  {
   "cell_type": "code",
   "execution_count": 8,
   "metadata": {
    "scrolled": true,
    "tags": []
   },
   "outputs": [
    {
     "output_type": "stream",
     "name": "stdout",
     "text": "Help on built-in function array in module numpy:\n\narray(...)\n    array(object, dtype=None, copy=True, order='K', subok=False, ndmin=0)\n    \n    Create an array.\n    \n    Parameters\n    ----------\n    object : array_like\n        An array, any object exposing the array interface, an object whose\n        __array__ method returns an array, or any (nested) sequence.\n    dtype : data-type, optional\n        The desired data-type for the array.  If not given, then the type will\n        be determined as the minimum type required to hold the objects in the\n        sequence.\n    copy : bool, optional\n        If true (default), then the object is copied.  Otherwise, a copy will\n        only be made if __array__ returns a copy, if obj is a nested sequence,\n        or if a copy is needed to satisfy any of the other requirements\n        (`dtype`, `order`, etc.).\n    order : {'K', 'A', 'C', 'F'}, optional\n        Specify the memory layout of the array. If object is not an array, the\n        newly created array will be in C order (row major) unless 'F' is\n        specified, in which case it will be in Fortran order (column major).\n        If object is an array the following holds.\n    \n        ===== ========= ===================================================\n        order  no copy                     copy=True\n        ===== ========= ===================================================\n        'K'   unchanged F & C order preserved, otherwise most similar order\n        'A'   unchanged F order if input is F and not C, otherwise C order\n        'C'   C order   C order\n        'F'   F order   F order\n        ===== ========= ===================================================\n    \n        When ``copy=False`` and a copy is made for other reasons, the result is\n        the same as if ``copy=True``, with some exceptions for `A`, see the\n        Notes section. The default order is 'K'.\n    subok : bool, optional\n        If True, then sub-classes will be passed-through, otherwise\n        the returned array will be forced to be a base-class array (default).\n    ndmin : int, optional\n        Specifies the minimum number of dimensions that the resulting\n        array should have.  Ones will be pre-pended to the shape as\n        needed to meet this requirement.\n    \n    Returns\n    -------\n    out : ndarray\n        An array object satisfying the specified requirements.\n    \n    See Also\n    --------\n    empty_like : Return an empty array with shape and type of input.\n    ones_like : Return an array of ones with shape and type of input.\n    zeros_like : Return an array of zeros with shape and type of input.\n    full_like : Return a new array with shape of input filled with value.\n    empty : Return a new uninitialized array.\n    ones : Return a new array setting values to one.\n    zeros : Return a new array setting values to zero.\n    full : Return a new array of given shape filled with value.\n    \n    \n    Notes\n    -----\n    When order is 'A' and `object` is an array in neither 'C' nor 'F' order,\n    and a copy is forced by a change in dtype, then the order of the result is\n    not necessarily 'C' as expected. This is likely a bug.\n    \n    Examples\n    --------\n    >>> np.array([1, 2, 3])\n    array([1, 2, 3])\n    \n    Upcasting:\n    \n    >>> np.array([1, 2, 3.0])\n    array([ 1.,  2.,  3.])\n    \n    More than one dimension:\n    \n    >>> np.array([[1, 2], [3, 4]])\n    array([[1, 2],\n           [3, 4]])\n    \n    Minimum dimensions 2:\n    \n    >>> np.array([1, 2, 3], ndmin=2)\n    array([[1, 2, 3]])\n    \n    Type provided:\n    \n    >>> np.array([1, 2, 3], dtype=complex)\n    array([ 1.+0.j,  2.+0.j,  3.+0.j])\n    \n    Data-type consisting of more than one element:\n    \n    >>> x = np.array([(1,2),(3,4)],dtype=[('a','<i4'),('b','<i4')])\n    >>> x['a']\n    array([1, 3])\n    \n    Creating an array from sub-classes:\n    \n    >>> np.array(np.mat('1 2; 3 4'))\n    array([[1, 2],\n           [3, 4]])\n    \n    >>> np.array(np.mat('1 2; 3 4'), subok=True)\n    matrix([[1, 2],\n            [3, 4]])\n\n"
    }
   ],
   "source": [
    "# vamos ver como criar um array\n",
    "# você pode sempre usar a função help() para entender como funciona uma função\n",
    "\n",
    "help(np.array)"
   ]
  },
  {
   "cell_type": "code",
   "execution_count": null,
   "metadata": {},
   "outputs": [],
   "source": [
    "# você também pode posicionar o cursor no método ou atributo que deseja consultar e apertar shift+tab"
   ]
  },
  {
   "cell_type": "code",
   "execution_count": 9,
   "metadata": {},
   "outputs": [
    {
     "output_type": "execute_result",
     "data": {
      "text/plain": "array([1, 2, 3])"
     },
     "metadata": {},
     "execution_count": 9
    }
   ],
   "source": [
    "# o método array() gera um array de uma lista do Python\n",
    "\n",
    "array = np.array([1,2,3])\n",
    "array"
   ]
  },
  {
   "cell_type": "code",
   "execution_count": 10,
   "metadata": {},
   "outputs": [
    {
     "output_type": "execute_result",
     "data": {
      "text/plain": "dtype('int32')"
     },
     "metadata": {},
     "execution_count": 10
    }
   ],
   "source": [
    "# o atributo dtype devolve o tipo das variáveis armazenadas no array\n",
    "\n",
    "array.dtype"
   ]
  },
  {
   "cell_type": "code",
   "execution_count": 11,
   "metadata": {},
   "outputs": [
    {
     "output_type": "execute_result",
     "data": {
      "text/plain": "numpy.ndarray"
     },
     "metadata": {},
     "execution_count": 11
    }
   ],
   "source": [
    "# vamos consultar o tipo do array que criamos\n",
    "\n",
    "type(array)"
   ]
  },
  {
   "cell_type": "code",
   "execution_count": 12,
   "metadata": {},
   "outputs": [
    {
     "output_type": "execute_result",
     "data": {
      "text/plain": "(3,)"
     },
     "metadata": {},
     "execution_count": 12
    }
   ],
   "source": [
    "# o atributo shape devolve o tamanho do array\n",
    "# a ausência de um número após a vírgula significa 1\n",
    "array.shape"
   ]
  },
  {
   "cell_type": "code",
   "execution_count": 13,
   "metadata": {},
   "outputs": [
    {
     "output_type": "execute_result",
     "data": {
      "text/plain": "array([0, 1, 2, 3, 4, 5, 6, 7, 8, 9])"
     },
     "metadata": {},
     "execution_count": 13
    }
   ],
   "source": [
    "# existem métodos muito úteis para gerar arrays automaticamente\n",
    "\n",
    "# o método arange gera um array dentro de uma determinada range\n",
    "np.arange(10)"
   ]
  },
  {
   "cell_type": "code",
   "execution_count": 14,
   "metadata": {},
   "outputs": [
    {
     "output_type": "execute_result",
     "data": {
      "text/plain": "array([[0, 1, 2, 3, 4],\n       [5, 6, 7, 8, 9]])"
     },
     "metadata": {},
     "execution_count": 14
    }
   ],
   "source": [
    "# o método reshape é útil para auterar a forma desse array\n",
    "\n",
    "np.arange(10).reshape(2,5)\n",
    "\n",
    "# duas linhas, cinco colunas"
   ]
  },
  {
   "cell_type": "code",
   "execution_count": 15,
   "metadata": {},
   "outputs": [
    {
     "output_type": "execute_result",
     "data": {
      "text/plain": "array([[0., 0., 0., 0., 0.],\n       [0., 0., 0., 0., 0.],\n       [0., 0., 0., 0., 0.],\n       [0., 0., 0., 0., 0.],\n       [0., 0., 0., 0., 0.]])"
     },
     "metadata": {},
     "execution_count": 15
    }
   ],
   "source": [
    "# você pode ainda gerar um array de zeros ou de uns\n",
    "# precisando especificar apenas o shape\n",
    "\n",
    "np.zeros((5,5))"
   ]
  },
  {
   "cell_type": "code",
   "execution_count": 16,
   "metadata": {},
   "outputs": [
    {
     "output_type": "execute_result",
     "data": {
      "text/plain": "array([[[1., 1.],\n        [1., 1.],\n        [1., 1.],\n        [1., 1.]],\n\n       [[1., 1.],\n        [1., 1.],\n        [1., 1.],\n        [1., 1.]],\n\n       [[1., 1.],\n        [1., 1.],\n        [1., 1.],\n        [1., 1.]],\n\n       [[1., 1.],\n        [1., 1.],\n        [1., 1.],\n        [1., 1.]]])"
     },
     "metadata": {},
     "execution_count": 16
    }
   ],
   "source": [
    "# perceba que o shape pode ter quantas entradas você quiser\n",
    "\n",
    "# uma \"stack\" de quatro matrizes, com 4 linhas e 2 colunas\n",
    "# é como se fosse um paralelepipedo de 4x4x2\n",
    "np.ones((4,4,2))"
   ]
  },
  {
   "cell_type": "code",
   "execution_count": 17,
   "metadata": {},
   "outputs": [
    {
     "output_type": "execute_result",
     "data": {
      "text/plain": "array([0.        , 0.11111111, 0.22222222, 0.33333333, 0.44444444,\n       0.55555556, 0.66666667, 0.77777778, 0.88888889, 1.        ])"
     },
     "metadata": {},
     "execution_count": 17
    }
   ],
   "source": [
    "# o método linspace(i,f,n) cria uma quantidade de n números num intervalo de i a f igualmente espaçados\n",
    "\n",
    "np.linspace(0,1,10)"
   ]
  },
  {
   "cell_type": "code",
   "execution_count": 18,
   "metadata": {},
   "outputs": [
    {
     "output_type": "display_data",
     "data": {
      "text/plain": "<Figure size 432x288 with 1 Axes>",
      "image/svg+xml": "<?xml version=\"1.0\" encoding=\"utf-8\" standalone=\"no\"?>\r\n<!DOCTYPE svg PUBLIC \"-//W3C//DTD SVG 1.1//EN\"\r\n  \"http://www.w3.org/Graphics/SVG/1.1/DTD/svg11.dtd\">\r\n<!-- Created with matplotlib (https://matplotlib.org/) -->\r\n<svg height=\"248.518125pt\" version=\"1.1\" viewBox=\"0 0 386.845312 248.518125\" width=\"386.845312pt\" xmlns=\"http://www.w3.org/2000/svg\" xmlns:xlink=\"http://www.w3.org/1999/xlink\">\r\n <defs>\r\n  <style type=\"text/css\">\r\n*{stroke-linecap:butt;stroke-linejoin:round;}\r\n  </style>\r\n </defs>\r\n <g id=\"figure_1\">\r\n  <g id=\"patch_1\">\r\n   <path d=\"M 0 248.518125 \r\nL 386.845312 248.518125 \r\nL 386.845312 0 \r\nL 0 0 \r\nz\r\n\" style=\"fill:none;\"/>\r\n  </g>\r\n  <g id=\"axes_1\">\r\n   <g id=\"patch_2\">\r\n    <path d=\"M 44.845313 224.64 \r\nL 379.645313 224.64 \r\nL 379.645313 7.2 \r\nL 44.845313 7.2 \r\nz\r\n\" style=\"fill:#ffffff;\"/>\r\n   </g>\r\n   <g id=\"matplotlib.axis_1\">\r\n    <g id=\"xtick_1\">\r\n     <g id=\"line2d_1\">\r\n      <defs>\r\n       <path d=\"M 0 0 \r\nL 0 3.5 \r\n\" id=\"m8e32b869cd\" style=\"stroke:#000000;stroke-width:0.8;\"/>\r\n      </defs>\r\n      <g>\r\n       <use style=\"stroke:#000000;stroke-width:0.8;\" x=\"60.063494\" xlink:href=\"#m8e32b869cd\" y=\"224.64\"/>\r\n      </g>\r\n     </g>\r\n     <g id=\"text_1\">\r\n      <!-- 0 -->\r\n      <defs>\r\n       <path d=\"M 31.78125 66.40625 \r\nQ 24.171875 66.40625 20.328125 58.90625 \r\nQ 16.5 51.421875 16.5 36.375 \r\nQ 16.5 21.390625 20.328125 13.890625 \r\nQ 24.171875 6.390625 31.78125 6.390625 \r\nQ 39.453125 6.390625 43.28125 13.890625 \r\nQ 47.125 21.390625 47.125 36.375 \r\nQ 47.125 51.421875 43.28125 58.90625 \r\nQ 39.453125 66.40625 31.78125 66.40625 \r\nz\r\nM 31.78125 74.21875 \r\nQ 44.046875 74.21875 50.515625 64.515625 \r\nQ 56.984375 54.828125 56.984375 36.375 \r\nQ 56.984375 17.96875 50.515625 8.265625 \r\nQ 44.046875 -1.421875 31.78125 -1.421875 \r\nQ 19.53125 -1.421875 13.0625 8.265625 \r\nQ 6.59375 17.96875 6.59375 36.375 \r\nQ 6.59375 54.828125 13.0625 64.515625 \r\nQ 19.53125 74.21875 31.78125 74.21875 \r\nz\r\n\" id=\"DejaVuSans-48\"/>\r\n      </defs>\r\n      <g transform=\"translate(56.882244 239.238437)scale(0.1 -0.1)\">\r\n       <use xlink:href=\"#DejaVuSans-48\"/>\r\n      </g>\r\n     </g>\r\n    </g>\r\n    <g id=\"xtick_2\">\r\n     <g id=\"line2d_2\">\r\n      <g>\r\n       <use style=\"stroke:#000000;stroke-width:0.8;\" x=\"108.504472\" xlink:href=\"#m8e32b869cd\" y=\"224.64\"/>\r\n      </g>\r\n     </g>\r\n     <g id=\"text_2\">\r\n      <!-- 1 -->\r\n      <defs>\r\n       <path d=\"M 12.40625 8.296875 \r\nL 28.515625 8.296875 \r\nL 28.515625 63.921875 \r\nL 10.984375 60.40625 \r\nL 10.984375 69.390625 \r\nL 28.421875 72.90625 \r\nL 38.28125 72.90625 \r\nL 38.28125 8.296875 \r\nL 54.390625 8.296875 \r\nL 54.390625 0 \r\nL 12.40625 0 \r\nz\r\n\" id=\"DejaVuSans-49\"/>\r\n      </defs>\r\n      <g transform=\"translate(105.323222 239.238437)scale(0.1 -0.1)\">\r\n       <use xlink:href=\"#DejaVuSans-49\"/>\r\n      </g>\r\n     </g>\r\n    </g>\r\n    <g id=\"xtick_3\">\r\n     <g id=\"line2d_3\">\r\n      <g>\r\n       <use style=\"stroke:#000000;stroke-width:0.8;\" x=\"156.945449\" xlink:href=\"#m8e32b869cd\" y=\"224.64\"/>\r\n      </g>\r\n     </g>\r\n     <g id=\"text_3\">\r\n      <!-- 2 -->\r\n      <defs>\r\n       <path d=\"M 19.1875 8.296875 \r\nL 53.609375 8.296875 \r\nL 53.609375 0 \r\nL 7.328125 0 \r\nL 7.328125 8.296875 \r\nQ 12.9375 14.109375 22.625 23.890625 \r\nQ 32.328125 33.6875 34.8125 36.53125 \r\nQ 39.546875 41.84375 41.421875 45.53125 \r\nQ 43.3125 49.21875 43.3125 52.78125 \r\nQ 43.3125 58.59375 39.234375 62.25 \r\nQ 35.15625 65.921875 28.609375 65.921875 \r\nQ 23.96875 65.921875 18.8125 64.3125 \r\nQ 13.671875 62.703125 7.8125 59.421875 \r\nL 7.8125 69.390625 \r\nQ 13.765625 71.78125 18.9375 73 \r\nQ 24.125 74.21875 28.421875 74.21875 \r\nQ 39.75 74.21875 46.484375 68.546875 \r\nQ 53.21875 62.890625 53.21875 53.421875 \r\nQ 53.21875 48.921875 51.53125 44.890625 \r\nQ 49.859375 40.875 45.40625 35.40625 \r\nQ 44.1875 33.984375 37.640625 27.21875 \r\nQ 31.109375 20.453125 19.1875 8.296875 \r\nz\r\n\" id=\"DejaVuSans-50\"/>\r\n      </defs>\r\n      <g transform=\"translate(153.764199 239.238437)scale(0.1 -0.1)\">\r\n       <use xlink:href=\"#DejaVuSans-50\"/>\r\n      </g>\r\n     </g>\r\n    </g>\r\n    <g id=\"xtick_4\">\r\n     <g id=\"line2d_4\">\r\n      <g>\r\n       <use style=\"stroke:#000000;stroke-width:0.8;\" x=\"205.386426\" xlink:href=\"#m8e32b869cd\" y=\"224.64\"/>\r\n      </g>\r\n     </g>\r\n     <g id=\"text_4\">\r\n      <!-- 3 -->\r\n      <defs>\r\n       <path d=\"M 40.578125 39.3125 \r\nQ 47.65625 37.796875 51.625 33 \r\nQ 55.609375 28.21875 55.609375 21.1875 \r\nQ 55.609375 10.40625 48.1875 4.484375 \r\nQ 40.765625 -1.421875 27.09375 -1.421875 \r\nQ 22.515625 -1.421875 17.65625 -0.515625 \r\nQ 12.796875 0.390625 7.625 2.203125 \r\nL 7.625 11.71875 \r\nQ 11.71875 9.328125 16.59375 8.109375 \r\nQ 21.484375 6.890625 26.8125 6.890625 \r\nQ 36.078125 6.890625 40.9375 10.546875 \r\nQ 45.796875 14.203125 45.796875 21.1875 \r\nQ 45.796875 27.640625 41.28125 31.265625 \r\nQ 36.765625 34.90625 28.71875 34.90625 \r\nL 20.21875 34.90625 \r\nL 20.21875 43.015625 \r\nL 29.109375 43.015625 \r\nQ 36.375 43.015625 40.234375 45.921875 \r\nQ 44.09375 48.828125 44.09375 54.296875 \r\nQ 44.09375 59.90625 40.109375 62.90625 \r\nQ 36.140625 65.921875 28.71875 65.921875 \r\nQ 24.65625 65.921875 20.015625 65.03125 \r\nQ 15.375 64.15625 9.8125 62.3125 \r\nL 9.8125 71.09375 \r\nQ 15.4375 72.65625 20.34375 73.4375 \r\nQ 25.25 74.21875 29.59375 74.21875 \r\nQ 40.828125 74.21875 47.359375 69.109375 \r\nQ 53.90625 64.015625 53.90625 55.328125 \r\nQ 53.90625 49.265625 50.4375 45.09375 \r\nQ 46.96875 40.921875 40.578125 39.3125 \r\nz\r\n\" id=\"DejaVuSans-51\"/>\r\n      </defs>\r\n      <g transform=\"translate(202.205176 239.238437)scale(0.1 -0.1)\">\r\n       <use xlink:href=\"#DejaVuSans-51\"/>\r\n      </g>\r\n     </g>\r\n    </g>\r\n    <g id=\"xtick_5\">\r\n     <g id=\"line2d_5\">\r\n      <g>\r\n       <use style=\"stroke:#000000;stroke-width:0.8;\" x=\"253.827403\" xlink:href=\"#m8e32b869cd\" y=\"224.64\"/>\r\n      </g>\r\n     </g>\r\n     <g id=\"text_5\">\r\n      <!-- 4 -->\r\n      <defs>\r\n       <path d=\"M 37.796875 64.3125 \r\nL 12.890625 25.390625 \r\nL 37.796875 25.390625 \r\nz\r\nM 35.203125 72.90625 \r\nL 47.609375 72.90625 \r\nL 47.609375 25.390625 \r\nL 58.015625 25.390625 \r\nL 58.015625 17.1875 \r\nL 47.609375 17.1875 \r\nL 47.609375 0 \r\nL 37.796875 0 \r\nL 37.796875 17.1875 \r\nL 4.890625 17.1875 \r\nL 4.890625 26.703125 \r\nz\r\n\" id=\"DejaVuSans-52\"/>\r\n      </defs>\r\n      <g transform=\"translate(250.646153 239.238437)scale(0.1 -0.1)\">\r\n       <use xlink:href=\"#DejaVuSans-52\"/>\r\n      </g>\r\n     </g>\r\n    </g>\r\n    <g id=\"xtick_6\">\r\n     <g id=\"line2d_6\">\r\n      <g>\r\n       <use style=\"stroke:#000000;stroke-width:0.8;\" x=\"302.26838\" xlink:href=\"#m8e32b869cd\" y=\"224.64\"/>\r\n      </g>\r\n     </g>\r\n     <g id=\"text_6\">\r\n      <!-- 5 -->\r\n      <defs>\r\n       <path d=\"M 10.796875 72.90625 \r\nL 49.515625 72.90625 \r\nL 49.515625 64.59375 \r\nL 19.828125 64.59375 \r\nL 19.828125 46.734375 \r\nQ 21.96875 47.46875 24.109375 47.828125 \r\nQ 26.265625 48.1875 28.421875 48.1875 \r\nQ 40.625 48.1875 47.75 41.5 \r\nQ 54.890625 34.8125 54.890625 23.390625 \r\nQ 54.890625 11.625 47.5625 5.09375 \r\nQ 40.234375 -1.421875 26.90625 -1.421875 \r\nQ 22.3125 -1.421875 17.546875 -0.640625 \r\nQ 12.796875 0.140625 7.71875 1.703125 \r\nL 7.71875 11.625 \r\nQ 12.109375 9.234375 16.796875 8.0625 \r\nQ 21.484375 6.890625 26.703125 6.890625 \r\nQ 35.15625 6.890625 40.078125 11.328125 \r\nQ 45.015625 15.765625 45.015625 23.390625 \r\nQ 45.015625 31 40.078125 35.4375 \r\nQ 35.15625 39.890625 26.703125 39.890625 \r\nQ 22.75 39.890625 18.8125 39.015625 \r\nQ 14.890625 38.140625 10.796875 36.28125 \r\nz\r\n\" id=\"DejaVuSans-53\"/>\r\n      </defs>\r\n      <g transform=\"translate(299.08713 239.238437)scale(0.1 -0.1)\">\r\n       <use xlink:href=\"#DejaVuSans-53\"/>\r\n      </g>\r\n     </g>\r\n    </g>\r\n    <g id=\"xtick_7\">\r\n     <g id=\"line2d_7\">\r\n      <g>\r\n       <use style=\"stroke:#000000;stroke-width:0.8;\" x=\"350.709358\" xlink:href=\"#m8e32b869cd\" y=\"224.64\"/>\r\n      </g>\r\n     </g>\r\n     <g id=\"text_7\">\r\n      <!-- 6 -->\r\n      <defs>\r\n       <path d=\"M 33.015625 40.375 \r\nQ 26.375 40.375 22.484375 35.828125 \r\nQ 18.609375 31.296875 18.609375 23.390625 \r\nQ 18.609375 15.53125 22.484375 10.953125 \r\nQ 26.375 6.390625 33.015625 6.390625 \r\nQ 39.65625 6.390625 43.53125 10.953125 \r\nQ 47.40625 15.53125 47.40625 23.390625 \r\nQ 47.40625 31.296875 43.53125 35.828125 \r\nQ 39.65625 40.375 33.015625 40.375 \r\nz\r\nM 52.59375 71.296875 \r\nL 52.59375 62.3125 \r\nQ 48.875 64.0625 45.09375 64.984375 \r\nQ 41.3125 65.921875 37.59375 65.921875 \r\nQ 27.828125 65.921875 22.671875 59.328125 \r\nQ 17.53125 52.734375 16.796875 39.40625 \r\nQ 19.671875 43.65625 24.015625 45.921875 \r\nQ 28.375 48.1875 33.59375 48.1875 \r\nQ 44.578125 48.1875 50.953125 41.515625 \r\nQ 57.328125 34.859375 57.328125 23.390625 \r\nQ 57.328125 12.15625 50.6875 5.359375 \r\nQ 44.046875 -1.421875 33.015625 -1.421875 \r\nQ 20.359375 -1.421875 13.671875 8.265625 \r\nQ 6.984375 17.96875 6.984375 36.375 \r\nQ 6.984375 53.65625 15.1875 63.9375 \r\nQ 23.390625 74.21875 37.203125 74.21875 \r\nQ 40.921875 74.21875 44.703125 73.484375 \r\nQ 48.484375 72.75 52.59375 71.296875 \r\nz\r\n\" id=\"DejaVuSans-54\"/>\r\n      </defs>\r\n      <g transform=\"translate(347.528108 239.238437)scale(0.1 -0.1)\">\r\n       <use xlink:href=\"#DejaVuSans-54\"/>\r\n      </g>\r\n     </g>\r\n    </g>\r\n   </g>\r\n   <g id=\"matplotlib.axis_2\">\r\n    <g id=\"ytick_1\">\r\n     <g id=\"line2d_8\">\r\n      <defs>\r\n       <path d=\"M 0 0 \r\nL -3.5 0 \r\n\" id=\"m650ff6bab9\" style=\"stroke:#000000;stroke-width:0.8;\"/>\r\n      </defs>\r\n      <g>\r\n       <use style=\"stroke:#000000;stroke-width:0.8;\" x=\"44.845313\" xlink:href=\"#m650ff6bab9\" y=\"214.768806\"/>\r\n      </g>\r\n     </g>\r\n     <g id=\"text_8\">\r\n      <!-- −1.00 -->\r\n      <defs>\r\n       <path d=\"M 10.59375 35.5 \r\nL 73.1875 35.5 \r\nL 73.1875 27.203125 \r\nL 10.59375 27.203125 \r\nz\r\n\" id=\"DejaVuSans-8722\"/>\r\n       <path d=\"M 10.6875 12.40625 \r\nL 21 12.40625 \r\nL 21 0 \r\nL 10.6875 0 \r\nz\r\n\" id=\"DejaVuSans-46\"/>\r\n      </defs>\r\n      <g transform=\"translate(7.2 218.568025)scale(0.1 -0.1)\">\r\n       <use xlink:href=\"#DejaVuSans-8722\"/>\r\n       <use x=\"83.789062\" xlink:href=\"#DejaVuSans-49\"/>\r\n       <use x=\"147.412109\" xlink:href=\"#DejaVuSans-46\"/>\r\n       <use x=\"179.199219\" xlink:href=\"#DejaVuSans-48\"/>\r\n       <use x=\"242.822266\" xlink:href=\"#DejaVuSans-48\"/>\r\n      </g>\r\n     </g>\r\n    </g>\r\n    <g id=\"ytick_2\">\r\n     <g id=\"line2d_9\">\r\n      <g>\r\n       <use style=\"stroke:#000000;stroke-width:0.8;\" x=\"44.845313\" xlink:href=\"#m650ff6bab9\" y=\"190.056604\"/>\r\n      </g>\r\n     </g>\r\n     <g id=\"text_9\">\r\n      <!-- −0.75 -->\r\n      <defs>\r\n       <path d=\"M 8.203125 72.90625 \r\nL 55.078125 72.90625 \r\nL 55.078125 68.703125 \r\nL 28.609375 0 \r\nL 18.3125 0 \r\nL 43.21875 64.59375 \r\nL 8.203125 64.59375 \r\nz\r\n\" id=\"DejaVuSans-55\"/>\r\n      </defs>\r\n      <g transform=\"translate(7.2 193.855823)scale(0.1 -0.1)\">\r\n       <use xlink:href=\"#DejaVuSans-8722\"/>\r\n       <use x=\"83.789062\" xlink:href=\"#DejaVuSans-48\"/>\r\n       <use x=\"147.412109\" xlink:href=\"#DejaVuSans-46\"/>\r\n       <use x=\"179.199219\" xlink:href=\"#DejaVuSans-55\"/>\r\n       <use x=\"242.822266\" xlink:href=\"#DejaVuSans-53\"/>\r\n      </g>\r\n     </g>\r\n    </g>\r\n    <g id=\"ytick_3\">\r\n     <g id=\"line2d_10\">\r\n      <g>\r\n       <use style=\"stroke:#000000;stroke-width:0.8;\" x=\"44.845313\" xlink:href=\"#m650ff6bab9\" y=\"165.344403\"/>\r\n      </g>\r\n     </g>\r\n     <g id=\"text_10\">\r\n      <!-- −0.50 -->\r\n      <g transform=\"translate(7.2 169.143622)scale(0.1 -0.1)\">\r\n       <use xlink:href=\"#DejaVuSans-8722\"/>\r\n       <use x=\"83.789062\" xlink:href=\"#DejaVuSans-48\"/>\r\n       <use x=\"147.412109\" xlink:href=\"#DejaVuSans-46\"/>\r\n       <use x=\"179.199219\" xlink:href=\"#DejaVuSans-53\"/>\r\n       <use x=\"242.822266\" xlink:href=\"#DejaVuSans-48\"/>\r\n      </g>\r\n     </g>\r\n    </g>\r\n    <g id=\"ytick_4\">\r\n     <g id=\"line2d_11\">\r\n      <g>\r\n       <use style=\"stroke:#000000;stroke-width:0.8;\" x=\"44.845313\" xlink:href=\"#m650ff6bab9\" y=\"140.632201\"/>\r\n      </g>\r\n     </g>\r\n     <g id=\"text_11\">\r\n      <!-- −0.25 -->\r\n      <g transform=\"translate(7.2 144.43142)scale(0.1 -0.1)\">\r\n       <use xlink:href=\"#DejaVuSans-8722\"/>\r\n       <use x=\"83.789062\" xlink:href=\"#DejaVuSans-48\"/>\r\n       <use x=\"147.412109\" xlink:href=\"#DejaVuSans-46\"/>\r\n       <use x=\"179.199219\" xlink:href=\"#DejaVuSans-50\"/>\r\n       <use x=\"242.822266\" xlink:href=\"#DejaVuSans-53\"/>\r\n      </g>\r\n     </g>\r\n    </g>\r\n    <g id=\"ytick_5\">\r\n     <g id=\"line2d_12\">\r\n      <g>\r\n       <use style=\"stroke:#000000;stroke-width:0.8;\" x=\"44.845313\" xlink:href=\"#m650ff6bab9\" y=\"115.92\"/>\r\n      </g>\r\n     </g>\r\n     <g id=\"text_12\">\r\n      <!-- 0.00 -->\r\n      <g transform=\"translate(15.579688 119.719219)scale(0.1 -0.1)\">\r\n       <use xlink:href=\"#DejaVuSans-48\"/>\r\n       <use x=\"63.623047\" xlink:href=\"#DejaVuSans-46\"/>\r\n       <use x=\"95.410156\" xlink:href=\"#DejaVuSans-48\"/>\r\n       <use x=\"159.033203\" xlink:href=\"#DejaVuSans-48\"/>\r\n      </g>\r\n     </g>\r\n    </g>\r\n    <g id=\"ytick_6\">\r\n     <g id=\"line2d_13\">\r\n      <g>\r\n       <use style=\"stroke:#000000;stroke-width:0.8;\" x=\"44.845313\" xlink:href=\"#m650ff6bab9\" y=\"91.207799\"/>\r\n      </g>\r\n     </g>\r\n     <g id=\"text_13\">\r\n      <!-- 0.25 -->\r\n      <g transform=\"translate(15.579688 95.007017)scale(0.1 -0.1)\">\r\n       <use xlink:href=\"#DejaVuSans-48\"/>\r\n       <use x=\"63.623047\" xlink:href=\"#DejaVuSans-46\"/>\r\n       <use x=\"95.410156\" xlink:href=\"#DejaVuSans-50\"/>\r\n       <use x=\"159.033203\" xlink:href=\"#DejaVuSans-53\"/>\r\n      </g>\r\n     </g>\r\n    </g>\r\n    <g id=\"ytick_7\">\r\n     <g id=\"line2d_14\">\r\n      <g>\r\n       <use style=\"stroke:#000000;stroke-width:0.8;\" x=\"44.845313\" xlink:href=\"#m650ff6bab9\" y=\"66.495597\"/>\r\n      </g>\r\n     </g>\r\n     <g id=\"text_14\">\r\n      <!-- 0.50 -->\r\n      <g transform=\"translate(15.579688 70.294816)scale(0.1 -0.1)\">\r\n       <use xlink:href=\"#DejaVuSans-48\"/>\r\n       <use x=\"63.623047\" xlink:href=\"#DejaVuSans-46\"/>\r\n       <use x=\"95.410156\" xlink:href=\"#DejaVuSans-53\"/>\r\n       <use x=\"159.033203\" xlink:href=\"#DejaVuSans-48\"/>\r\n      </g>\r\n     </g>\r\n    </g>\r\n    <g id=\"ytick_8\">\r\n     <g id=\"line2d_15\">\r\n      <g>\r\n       <use style=\"stroke:#000000;stroke-width:0.8;\" x=\"44.845313\" xlink:href=\"#m650ff6bab9\" y=\"41.783396\"/>\r\n      </g>\r\n     </g>\r\n     <g id=\"text_15\">\r\n      <!-- 0.75 -->\r\n      <g transform=\"translate(15.579688 45.582614)scale(0.1 -0.1)\">\r\n       <use xlink:href=\"#DejaVuSans-48\"/>\r\n       <use x=\"63.623047\" xlink:href=\"#DejaVuSans-46\"/>\r\n       <use x=\"95.410156\" xlink:href=\"#DejaVuSans-55\"/>\r\n       <use x=\"159.033203\" xlink:href=\"#DejaVuSans-53\"/>\r\n      </g>\r\n     </g>\r\n    </g>\r\n    <g id=\"ytick_9\">\r\n     <g id=\"line2d_16\">\r\n      <g>\r\n       <use style=\"stroke:#000000;stroke-width:0.8;\" x=\"44.845313\" xlink:href=\"#m650ff6bab9\" y=\"17.071194\"/>\r\n      </g>\r\n     </g>\r\n     <g id=\"text_16\">\r\n      <!-- 1.00 -->\r\n      <g transform=\"translate(15.579688 20.870413)scale(0.1 -0.1)\">\r\n       <use xlink:href=\"#DejaVuSans-49\"/>\r\n       <use x=\"63.623047\" xlink:href=\"#DejaVuSans-46\"/>\r\n       <use x=\"95.410156\" xlink:href=\"#DejaVuSans-48\"/>\r\n       <use x=\"159.033203\" xlink:href=\"#DejaVuSans-48\"/>\r\n      </g>\r\n     </g>\r\n    </g>\r\n   </g>\r\n   <g id=\"line2d_17\">\r\n    <path clip-path=\"url(#pa74ffadf39)\" d=\"M 60.063494 115.92 \r\nL 63.137874 109.650621 \r\nL 66.212255 103.406487 \r\nL 69.286635 97.21274 \r\nL 72.361015 91.094321 \r\nL 75.435395 85.075866 \r\nL 78.509775 79.18161 \r\nL 81.584155 73.435286 \r\nL 84.658536 67.860033 \r\nL 87.732916 62.478301 \r\nL 90.807296 57.311759 \r\nL 93.881676 52.381212 \r\nL 96.956056 47.706514 \r\nL 100.030436 43.306487 \r\nL 103.104817 39.198849 \r\nL 106.179197 35.40014 \r\nL 109.253577 31.925656 \r\nL 112.327957 28.789388 \r\nL 115.402337 26.003963 \r\nL 118.476717 23.580599 \r\nL 121.551098 21.529054 \r\nL 124.625478 19.857587 \r\nL 127.699858 18.57293 \r\nL 130.774238 17.680254 \r\nL 133.848618 17.183156 \r\nL 136.922998 17.083636 \r\nL 139.997379 17.382096 \r\nL 143.071759 18.077332 \r\nL 146.146139 19.166547 \r\nL 149.220519 20.645353 \r\nL 152.294899 22.507797 \r\nL 155.369279 24.746379 \r\nL 158.44366 27.352085 \r\nL 161.51804 30.314423 \r\nL 164.59242 33.621464 \r\nL 167.6668 37.259892 \r\nL 170.74118 41.215057 \r\nL 173.81556 45.471032 \r\nL 176.889941 50.01068 \r\nL 179.964321 54.815722 \r\nL 183.038701 59.86681 \r\nL 186.113081 65.143603 \r\nL 189.187461 70.624855 \r\nL 192.261841 76.288495 \r\nL 195.336222 82.111717 \r\nL 198.410602 88.071073 \r\nL 201.484982 94.142567 \r\nL 204.559362 100.301751 \r\nL 207.633742 106.523824 \r\nL 210.708122 112.783732 \r\nL 213.782503 119.056268 \r\nL 216.856883 125.316176 \r\nL 219.931263 131.538249 \r\nL 223.005643 137.697433 \r\nL 226.080023 143.768927 \r\nL 229.154403 149.728283 \r\nL 232.228784 155.551505 \r\nL 235.303164 161.215145 \r\nL 238.377544 166.696397 \r\nL 241.451924 171.97319 \r\nL 244.526304 177.024278 \r\nL 247.600684 181.82932 \r\nL 250.675065 186.368968 \r\nL 253.749445 190.624943 \r\nL 256.823825 194.580108 \r\nL 259.898205 198.218536 \r\nL 262.972585 201.525577 \r\nL 266.046965 204.487915 \r\nL 269.121346 207.093621 \r\nL 272.195726 209.332203 \r\nL 275.270106 211.194647 \r\nL 278.344486 212.673453 \r\nL 281.418866 213.762668 \r\nL 284.493246 214.457904 \r\nL 287.567627 214.756364 \r\nL 290.642007 214.656844 \r\nL 293.716387 214.159746 \r\nL 296.790767 213.26707 \r\nL 299.865147 211.982413 \r\nL 302.939527 210.310946 \r\nL 306.013908 208.259401 \r\nL 309.088288 205.836037 \r\nL 312.162668 203.050612 \r\nL 315.237048 199.914344 \r\nL 318.311428 196.43986 \r\nL 321.385808 192.641151 \r\nL 324.460189 188.533513 \r\nL 327.534569 184.133486 \r\nL 330.608949 179.458788 \r\nL 333.683329 174.528241 \r\nL 336.757709 169.361699 \r\nL 339.832089 163.979967 \r\nL 342.90647 158.404714 \r\nL 345.98085 152.65839 \r\nL 349.05523 146.764134 \r\nL 352.12961 140.745679 \r\nL 355.20399 134.62726 \r\nL 358.27837 128.433513 \r\nL 361.352751 122.189379 \r\nL 364.427131 115.92 \r\n\" style=\"fill:none;stroke:#1f77b4;stroke-linecap:square;stroke-width:1.5;\"/>\r\n   </g>\r\n   <g id=\"patch_3\">\r\n    <path d=\"M 44.845313 224.64 \r\nL 44.845313 7.2 \r\n\" style=\"fill:none;stroke:#000000;stroke-linecap:square;stroke-linejoin:miter;stroke-width:0.8;\"/>\r\n   </g>\r\n   <g id=\"patch_4\">\r\n    <path d=\"M 379.645313 224.64 \r\nL 379.645313 7.2 \r\n\" style=\"fill:none;stroke:#000000;stroke-linecap:square;stroke-linejoin:miter;stroke-width:0.8;\"/>\r\n   </g>\r\n   <g id=\"patch_5\">\r\n    <path d=\"M 44.845313 224.64 \r\nL 379.645313 224.64 \r\n\" style=\"fill:none;stroke:#000000;stroke-linecap:square;stroke-linejoin:miter;stroke-width:0.8;\"/>\r\n   </g>\r\n   <g id=\"patch_6\">\r\n    <path d=\"M 44.845313 7.2 \r\nL 379.645313 7.2 \r\n\" style=\"fill:none;stroke:#000000;stroke-linecap:square;stroke-linejoin:miter;stroke-width:0.8;\"/>\r\n   </g>\r\n  </g>\r\n </g>\r\n <defs>\r\n  <clipPath id=\"pa74ffadf39\">\r\n   <rect height=\"217.44\" width=\"334.8\" x=\"44.845313\" y=\"7.2\"/>\r\n  </clipPath>\r\n </defs>\r\n</svg>\r\n",
      "image/png": "[encoded data removed]"
     },
     "metadata": {
      "needs_background": "light"
     }
    }
   ],
   "source": [
    "# uma coisa importante de saber é que você pode aplicar uma mesma função a um array de elementos\n",
    "\n",
    "from numpy import pi\n",
    "import matplotlib.pyplot as plt\n",
    "\n",
    "x = np.linspace(0, 2*pi, 100)\n",
    "f_x = np.sin(x)\n",
    "\n",
    "plt.plot(x,f_x)\n",
    "plt.show()\n",
    "\n",
    "# relaxa que você vai aprender a plotar gráficos mais pra frente"
   ]
  },
  {
   "cell_type": "code",
   "execution_count": 19,
   "metadata": {},
   "outputs": [
    {
     "output_type": "execute_result",
     "data": {
      "text/plain": "array([10, 20, 30, 40])"
     },
     "metadata": {},
     "execution_count": 19
    }
   ],
   "source": [
    "# também é possível aplicar uma mesma operação a todos os elementos de um array\n",
    "\n",
    "10*np.arange(1,5)"
   ]
  },
  {
   "cell_type": "code",
   "execution_count": 20,
   "metadata": {},
   "outputs": [
    {
     "output_type": "execute_result",
     "data": {
      "text/plain": "array([-4, -3, -2, -1,  0])"
     },
     "metadata": {},
     "execution_count": 20
    }
   ],
   "source": [
    "np.arange(5) - 4"
   ]
  },
  {
   "cell_type": "code",
   "execution_count": 21,
   "metadata": {},
   "outputs": [
    {
     "output_type": "execute_result",
     "data": {
      "text/plain": "array([False, False, False,  True,  True])"
     },
     "metadata": {},
     "execution_count": 21
    }
   ],
   "source": [
    "5<np.arange(3,8)"
   ]
  },
  {
   "cell_type": "code",
   "execution_count": 22,
   "metadata": {
    "tags": []
   },
   "outputs": [
    {
     "output_type": "stream",
     "name": "stdout",
     "text": "produto de elemento por elemento\n[[2 0]\n [0 4]]\n\nproduto matricial\n[[5 4]\n [3 4]]\n\ntambém produto matricial mas usando método dot\n[[5 4]\n [3 4]]\n"
    }
   ],
   "source": [
    "# o elemento array do numpy também possui várias operações únicas\n",
    "\n",
    "array1 = np.array([1,1,0,1]).reshape(2,2)\n",
    "array2 = np.array([2,0,3,4]).reshape(2,2)\n",
    "\n",
    "# produto de elemento por elemento:\n",
    "print(\"produto de elemento por elemento\")\n",
    "print(array1*array2)\n",
    "\n",
    "# produto matricial\n",
    "print(\"\\nproduto matricial\")\n",
    "print(array1@array2)\n",
    "\n",
    "# ou você pode usar o método dot\n",
    "print(\"\\ntambém produto matricial mas usando método dot\")\n",
    "print(array1.dot(array2))"
   ]
  },
  {
   "cell_type": "code",
   "execution_count": 23,
   "metadata": {
    "tags": []
   },
   "outputs": [
    {
     "output_type": "stream",
     "name": "stdout",
     "text": "Média: 4.5\n\nMínimo: 0\n\nMáximo: 9\n\nSoma: 45\n\nDesvio Padrão: 2.8722813232690143\n\nSoma cumulativa: [ 0  1  3  6 10 15 21 28 36 45]\n\n"
    }
   ],
   "source": [
    "# você também pode usar vários métodos de listas aqui\n",
    "# mas vamos ver alguns métodos úteis de np.array\n",
    "\n",
    "array = np.arange(10)\n",
    "print('Média: {}\\n'.format(array.mean()))\n",
    "print('Mínimo: {}\\n'.format(array.min()))\n",
    "print('Máximo: {}\\n'.format(array.max()))\n",
    "print('Soma: {}\\n'.format(array.sum()))\n",
    "print('Desvio Padrão: {}\\n'.format(array.std()))\n",
    "print('Soma cumulativa: {}\\n'.format(array.cumsum()))"
   ]
  },
  {
   "cell_type": "code",
   "execution_count": 24,
   "metadata": {
    "tags": []
   },
   "outputs": [
    {
     "output_type": "stream",
     "name": "stdout",
     "text": "[[ 0  1  2  3  4]\n [ 5  6  7  8  9]\n [10 11 12 13 14]]\n"
    }
   ],
   "source": [
    "# como dito, numpy é muito útil para lidar com arrays n-dimensionais\n",
    "# isso inclui matrizes\n",
    "# portanto numpy possui vários atributos úteis para essa estrutura, como transposição\n",
    "\n",
    "array = np.arange(15).reshape(3,5)\n",
    "print(array)"
   ]
  },
  {
   "cell_type": "code",
   "execution_count": 25,
   "metadata": {},
   "outputs": [
    {
     "output_type": "execute_result",
     "data": {
      "text/plain": "array([[ 0,  5, 10],\n       [ 1,  6, 11],\n       [ 2,  7, 12],\n       [ 3,  8, 13],\n       [ 4,  9, 14]])"
     },
     "metadata": {},
     "execution_count": 25
    }
   ],
   "source": [
    "# o atributo T devolve a transposta da matriz\n",
    "\n",
    "array.T"
   ]
  },
  {
   "cell_type": "code",
   "execution_count": 26,
   "metadata": {},
   "outputs": [
    {
     "output_type": "execute_result",
     "data": {
      "text/plain": "array([[-2. ,  1. ],\n       [ 1.5, -0.5]])"
     },
     "metadata": {},
     "execution_count": 26
    }
   ],
   "source": [
    "# o atributo linalg do numpy possui vários métodos úteis\n",
    "\n",
    "# calcular a inversa\n",
    "array = np.arange(1,5).reshape(2,2)\n",
    "np.linalg.inv(array)"
   ]
  },
  {
   "cell_type": "code",
   "execution_count": 27,
   "metadata": {},
   "outputs": [
    {
     "output_type": "execute_result",
     "data": {
      "text/plain": "array([[-3.],\n       [ 4.]])"
     },
     "metadata": {},
     "execution_count": 27
    }
   ],
   "source": [
    "# e até um método para solucionar equações lineares\n",
    "\n",
    "y = np.array([5,7]).reshape(2,1)\n",
    "np.linalg.solve(array,y)"
   ]
  },
  {
   "cell_type": "code",
   "execution_count": null,
   "metadata": {},
   "outputs": [],
   "source": [
    "# enfim, uma infinidade de funções, métodos, atributos...\n",
    "# por enquanto é isso, você pode achar muito mais, se necessário, na documentação"
   ]
  },
  {
   "cell_type": "markdown",
   "metadata": {},
   "source": [
    "## Pandas"
   ]
  },
  {
   "cell_type": "markdown",
   "metadata": {},
   "source": [
    "Você pode ter notado que a apresentação do arquivo CSV que abrimos anteriormente não é das mais bonitas e eu lhe garanto que também não é das mais fáceis de trabalhar. Para isso existe uma library muito prática e com diversas funções que tornam a análise de dados e arquivos muito mais prático.\n",
    "\n",
    "De novo, dê uma lida na <a href=\"https://pandas.pydata.org/\" target=\"_blank\">documentação</a>!"
   ]
  },
  {
   "cell_type": "code",
   "execution_count": null,
   "metadata": {},
   "outputs": [],
   "source": [
    "# rode essa célula caso você não possua a library\n",
    "\n",
    "!pip install pandas"
   ]
  },
  {
   "cell_type": "code",
   "execution_count": 28,
   "metadata": {},
   "outputs": [
    {
     "output_type": "execute_result",
     "data": {
      "text/plain": "'1.0.5'"
     },
     "metadata": {},
     "execution_count": 28
    }
   ],
   "source": [
    "# importe a library e confira a versão\n",
    "\n",
    "import numpy as np\n",
    "import pandas as pd\n",
    "pd.__version__"
   ]
  },
  {
   "cell_type": "code",
   "execution_count": 29,
   "metadata": {},
   "outputs": [
    {
     "output_type": "execute_result",
     "data": {
      "text/plain": "0    1.0\n1    2.0\n2    3.0\n3    NaN\n4    5.0\n5    6.0\ndtype: float64"
     },
     "metadata": {},
     "execution_count": 29
    }
   ],
   "source": [
    "# o grande diferencial do pandas está no seu objeto Series\n",
    "# que possui uma série de atributos e métodos para processar dados\n",
    "\n",
    "series = pd.Series([1,2,3,np.nan,5,6])\n",
    "series"
   ]
  },
  {
   "cell_type": "code",
   "execution_count": null,
   "metadata": {},
   "outputs": [],
   "source": [
    "# o elemento NaN ou np.nan representa a ausência de um valor\n",
    "# cuidado! ele é diferente de um objeto null ou None"
   ]
  },
  {
   "cell_type": "code",
   "execution_count": 30,
   "metadata": {},
   "outputs": [
    {
     "output_type": "execute_result",
     "data": {
      "text/plain": "pandas.core.series.Series"
     },
     "metadata": {},
     "execution_count": 30
    }
   ],
   "source": [
    "# como sempre, vamos conferir o tipo de series\n",
    "\n",
    "type(series)"
   ]
  },
  {
   "cell_type": "code",
   "execution_count": 31,
   "metadata": {},
   "outputs": [
    {
     "output_type": "execute_result",
     "data": {
      "text/plain": "DatetimeIndex(['2020-01-01', '2020-01-02', '2020-01-03', '2020-01-04',\n               '2020-01-05', '2020-01-06', '2020-01-07', '2020-01-08',\n               '2020-01-09'],\n              dtype='datetime64[ns]', freq='D')"
     },
     "metadata": {},
     "execution_count": 31
    }
   ],
   "source": [
    "# com Pandas você criar uma ainda objetos do tipo DatetimeIndex\n",
    "# muito útil para trabalhar com séries temporais\n",
    "\n",
    "dates = pd.date_range('20200101', periods=9)\n",
    "dates"
   ]
  },
  {
   "cell_type": "code",
   "execution_count": 32,
   "metadata": {},
   "outputs": [
    {
     "output_type": "execute_result",
     "data": {
      "text/plain": "pandas.core.indexes.datetimes.DatetimeIndex"
     },
     "metadata": {},
     "execution_count": 32
    }
   ],
   "source": [
    "type(dates)"
   ]
  },
  {
   "cell_type": "code",
   "execution_count": null,
   "metadata": {},
   "outputs": [],
   "source": [
    "# tá bom, mas você pode estar pensando\n",
    "# \"que saco, que saco, numpy já não fazia isso?\"\n",
    "# mas é aqui que entra um diferencial do Pandas em relação ao Numpy\n",
    "# com pandas você pode unir duas ou mais séries e formar um DataFrame\n",
    "# DataFrames são estruturas ótimas para lidar com tabelas e bases de dados"
   ]
  },
  {
   "cell_type": "code",
   "execution_count": 33,
   "metadata": {},
   "outputs": [
    {
     "output_type": "execute_result",
     "data": {
      "text/plain": "   0\na  0\nb  1\nc  2\nd  3\ne  4",
      "text/html": "<div>\n<style scoped>\n    .dataframe tbody tr th:only-of-type {\n        vertical-align: middle;\n    }\n\n    .dataframe tbody tr th {\n        vertical-align: top;\n    }\n\n    .dataframe thead th {\n        text-align: right;\n    }\n</style>\n<table border=\"1\" class=\"dataframe\">\n  <thead>\n    <tr style=\"text-align: right;\">\n      <th></th>\n      <th>0</th>\n    </tr>\n  </thead>\n  <tbody>\n    <tr>\n      <th>a</th>\n      <td>0</td>\n    </tr>\n    <tr>\n      <th>b</th>\n      <td>1</td>\n    </tr>\n    <tr>\n      <th>c</th>\n      <td>2</td>\n    </tr>\n    <tr>\n      <th>d</th>\n      <td>3</td>\n    </tr>\n    <tr>\n      <th>e</th>\n      <td>4</td>\n    </tr>\n  </tbody>\n</table>\n</div>"
     },
     "metadata": {},
     "execution_count": 33
    }
   ],
   "source": [
    "dataframe = pd.DataFrame(np.arange(5), index=['a','b','c','d','e'])\n",
    "dataframe"
   ]
  },
  {
   "cell_type": "code",
   "execution_count": null,
   "metadata": {},
   "outputs": [],
   "source": [
    "type(dataframe)"
   ]
  },
  {
   "cell_type": "code",
   "execution_count": 34,
   "metadata": {},
   "outputs": [
    {
     "output_type": "execute_result",
     "data": {
      "text/plain": "    Coluna 1  Coluna 2 Coluna 3\n0 2020-01-01         0      foo\n1 2020-01-02         1      foo\n2 2020-01-03         2      foo\n3 2020-01-04         3      foo\n4 2020-01-05         4      foo\n5 2020-01-06         5      foo\n6 2020-01-07         6      foo\n7 2020-01-08         7      foo\n8 2020-01-09         8      foo",
      "text/html": "<div>\n<style scoped>\n    .dataframe tbody tr th:only-of-type {\n        vertical-align: middle;\n    }\n\n    .dataframe tbody tr th {\n        vertical-align: top;\n    }\n\n    .dataframe thead th {\n        text-align: right;\n    }\n</style>\n<table border=\"1\" class=\"dataframe\">\n  <thead>\n    <tr style=\"text-align: right;\">\n      <th></th>\n      <th>Coluna 1</th>\n      <th>Coluna 2</th>\n      <th>Coluna 3</th>\n    </tr>\n  </thead>\n  <tbody>\n    <tr>\n      <th>0</th>\n      <td>2020-01-01</td>\n      <td>0</td>\n      <td>foo</td>\n    </tr>\n    <tr>\n      <th>1</th>\n      <td>2020-01-02</td>\n      <td>1</td>\n      <td>foo</td>\n    </tr>\n    <tr>\n      <th>2</th>\n      <td>2020-01-03</td>\n      <td>2</td>\n      <td>foo</td>\n    </tr>\n    <tr>\n      <th>3</th>\n      <td>2020-01-04</td>\n      <td>3</td>\n      <td>foo</td>\n    </tr>\n    <tr>\n      <th>4</th>\n      <td>2020-01-05</td>\n      <td>4</td>\n      <td>foo</td>\n    </tr>\n    <tr>\n      <th>5</th>\n      <td>2020-01-06</td>\n      <td>5</td>\n      <td>foo</td>\n    </tr>\n    <tr>\n      <th>6</th>\n      <td>2020-01-07</td>\n      <td>6</td>\n      <td>foo</td>\n    </tr>\n    <tr>\n      <th>7</th>\n      <td>2020-01-08</td>\n      <td>7</td>\n      <td>foo</td>\n    </tr>\n    <tr>\n      <th>8</th>\n      <td>2020-01-09</td>\n      <td>8</td>\n      <td>foo</td>\n    </tr>\n  </tbody>\n</table>\n</div>"
     },
     "metadata": {},
     "execution_count": 34
    }
   ],
   "source": [
    "# e isso seria só arranhar a superfície, você pode criar dataframes ainda mais complexos\n",
    "\n",
    "df = pd.DataFrame({'Coluna 1':pd.date_range('20200101', periods=9),\n",
    "                   'Coluna 2':np.arange(9),\n",
    "                   'Coluna 3':'foo'})\n",
    "df"
   ]
  },
  {
   "cell_type": "code",
   "execution_count": null,
   "metadata": {},
   "outputs": [],
   "source": [
    "# você pode conferir o tipo de cada coluna\n",
    "\n",
    "df.dtypes"
   ]
  },
  {
   "cell_type": "code",
   "execution_count": null,
   "metadata": {},
   "outputs": [],
   "source": [
    "# plotar apenas uma ou mais colunas\n",
    "\n",
    "df['Coluna 1']"
   ]
  },
  {
   "cell_type": "code",
   "execution_count": null,
   "metadata": {},
   "outputs": [],
   "source": [
    "# e inclusive conferir o nome das colunas do dataframe\n",
    "\n",
    "df.columns"
   ]
  },
  {
   "cell_type": "code",
   "execution_count": null,
   "metadata": {},
   "outputs": [],
   "source": [
    "# só pro caso de eu ainda não ter convencido você\n",
    "# olha como fica o arquivo csv que tinhamos lido antes\n",
    "\n",
    "df = pd.read_csv('./data/housing.csv')\n",
    "type(df)"
   ]
  },
  {
   "cell_type": "code",
   "execution_count": null,
   "metadata": {},
   "outputs": [],
   "source": [
    "# para visualizar só algunas linhas do dataframe\n",
    "# é útil usar métodos como head(n) ou tail(n)\n",
    "# head devolve as n primeiras linhas\n",
    "# tail devolve as n últimas linhas\n",
    "# se não for passado n, o valor default será 5"
   ]
  },
  {
   "cell_type": "code",
   "execution_count": null,
   "metadata": {
    "scrolled": true
   },
   "outputs": [],
   "source": [
    "df.head()"
   ]
  },
  {
   "cell_type": "code",
   "execution_count": null,
   "metadata": {},
   "outputs": [],
   "source": [
    "# muito melhor apresentado, não acha?"
   ]
  },
  {
   "cell_type": "code",
   "execution_count": null,
   "metadata": {},
   "outputs": [],
   "source": [
    "# um dataframe possui vários atributos e métodos em comuns com os arrays que vimos\n",
    "# olha só alguns\n",
    "\n",
    "# shape\n",
    "df.shape\n",
    "\n",
    "# 20640 linhas e 10 colunas"
   ]
  },
  {
   "cell_type": "code",
   "execution_count": null,
   "metadata": {},
   "outputs": [],
   "source": [
    "# média, desvio padrão, máximo...\n",
    "\n",
    "print('MÉDIA')\n",
    "print(df.mean())\n",
    "\n",
    "print('\\nDESVIO PADRÃO')\n",
    "print(df.std())\n",
    "\n",
    "print('\\nE por aí vai...')"
   ]
  },
  {
   "cell_type": "code",
   "execution_count": null,
   "metadata": {},
   "outputs": [],
   "source": [
    "# mas existe um método que te volve todos esses valores e mais alguns\n",
    "# é o método describe\n",
    "\n",
    "df.describe()"
   ]
  },
  {
   "cell_type": "code",
   "execution_count": null,
   "metadata": {},
   "outputs": [],
   "source": [
    "# o atribulo loc é muito útil para filtrar colunas ou linhas\n",
    "\n",
    "# df.loc[linhas, colunas] ou \":\" se quiser ler todas as linhas ou colunas\n",
    "df.loc[10:15, ['longitude','latitude']]"
   ]
  },
  {
   "cell_type": "code",
   "execution_count": null,
   "metadata": {},
   "outputs": [],
   "source": [
    "# caso você não conheça o nome da coluna ou linha\n",
    "# você pode filtrar por posição usando iloc\n",
    "\n",
    "df.iloc[300:305, 4:6]"
   ]
  },
  {
   "cell_type": "code",
   "execution_count": null,
   "metadata": {},
   "outputs": [],
   "source": [
    "# você pode ainda passar uma condição ao dataframe\n",
    "\n",
    "# filtrando apenas as linhas onde o valor da coluna population for maior que 1000\n",
    "df[df['population'] > 1000]"
   ]
  },
  {
   "cell_type": "code",
   "execution_count": null,
   "metadata": {},
   "outputs": [],
   "source": [
    "# você pode, ainda, fazer uma cópia de um dataframe\n",
    "# é muito útil para não passar modificações direto no dataframe\n",
    "\n",
    "df_copy = df.copy()\n",
    "df_copy.tail()"
   ]
  },
  {
   "cell_type": "code",
   "execution_count": null,
   "metadata": {},
   "outputs": [],
   "source": [
    "# e falando sobre passar modificações num dataframe\n",
    "# o método apply é muito útil para aplicar funções em uma ou mais colunas de um dataframe\n",
    "\n",
    "df_copy['population'].apply(lambda x: x**2)\n",
    "# nesse caso, para cada elemento da coluna, calculamos o valor desse ao quadrado"
   ]
  },
  {
   "cell_type": "code",
   "execution_count": null,
   "metadata": {},
   "outputs": [],
   "source": [
    "# e falando em operações, você pode criar novas séries a partir de operações com as colunas do dataframe\n",
    "\n",
    "df['total_bedrooms']/df['total_rooms']"
   ]
  },
  {
   "cell_type": "code",
   "execution_count": null,
   "metadata": {},
   "outputs": [],
   "source": [
    "# o resultado também é uma série e, portanto, você pode atribuir a uma nova coluna\n",
    "\n",
    "df['razao_AreaQuarto_AreaTotal'] = df['total_bedrooms']/df['total_rooms']\n",
    "df.head()\n",
    "\n",
    "# veja lá no fim a nova coluna criada"
   ]
  },
  {
   "cell_type": "code",
   "execution_count": null,
   "metadata": {},
   "outputs": [],
   "source": [
    "# o método value_counts devolve o número de aparições de cada elemento de uma coluna\n",
    "\n",
    "df['ocean_proximity'].value_counts()"
   ]
  },
  {
   "cell_type": "code",
   "execution_count": null,
   "metadata": {},
   "outputs": [],
   "source": [
    "# se você passar True pelo método, é possível conseguir a frequência relativa\n",
    "# número de aparições/total de linhas\n",
    "\n",
    "df['ocean_proximity'].value_counts(True)"
   ]
  },
  {
   "cell_type": "code",
   "execution_count": null,
   "metadata": {},
   "outputs": [],
   "source": [
    "# ainda é possível plotar uma variável numérica usando o método plot()\n",
    "\n",
    "df.head(50)['population'].plot(figsize=(15,8))"
   ]
  },
  {
   "cell_type": "code",
   "execution_count": null,
   "metadata": {},
   "outputs": [],
   "source": [
    "# ou plotar uma variável por outra\n",
    "\n",
    "df.plot.scatter(x='latitude',y='longitude',alpha=0.3,figsize=(12,12))"
   ]
  },
  {
   "cell_type": "markdown",
   "metadata": {},
   "source": [
    "O que você vê acima é uma tentativa (mais ou menos bem executada) de plotar um mapa da Califórnia (de onde foi tirado os dados do dataset) através dos valores de latitude e longitura.\n",
    "\n",
    "Bom, podemos fazer um trabalho bem melhor. E vamos, depois de vermos próxima e última parte do tutorial."
   ]
  },
  {
   "cell_type": "markdown",
   "metadata": {},
   "source": [
    "### Matplotlib"
   ]
  },
  {
   "cell_type": "markdown",
   "metadata": {},
   "source": [
    "Como de praxe, não deixe de consultar a <a href=\"https://matplotlib.org/3.1.1/api/_as_gen/matplotlib.pyplot.html\" target=\"_blank\">documentação</a>."
   ]
  },
  {
   "cell_type": "code",
   "execution_count": null,
   "metadata": {},
   "outputs": [],
   "source": [
    "# bom, nós não vamos bem aprender sobre matplolib\n",
    "# mas sobre pyplot, uma subcoleção de funções do matplotlib para platar gráficos\n",
    "# de novo, caso não possua a library, rode essa célula\n",
    "\n",
    "!pip install matplotlib"
   ]
  },
  {
   "cell_type": "code",
   "execution_count": null,
   "metadata": {},
   "outputs": [],
   "source": [
    "# o conceito é bem simples\n",
    "# você plota um gráfico através do método plot\n",
    "# personalizado da maneira que preferir\n",
    "\n",
    "import numpy as np\n",
    "import matplotlib.pyplot as plt"
   ]
  },
  {
   "cell_type": "code",
   "execution_count": 35,
   "metadata": {},
   "outputs": [
    {
     "output_type": "display_data",
     "data": {
      "text/plain": "<Figure size 432x288 with 1 Axes>",
      "image/svg+xml": "<?xml version=\"1.0\" encoding=\"utf-8\" standalone=\"no\"?>\r\n<!DOCTYPE svg PUBLIC \"-//W3C//DTD SVG 1.1//EN\"\r\n  \"http://www.w3.org/Graphics/SVG/1.1/DTD/svg11.dtd\">\r\n<!-- Created with matplotlib (https://matplotlib.org/) -->\r\n<svg height=\"248.518125pt\" version=\"1.1\" viewBox=\"0 0 386.845312 248.518125\" width=\"386.845312pt\" xmlns=\"http://www.w3.org/2000/svg\" xmlns:xlink=\"http://www.w3.org/1999/xlink\">\r\n <defs>\r\n  <style type=\"text/css\">\r\n*{stroke-linecap:butt;stroke-linejoin:round;}\r\n  </style>\r\n </defs>\r\n <g id=\"figure_1\">\r\n  <g id=\"patch_1\">\r\n   <path d=\"M 0 248.518125 \r\nL 386.845312 248.518125 \r\nL 386.845312 0 \r\nL 0 0 \r\nz\r\n\" style=\"fill:none;\"/>\r\n  </g>\r\n  <g id=\"axes_1\">\r\n   <g id=\"patch_2\">\r\n    <path d=\"M 44.845313 224.64 \r\nL 379.645313 224.64 \r\nL 379.645313 7.2 \r\nL 44.845313 7.2 \r\nz\r\n\" style=\"fill:#ffffff;\"/>\r\n   </g>\r\n   <g id=\"matplotlib.axis_1\">\r\n    <g id=\"xtick_1\">\r\n     <g id=\"line2d_1\">\r\n      <defs>\r\n       <path d=\"M 0 0 \r\nL 0 3.5 \r\n\" id=\"m59f4d937eb\" style=\"stroke:#000000;stroke-width:0.8;\"/>\r\n      </defs>\r\n      <g>\r\n       <use style=\"stroke:#000000;stroke-width:0.8;\" x=\"60.063494\" xlink:href=\"#m59f4d937eb\" y=\"224.64\"/>\r\n      </g>\r\n     </g>\r\n     <g id=\"text_1\">\r\n      <!-- 0 -->\r\n      <defs>\r\n       <path d=\"M 31.78125 66.40625 \r\nQ 24.171875 66.40625 20.328125 58.90625 \r\nQ 16.5 51.421875 16.5 36.375 \r\nQ 16.5 21.390625 20.328125 13.890625 \r\nQ 24.171875 6.390625 31.78125 6.390625 \r\nQ 39.453125 6.390625 43.28125 13.890625 \r\nQ 47.125 21.390625 47.125 36.375 \r\nQ 47.125 51.421875 43.28125 58.90625 \r\nQ 39.453125 66.40625 31.78125 66.40625 \r\nz\r\nM 31.78125 74.21875 \r\nQ 44.046875 74.21875 50.515625 64.515625 \r\nQ 56.984375 54.828125 56.984375 36.375 \r\nQ 56.984375 17.96875 50.515625 8.265625 \r\nQ 44.046875 -1.421875 31.78125 -1.421875 \r\nQ 19.53125 -1.421875 13.0625 8.265625 \r\nQ 6.59375 17.96875 6.59375 36.375 \r\nQ 6.59375 54.828125 13.0625 64.515625 \r\nQ 19.53125 74.21875 31.78125 74.21875 \r\nz\r\n\" id=\"DejaVuSans-48\"/>\r\n      </defs>\r\n      <g transform=\"translate(56.882244 239.238437)scale(0.1 -0.1)\">\r\n       <use xlink:href=\"#DejaVuSans-48\"/>\r\n      </g>\r\n     </g>\r\n    </g>\r\n    <g id=\"xtick_2\">\r\n     <g id=\"line2d_2\">\r\n      <g>\r\n       <use style=\"stroke:#000000;stroke-width:0.8;\" x=\"108.504472\" xlink:href=\"#m59f4d937eb\" y=\"224.64\"/>\r\n      </g>\r\n     </g>\r\n     <g id=\"text_2\">\r\n      <!-- 1 -->\r\n      <defs>\r\n       <path d=\"M 12.40625 8.296875 \r\nL 28.515625 8.296875 \r\nL 28.515625 63.921875 \r\nL 10.984375 60.40625 \r\nL 10.984375 69.390625 \r\nL 28.421875 72.90625 \r\nL 38.28125 72.90625 \r\nL 38.28125 8.296875 \r\nL 54.390625 8.296875 \r\nL 54.390625 0 \r\nL 12.40625 0 \r\nz\r\n\" id=\"DejaVuSans-49\"/>\r\n      </defs>\r\n      <g transform=\"translate(105.323222 239.238437)scale(0.1 -0.1)\">\r\n       <use xlink:href=\"#DejaVuSans-49\"/>\r\n      </g>\r\n     </g>\r\n    </g>\r\n    <g id=\"xtick_3\">\r\n     <g id=\"line2d_3\">\r\n      <g>\r\n       <use style=\"stroke:#000000;stroke-width:0.8;\" x=\"156.945449\" xlink:href=\"#m59f4d937eb\" y=\"224.64\"/>\r\n      </g>\r\n     </g>\r\n     <g id=\"text_3\">\r\n      <!-- 2 -->\r\n      <defs>\r\n       <path d=\"M 19.1875 8.296875 \r\nL 53.609375 8.296875 \r\nL 53.609375 0 \r\nL 7.328125 0 \r\nL 7.328125 8.296875 \r\nQ 12.9375 14.109375 22.625 23.890625 \r\nQ 32.328125 33.6875 34.8125 36.53125 \r\nQ 39.546875 41.84375 41.421875 45.53125 \r\nQ 43.3125 49.21875 43.3125 52.78125 \r\nQ 43.3125 58.59375 39.234375 62.25 \r\nQ 35.15625 65.921875 28.609375 65.921875 \r\nQ 23.96875 65.921875 18.8125 64.3125 \r\nQ 13.671875 62.703125 7.8125 59.421875 \r\nL 7.8125 69.390625 \r\nQ 13.765625 71.78125 18.9375 73 \r\nQ 24.125 74.21875 28.421875 74.21875 \r\nQ 39.75 74.21875 46.484375 68.546875 \r\nQ 53.21875 62.890625 53.21875 53.421875 \r\nQ 53.21875 48.921875 51.53125 44.890625 \r\nQ 49.859375 40.875 45.40625 35.40625 \r\nQ 44.1875 33.984375 37.640625 27.21875 \r\nQ 31.109375 20.453125 19.1875 8.296875 \r\nz\r\n\" id=\"DejaVuSans-50\"/>\r\n      </defs>\r\n      <g transform=\"translate(153.764199 239.238437)scale(0.1 -0.1)\">\r\n       <use xlink:href=\"#DejaVuSans-50\"/>\r\n      </g>\r\n     </g>\r\n    </g>\r\n    <g id=\"xtick_4\">\r\n     <g id=\"line2d_4\">\r\n      <g>\r\n       <use style=\"stroke:#000000;stroke-width:0.8;\" x=\"205.386426\" xlink:href=\"#m59f4d937eb\" y=\"224.64\"/>\r\n      </g>\r\n     </g>\r\n     <g id=\"text_4\">\r\n      <!-- 3 -->\r\n      <defs>\r\n       <path d=\"M 40.578125 39.3125 \r\nQ 47.65625 37.796875 51.625 33 \r\nQ 55.609375 28.21875 55.609375 21.1875 \r\nQ 55.609375 10.40625 48.1875 4.484375 \r\nQ 40.765625 -1.421875 27.09375 -1.421875 \r\nQ 22.515625 -1.421875 17.65625 -0.515625 \r\nQ 12.796875 0.390625 7.625 2.203125 \r\nL 7.625 11.71875 \r\nQ 11.71875 9.328125 16.59375 8.109375 \r\nQ 21.484375 6.890625 26.8125 6.890625 \r\nQ 36.078125 6.890625 40.9375 10.546875 \r\nQ 45.796875 14.203125 45.796875 21.1875 \r\nQ 45.796875 27.640625 41.28125 31.265625 \r\nQ 36.765625 34.90625 28.71875 34.90625 \r\nL 20.21875 34.90625 \r\nL 20.21875 43.015625 \r\nL 29.109375 43.015625 \r\nQ 36.375 43.015625 40.234375 45.921875 \r\nQ 44.09375 48.828125 44.09375 54.296875 \r\nQ 44.09375 59.90625 40.109375 62.90625 \r\nQ 36.140625 65.921875 28.71875 65.921875 \r\nQ 24.65625 65.921875 20.015625 65.03125 \r\nQ 15.375 64.15625 9.8125 62.3125 \r\nL 9.8125 71.09375 \r\nQ 15.4375 72.65625 20.34375 73.4375 \r\nQ 25.25 74.21875 29.59375 74.21875 \r\nQ 40.828125 74.21875 47.359375 69.109375 \r\nQ 53.90625 64.015625 53.90625 55.328125 \r\nQ 53.90625 49.265625 50.4375 45.09375 \r\nQ 46.96875 40.921875 40.578125 39.3125 \r\nz\r\n\" id=\"DejaVuSans-51\"/>\r\n      </defs>\r\n      <g transform=\"translate(202.205176 239.238437)scale(0.1 -0.1)\">\r\n       <use xlink:href=\"#DejaVuSans-51\"/>\r\n      </g>\r\n     </g>\r\n    </g>\r\n    <g id=\"xtick_5\">\r\n     <g id=\"line2d_5\">\r\n      <g>\r\n       <use style=\"stroke:#000000;stroke-width:0.8;\" x=\"253.827403\" xlink:href=\"#m59f4d937eb\" y=\"224.64\"/>\r\n      </g>\r\n     </g>\r\n     <g id=\"text_5\">\r\n      <!-- 4 -->\r\n      <defs>\r\n       <path d=\"M 37.796875 64.3125 \r\nL 12.890625 25.390625 \r\nL 37.796875 25.390625 \r\nz\r\nM 35.203125 72.90625 \r\nL 47.609375 72.90625 \r\nL 47.609375 25.390625 \r\nL 58.015625 25.390625 \r\nL 58.015625 17.1875 \r\nL 47.609375 17.1875 \r\nL 47.609375 0 \r\nL 37.796875 0 \r\nL 37.796875 17.1875 \r\nL 4.890625 17.1875 \r\nL 4.890625 26.703125 \r\nz\r\n\" id=\"DejaVuSans-52\"/>\r\n      </defs>\r\n      <g transform=\"translate(250.646153 239.238437)scale(0.1 -0.1)\">\r\n       <use xlink:href=\"#DejaVuSans-52\"/>\r\n      </g>\r\n     </g>\r\n    </g>\r\n    <g id=\"xtick_6\">\r\n     <g id=\"line2d_6\">\r\n      <g>\r\n       <use style=\"stroke:#000000;stroke-width:0.8;\" x=\"302.26838\" xlink:href=\"#m59f4d937eb\" y=\"224.64\"/>\r\n      </g>\r\n     </g>\r\n     <g id=\"text_6\">\r\n      <!-- 5 -->\r\n      <defs>\r\n       <path d=\"M 10.796875 72.90625 \r\nL 49.515625 72.90625 \r\nL 49.515625 64.59375 \r\nL 19.828125 64.59375 \r\nL 19.828125 46.734375 \r\nQ 21.96875 47.46875 24.109375 47.828125 \r\nQ 26.265625 48.1875 28.421875 48.1875 \r\nQ 40.625 48.1875 47.75 41.5 \r\nQ 54.890625 34.8125 54.890625 23.390625 \r\nQ 54.890625 11.625 47.5625 5.09375 \r\nQ 40.234375 -1.421875 26.90625 -1.421875 \r\nQ 22.3125 -1.421875 17.546875 -0.640625 \r\nQ 12.796875 0.140625 7.71875 1.703125 \r\nL 7.71875 11.625 \r\nQ 12.109375 9.234375 16.796875 8.0625 \r\nQ 21.484375 6.890625 26.703125 6.890625 \r\nQ 35.15625 6.890625 40.078125 11.328125 \r\nQ 45.015625 15.765625 45.015625 23.390625 \r\nQ 45.015625 31 40.078125 35.4375 \r\nQ 35.15625 39.890625 26.703125 39.890625 \r\nQ 22.75 39.890625 18.8125 39.015625 \r\nQ 14.890625 38.140625 10.796875 36.28125 \r\nz\r\n\" id=\"DejaVuSans-53\"/>\r\n      </defs>\r\n      <g transform=\"translate(299.08713 239.238437)scale(0.1 -0.1)\">\r\n       <use xlink:href=\"#DejaVuSans-53\"/>\r\n      </g>\r\n     </g>\r\n    </g>\r\n    <g id=\"xtick_7\">\r\n     <g id=\"line2d_7\">\r\n      <g>\r\n       <use style=\"stroke:#000000;stroke-width:0.8;\" x=\"350.709358\" xlink:href=\"#m59f4d937eb\" y=\"224.64\"/>\r\n      </g>\r\n     </g>\r\n     <g id=\"text_7\">\r\n      <!-- 6 -->\r\n      <defs>\r\n       <path d=\"M 33.015625 40.375 \r\nQ 26.375 40.375 22.484375 35.828125 \r\nQ 18.609375 31.296875 18.609375 23.390625 \r\nQ 18.609375 15.53125 22.484375 10.953125 \r\nQ 26.375 6.390625 33.015625 6.390625 \r\nQ 39.65625 6.390625 43.53125 10.953125 \r\nQ 47.40625 15.53125 47.40625 23.390625 \r\nQ 47.40625 31.296875 43.53125 35.828125 \r\nQ 39.65625 40.375 33.015625 40.375 \r\nz\r\nM 52.59375 71.296875 \r\nL 52.59375 62.3125 \r\nQ 48.875 64.0625 45.09375 64.984375 \r\nQ 41.3125 65.921875 37.59375 65.921875 \r\nQ 27.828125 65.921875 22.671875 59.328125 \r\nQ 17.53125 52.734375 16.796875 39.40625 \r\nQ 19.671875 43.65625 24.015625 45.921875 \r\nQ 28.375 48.1875 33.59375 48.1875 \r\nQ 44.578125 48.1875 50.953125 41.515625 \r\nQ 57.328125 34.859375 57.328125 23.390625 \r\nQ 57.328125 12.15625 50.6875 5.359375 \r\nQ 44.046875 -1.421875 33.015625 -1.421875 \r\nQ 20.359375 -1.421875 13.671875 8.265625 \r\nQ 6.984375 17.96875 6.984375 36.375 \r\nQ 6.984375 53.65625 15.1875 63.9375 \r\nQ 23.390625 74.21875 37.203125 74.21875 \r\nQ 40.921875 74.21875 44.703125 73.484375 \r\nQ 48.484375 72.75 52.59375 71.296875 \r\nz\r\n\" id=\"DejaVuSans-54\"/>\r\n      </defs>\r\n      <g transform=\"translate(347.528108 239.238437)scale(0.1 -0.1)\">\r\n       <use xlink:href=\"#DejaVuSans-54\"/>\r\n      </g>\r\n     </g>\r\n    </g>\r\n   </g>\r\n   <g id=\"matplotlib.axis_2\">\r\n    <g id=\"ytick_1\">\r\n     <g id=\"line2d_8\">\r\n      <defs>\r\n       <path d=\"M 0 0 \r\nL -3.5 0 \r\n\" id=\"mf63bed5086\" style=\"stroke:#000000;stroke-width:0.8;\"/>\r\n      </defs>\r\n      <g>\r\n       <use style=\"stroke:#000000;stroke-width:0.8;\" x=\"44.845313\" xlink:href=\"#mf63bed5086\" y=\"214.768806\"/>\r\n      </g>\r\n     </g>\r\n     <g id=\"text_8\">\r\n      <!-- −1.00 -->\r\n      <defs>\r\n       <path d=\"M 10.59375 35.5 \r\nL 73.1875 35.5 \r\nL 73.1875 27.203125 \r\nL 10.59375 27.203125 \r\nz\r\n\" id=\"DejaVuSans-8722\"/>\r\n       <path d=\"M 10.6875 12.40625 \r\nL 21 12.40625 \r\nL 21 0 \r\nL 10.6875 0 \r\nz\r\n\" id=\"DejaVuSans-46\"/>\r\n      </defs>\r\n      <g transform=\"translate(7.2 218.568025)scale(0.1 -0.1)\">\r\n       <use xlink:href=\"#DejaVuSans-8722\"/>\r\n       <use x=\"83.789062\" xlink:href=\"#DejaVuSans-49\"/>\r\n       <use x=\"147.412109\" xlink:href=\"#DejaVuSans-46\"/>\r\n       <use x=\"179.199219\" xlink:href=\"#DejaVuSans-48\"/>\r\n       <use x=\"242.822266\" xlink:href=\"#DejaVuSans-48\"/>\r\n      </g>\r\n     </g>\r\n    </g>\r\n    <g id=\"ytick_2\">\r\n     <g id=\"line2d_9\">\r\n      <g>\r\n       <use style=\"stroke:#000000;stroke-width:0.8;\" x=\"44.845313\" xlink:href=\"#mf63bed5086\" y=\"190.056604\"/>\r\n      </g>\r\n     </g>\r\n     <g id=\"text_9\">\r\n      <!-- −0.75 -->\r\n      <defs>\r\n       <path d=\"M 8.203125 72.90625 \r\nL 55.078125 72.90625 \r\nL 55.078125 68.703125 \r\nL 28.609375 0 \r\nL 18.3125 0 \r\nL 43.21875 64.59375 \r\nL 8.203125 64.59375 \r\nz\r\n\" id=\"DejaVuSans-55\"/>\r\n      </defs>\r\n      <g transform=\"translate(7.2 193.855823)scale(0.1 -0.1)\">\r\n       <use xlink:href=\"#DejaVuSans-8722\"/>\r\n       <use x=\"83.789062\" xlink:href=\"#DejaVuSans-48\"/>\r\n       <use x=\"147.412109\" xlink:href=\"#DejaVuSans-46\"/>\r\n       <use x=\"179.199219\" xlink:href=\"#DejaVuSans-55\"/>\r\n       <use x=\"242.822266\" xlink:href=\"#DejaVuSans-53\"/>\r\n      </g>\r\n     </g>\r\n    </g>\r\n    <g id=\"ytick_3\">\r\n     <g id=\"line2d_10\">\r\n      <g>\r\n       <use style=\"stroke:#000000;stroke-width:0.8;\" x=\"44.845313\" xlink:href=\"#mf63bed5086\" y=\"165.344403\"/>\r\n      </g>\r\n     </g>\r\n     <g id=\"text_10\">\r\n      <!-- −0.50 -->\r\n      <g transform=\"translate(7.2 169.143622)scale(0.1 -0.1)\">\r\n       <use xlink:href=\"#DejaVuSans-8722\"/>\r\n       <use x=\"83.789062\" xlink:href=\"#DejaVuSans-48\"/>\r\n       <use x=\"147.412109\" xlink:href=\"#DejaVuSans-46\"/>\r\n       <use x=\"179.199219\" xlink:href=\"#DejaVuSans-53\"/>\r\n       <use x=\"242.822266\" xlink:href=\"#DejaVuSans-48\"/>\r\n      </g>\r\n     </g>\r\n    </g>\r\n    <g id=\"ytick_4\">\r\n     <g id=\"line2d_11\">\r\n      <g>\r\n       <use style=\"stroke:#000000;stroke-width:0.8;\" x=\"44.845313\" xlink:href=\"#mf63bed5086\" y=\"140.632201\"/>\r\n      </g>\r\n     </g>\r\n     <g id=\"text_11\">\r\n      <!-- −0.25 -->\r\n      <g transform=\"translate(7.2 144.43142)scale(0.1 -0.1)\">\r\n       <use xlink:href=\"#DejaVuSans-8722\"/>\r\n       <use x=\"83.789062\" xlink:href=\"#DejaVuSans-48\"/>\r\n       <use x=\"147.412109\" xlink:href=\"#DejaVuSans-46\"/>\r\n       <use x=\"179.199219\" xlink:href=\"#DejaVuSans-50\"/>\r\n       <use x=\"242.822266\" xlink:href=\"#DejaVuSans-53\"/>\r\n      </g>\r\n     </g>\r\n    </g>\r\n    <g id=\"ytick_5\">\r\n     <g id=\"line2d_12\">\r\n      <g>\r\n       <use style=\"stroke:#000000;stroke-width:0.8;\" x=\"44.845313\" xlink:href=\"#mf63bed5086\" y=\"115.92\"/>\r\n      </g>\r\n     </g>\r\n     <g id=\"text_12\">\r\n      <!-- 0.00 -->\r\n      <g transform=\"translate(15.579688 119.719219)scale(0.1 -0.1)\">\r\n       <use xlink:href=\"#DejaVuSans-48\"/>\r\n       <use x=\"63.623047\" xlink:href=\"#DejaVuSans-46\"/>\r\n       <use x=\"95.410156\" xlink:href=\"#DejaVuSans-48\"/>\r\n       <use x=\"159.033203\" xlink:href=\"#DejaVuSans-48\"/>\r\n      </g>\r\n     </g>\r\n    </g>\r\n    <g id=\"ytick_6\">\r\n     <g id=\"line2d_13\">\r\n      <g>\r\n       <use style=\"stroke:#000000;stroke-width:0.8;\" x=\"44.845313\" xlink:href=\"#mf63bed5086\" y=\"91.207799\"/>\r\n      </g>\r\n     </g>\r\n     <g id=\"text_13\">\r\n      <!-- 0.25 -->\r\n      <g transform=\"translate(15.579688 95.007017)scale(0.1 -0.1)\">\r\n       <use xlink:href=\"#DejaVuSans-48\"/>\r\n       <use x=\"63.623047\" xlink:href=\"#DejaVuSans-46\"/>\r\n       <use x=\"95.410156\" xlink:href=\"#DejaVuSans-50\"/>\r\n       <use x=\"159.033203\" xlink:href=\"#DejaVuSans-53\"/>\r\n      </g>\r\n     </g>\r\n    </g>\r\n    <g id=\"ytick_7\">\r\n     <g id=\"line2d_14\">\r\n      <g>\r\n       <use style=\"stroke:#000000;stroke-width:0.8;\" x=\"44.845313\" xlink:href=\"#mf63bed5086\" y=\"66.495597\"/>\r\n      </g>\r\n     </g>\r\n     <g id=\"text_14\">\r\n      <!-- 0.50 -->\r\n      <g transform=\"translate(15.579688 70.294816)scale(0.1 -0.1)\">\r\n       <use xlink:href=\"#DejaVuSans-48\"/>\r\n       <use x=\"63.623047\" xlink:href=\"#DejaVuSans-46\"/>\r\n       <use x=\"95.410156\" xlink:href=\"#DejaVuSans-53\"/>\r\n       <use x=\"159.033203\" xlink:href=\"#DejaVuSans-48\"/>\r\n      </g>\r\n     </g>\r\n    </g>\r\n    <g id=\"ytick_8\">\r\n     <g id=\"line2d_15\">\r\n      <g>\r\n       <use style=\"stroke:#000000;stroke-width:0.8;\" x=\"44.845313\" xlink:href=\"#mf63bed5086\" y=\"41.783396\"/>\r\n      </g>\r\n     </g>\r\n     <g id=\"text_15\">\r\n      <!-- 0.75 -->\r\n      <g transform=\"translate(15.579688 45.582614)scale(0.1 -0.1)\">\r\n       <use xlink:href=\"#DejaVuSans-48\"/>\r\n       <use x=\"63.623047\" xlink:href=\"#DejaVuSans-46\"/>\r\n       <use x=\"95.410156\" xlink:href=\"#DejaVuSans-55\"/>\r\n       <use x=\"159.033203\" xlink:href=\"#DejaVuSans-53\"/>\r\n      </g>\r\n     </g>\r\n    </g>\r\n    <g id=\"ytick_9\">\r\n     <g id=\"line2d_16\">\r\n      <g>\r\n       <use style=\"stroke:#000000;stroke-width:0.8;\" x=\"44.845313\" xlink:href=\"#mf63bed5086\" y=\"17.071194\"/>\r\n      </g>\r\n     </g>\r\n     <g id=\"text_16\">\r\n      <!-- 1.00 -->\r\n      <g transform=\"translate(15.579688 20.870413)scale(0.1 -0.1)\">\r\n       <use xlink:href=\"#DejaVuSans-49\"/>\r\n       <use x=\"63.623047\" xlink:href=\"#DejaVuSans-46\"/>\r\n       <use x=\"95.410156\" xlink:href=\"#DejaVuSans-48\"/>\r\n       <use x=\"159.033203\" xlink:href=\"#DejaVuSans-48\"/>\r\n      </g>\r\n     </g>\r\n    </g>\r\n   </g>\r\n   <g id=\"line2d_17\">\r\n    <path clip-path=\"url(#p2b8fbebdb2)\" d=\"M 60.063494 115.92 \r\nL 63.137874 109.650621 \r\nL 66.212255 103.406487 \r\nL 69.286635 97.21274 \r\nL 72.361015 91.094321 \r\nL 75.435395 85.075866 \r\nL 78.509775 79.18161 \r\nL 81.584155 73.435286 \r\nL 84.658536 67.860033 \r\nL 87.732916 62.478301 \r\nL 90.807296 57.311759 \r\nL 93.881676 52.381212 \r\nL 96.956056 47.706514 \r\nL 100.030436 43.306487 \r\nL 103.104817 39.198849 \r\nL 106.179197 35.40014 \r\nL 109.253577 31.925656 \r\nL 112.327957 28.789388 \r\nL 115.402337 26.003963 \r\nL 118.476717 23.580599 \r\nL 121.551098 21.529054 \r\nL 124.625478 19.857587 \r\nL 127.699858 18.57293 \r\nL 130.774238 17.680254 \r\nL 133.848618 17.183156 \r\nL 136.922998 17.083636 \r\nL 139.997379 17.382096 \r\nL 143.071759 18.077332 \r\nL 146.146139 19.166547 \r\nL 149.220519 20.645353 \r\nL 152.294899 22.507797 \r\nL 155.369279 24.746379 \r\nL 158.44366 27.352085 \r\nL 161.51804 30.314423 \r\nL 164.59242 33.621464 \r\nL 167.6668 37.259892 \r\nL 170.74118 41.215057 \r\nL 173.81556 45.471032 \r\nL 176.889941 50.01068 \r\nL 179.964321 54.815722 \r\nL 183.038701 59.86681 \r\nL 186.113081 65.143603 \r\nL 189.187461 70.624855 \r\nL 192.261841 76.288495 \r\nL 195.336222 82.111717 \r\nL 198.410602 88.071073 \r\nL 201.484982 94.142567 \r\nL 204.559362 100.301751 \r\nL 207.633742 106.523824 \r\nL 210.708122 112.783732 \r\nL 213.782503 119.056268 \r\nL 216.856883 125.316176 \r\nL 219.931263 131.538249 \r\nL 223.005643 137.697433 \r\nL 226.080023 143.768927 \r\nL 229.154403 149.728283 \r\nL 232.228784 155.551505 \r\nL 235.303164 161.215145 \r\nL 238.377544 166.696397 \r\nL 241.451924 171.97319 \r\nL 244.526304 177.024278 \r\nL 247.600684 181.82932 \r\nL 250.675065 186.368968 \r\nL 253.749445 190.624943 \r\nL 256.823825 194.580108 \r\nL 259.898205 198.218536 \r\nL 262.972585 201.525577 \r\nL 266.046965 204.487915 \r\nL 269.121346 207.093621 \r\nL 272.195726 209.332203 \r\nL 275.270106 211.194647 \r\nL 278.344486 212.673453 \r\nL 281.418866 213.762668 \r\nL 284.493246 214.457904 \r\nL 287.567627 214.756364 \r\nL 290.642007 214.656844 \r\nL 293.716387 214.159746 \r\nL 296.790767 213.26707 \r\nL 299.865147 211.982413 \r\nL 302.939527 210.310946 \r\nL 306.013908 208.259401 \r\nL 309.088288 205.836037 \r\nL 312.162668 203.050612 \r\nL 315.237048 199.914344 \r\nL 318.311428 196.43986 \r\nL 321.385808 192.641151 \r\nL 324.460189 188.533513 \r\nL 327.534569 184.133486 \r\nL 330.608949 179.458788 \r\nL 333.683329 174.528241 \r\nL 336.757709 169.361699 \r\nL 339.832089 163.979967 \r\nL 342.90647 158.404714 \r\nL 345.98085 152.65839 \r\nL 349.05523 146.764134 \r\nL 352.12961 140.745679 \r\nL 355.20399 134.62726 \r\nL 358.27837 128.433513 \r\nL 361.352751 122.189379 \r\nL 364.427131 115.92 \r\n\" style=\"fill:none;stroke:#1f77b4;stroke-linecap:square;stroke-width:1.5;\"/>\r\n   </g>\r\n   <g id=\"patch_3\">\r\n    <path d=\"M 44.845313 224.64 \r\nL 44.845313 7.2 \r\n\" style=\"fill:none;stroke:#000000;stroke-linecap:square;stroke-linejoin:miter;stroke-width:0.8;\"/>\r\n   </g>\r\n   <g id=\"patch_4\">\r\n    <path d=\"M 379.645313 224.64 \r\nL 379.645313 7.2 \r\n\" style=\"fill:none;stroke:#000000;stroke-linecap:square;stroke-linejoin:miter;stroke-width:0.8;\"/>\r\n   </g>\r\n   <g id=\"patch_5\">\r\n    <path d=\"M 44.845313 224.64 \r\nL 379.645313 224.64 \r\n\" style=\"fill:none;stroke:#000000;stroke-linecap:square;stroke-linejoin:miter;stroke-width:0.8;\"/>\r\n   </g>\r\n   <g id=\"patch_6\">\r\n    <path d=\"M 44.845313 7.2 \r\nL 379.645313 7.2 \r\n\" style=\"fill:none;stroke:#000000;stroke-linecap:square;stroke-linejoin:miter;stroke-width:0.8;\"/>\r\n   </g>\r\n  </g>\r\n </g>\r\n <defs>\r\n  <clipPath id=\"p2b8fbebdb2\">\r\n   <rect height=\"217.44\" width=\"334.8\" x=\"44.845313\" y=\"7.2\"/>\r\n  </clipPath>\r\n </defs>\r\n</svg>\r\n",
      "image/png": "[encoded data removed]"
     },
     "metadata": {
      "needs_background": "light"
     }
    }
   ],
   "source": [
    "# plotando um gráfico simples\n",
    "\n",
    "x = np.linspace(0, 2*np.pi, 100)\n",
    "y = np.sin(x)\n",
    "plt.plot(x,y)\n",
    "plt.show()"
   ]
  },
  {
   "cell_type": "code",
   "execution_count": 36,
   "metadata": {},
   "outputs": [
    {
     "output_type": "display_data",
     "data": {
      "text/plain": "<Figure size 432x288 with 1 Axes>",
      "image/svg+xml": "<?xml version=\"1.0\" encoding=\"utf-8\" standalone=\"no\"?>\r\n<!DOCTYPE svg PUBLIC \"-//W3C//DTD SVG 1.1//EN\"\r\n  \"http://www.w3.org/Graphics/SVG/1.1/DTD/svg11.dtd\">\r\n<!-- Created with matplotlib (https://matplotlib.org/) -->\r\n<svg height=\"248.518125pt\" version=\"1.1\" viewBox=\"0 0 377.304687 248.518125\" width=\"377.304687pt\" xmlns=\"http://www.w3.org/2000/svg\" xmlns:xlink=\"http://www.w3.org/1999/xlink\">\r\n <defs>\r\n  <style type=\"text/css\">\r\n*{stroke-linecap:butt;stroke-linejoin:round;}\r\n  </style>\r\n </defs>\r\n <g id=\"figure_1\">\r\n  <g id=\"patch_1\">\r\n   <path d=\"M 0 248.518125 \r\nL 377.304687 248.518125 \r\nL 377.304687 0 \r\nL 0 0 \r\nz\r\n\" style=\"fill:none;\"/>\r\n  </g>\r\n  <g id=\"axes_1\">\r\n   <g id=\"patch_2\">\r\n    <path d=\"M 35.304688 224.64 \r\nL 370.104688 224.64 \r\nL 370.104688 7.2 \r\nL 35.304688 7.2 \r\nz\r\n\" style=\"fill:#ffffff;\"/>\r\n   </g>\r\n   <g id=\"matplotlib.axis_1\">\r\n    <g id=\"xtick_1\">\r\n     <g id=\"line2d_1\">\r\n      <defs>\r\n       <path d=\"M 0 0 \r\nL 0 3.5 \r\n\" id=\"mc77d1d701f\" style=\"stroke:#000000;stroke-width:0.8;\"/>\r\n      </defs>\r\n      <g>\r\n       <use style=\"stroke:#000000;stroke-width:0.8;\" x=\"50.522869\" xlink:href=\"#mc77d1d701f\" y=\"224.64\"/>\r\n      </g>\r\n     </g>\r\n     <g id=\"text_1\">\r\n      <!-- 0 -->\r\n      <defs>\r\n       <path d=\"M 31.78125 66.40625 \r\nQ 24.171875 66.40625 20.328125 58.90625 \r\nQ 16.5 51.421875 16.5 36.375 \r\nQ 16.5 21.390625 20.328125 13.890625 \r\nQ 24.171875 6.390625 31.78125 6.390625 \r\nQ 39.453125 6.390625 43.28125 13.890625 \r\nQ 47.125 21.390625 47.125 36.375 \r\nQ 47.125 51.421875 43.28125 58.90625 \r\nQ 39.453125 66.40625 31.78125 66.40625 \r\nz\r\nM 31.78125 74.21875 \r\nQ 44.046875 74.21875 50.515625 64.515625 \r\nQ 56.984375 54.828125 56.984375 36.375 \r\nQ 56.984375 17.96875 50.515625 8.265625 \r\nQ 44.046875 -1.421875 31.78125 -1.421875 \r\nQ 19.53125 -1.421875 13.0625 8.265625 \r\nQ 6.59375 17.96875 6.59375 36.375 \r\nQ 6.59375 54.828125 13.0625 64.515625 \r\nQ 19.53125 74.21875 31.78125 74.21875 \r\nz\r\n\" id=\"DejaVuSans-48\"/>\r\n      </defs>\r\n      <g transform=\"translate(47.341619 239.238437)scale(0.1 -0.1)\">\r\n       <use xlink:href=\"#DejaVuSans-48\"/>\r\n      </g>\r\n     </g>\r\n    </g>\r\n    <g id=\"xtick_2\">\r\n     <g id=\"line2d_2\">\r\n      <g>\r\n       <use style=\"stroke:#000000;stroke-width:0.8;\" x=\"98.963847\" xlink:href=\"#mc77d1d701f\" y=\"224.64\"/>\r\n      </g>\r\n     </g>\r\n     <g id=\"text_2\">\r\n      <!-- 1 -->\r\n      <defs>\r\n       <path d=\"M 12.40625 8.296875 \r\nL 28.515625 8.296875 \r\nL 28.515625 63.921875 \r\nL 10.984375 60.40625 \r\nL 10.984375 69.390625 \r\nL 28.421875 72.90625 \r\nL 38.28125 72.90625 \r\nL 38.28125 8.296875 \r\nL 54.390625 8.296875 \r\nL 54.390625 0 \r\nL 12.40625 0 \r\nz\r\n\" id=\"DejaVuSans-49\"/>\r\n      </defs>\r\n      <g transform=\"translate(95.782597 239.238437)scale(0.1 -0.1)\">\r\n       <use xlink:href=\"#DejaVuSans-49\"/>\r\n      </g>\r\n     </g>\r\n    </g>\r\n    <g id=\"xtick_3\">\r\n     <g id=\"line2d_3\">\r\n      <g>\r\n       <use style=\"stroke:#000000;stroke-width:0.8;\" x=\"147.404824\" xlink:href=\"#mc77d1d701f\" y=\"224.64\"/>\r\n      </g>\r\n     </g>\r\n     <g id=\"text_3\">\r\n      <!-- 2 -->\r\n      <defs>\r\n       <path d=\"M 19.1875 8.296875 \r\nL 53.609375 8.296875 \r\nL 53.609375 0 \r\nL 7.328125 0 \r\nL 7.328125 8.296875 \r\nQ 12.9375 14.109375 22.625 23.890625 \r\nQ 32.328125 33.6875 34.8125 36.53125 \r\nQ 39.546875 41.84375 41.421875 45.53125 \r\nQ 43.3125 49.21875 43.3125 52.78125 \r\nQ 43.3125 58.59375 39.234375 62.25 \r\nQ 35.15625 65.921875 28.609375 65.921875 \r\nQ 23.96875 65.921875 18.8125 64.3125 \r\nQ 13.671875 62.703125 7.8125 59.421875 \r\nL 7.8125 69.390625 \r\nQ 13.765625 71.78125 18.9375 73 \r\nQ 24.125 74.21875 28.421875 74.21875 \r\nQ 39.75 74.21875 46.484375 68.546875 \r\nQ 53.21875 62.890625 53.21875 53.421875 \r\nQ 53.21875 48.921875 51.53125 44.890625 \r\nQ 49.859375 40.875 45.40625 35.40625 \r\nQ 44.1875 33.984375 37.640625 27.21875 \r\nQ 31.109375 20.453125 19.1875 8.296875 \r\nz\r\n\" id=\"DejaVuSans-50\"/>\r\n      </defs>\r\n      <g transform=\"translate(144.223574 239.238437)scale(0.1 -0.1)\">\r\n       <use xlink:href=\"#DejaVuSans-50\"/>\r\n      </g>\r\n     </g>\r\n    </g>\r\n    <g id=\"xtick_4\">\r\n     <g id=\"line2d_4\">\r\n      <g>\r\n       <use style=\"stroke:#000000;stroke-width:0.8;\" x=\"195.845801\" xlink:href=\"#mc77d1d701f\" y=\"224.64\"/>\r\n      </g>\r\n     </g>\r\n     <g id=\"text_4\">\r\n      <!-- 3 -->\r\n      <defs>\r\n       <path d=\"M 40.578125 39.3125 \r\nQ 47.65625 37.796875 51.625 33 \r\nQ 55.609375 28.21875 55.609375 21.1875 \r\nQ 55.609375 10.40625 48.1875 4.484375 \r\nQ 40.765625 -1.421875 27.09375 -1.421875 \r\nQ 22.515625 -1.421875 17.65625 -0.515625 \r\nQ 12.796875 0.390625 7.625 2.203125 \r\nL 7.625 11.71875 \r\nQ 11.71875 9.328125 16.59375 8.109375 \r\nQ 21.484375 6.890625 26.8125 6.890625 \r\nQ 36.078125 6.890625 40.9375 10.546875 \r\nQ 45.796875 14.203125 45.796875 21.1875 \r\nQ 45.796875 27.640625 41.28125 31.265625 \r\nQ 36.765625 34.90625 28.71875 34.90625 \r\nL 20.21875 34.90625 \r\nL 20.21875 43.015625 \r\nL 29.109375 43.015625 \r\nQ 36.375 43.015625 40.234375 45.921875 \r\nQ 44.09375 48.828125 44.09375 54.296875 \r\nQ 44.09375 59.90625 40.109375 62.90625 \r\nQ 36.140625 65.921875 28.71875 65.921875 \r\nQ 24.65625 65.921875 20.015625 65.03125 \r\nQ 15.375 64.15625 9.8125 62.3125 \r\nL 9.8125 71.09375 \r\nQ 15.4375 72.65625 20.34375 73.4375 \r\nQ 25.25 74.21875 29.59375 74.21875 \r\nQ 40.828125 74.21875 47.359375 69.109375 \r\nQ 53.90625 64.015625 53.90625 55.328125 \r\nQ 53.90625 49.265625 50.4375 45.09375 \r\nQ 46.96875 40.921875 40.578125 39.3125 \r\nz\r\n\" id=\"DejaVuSans-51\"/>\r\n      </defs>\r\n      <g transform=\"translate(192.664551 239.238437)scale(0.1 -0.1)\">\r\n       <use xlink:href=\"#DejaVuSans-51\"/>\r\n      </g>\r\n     </g>\r\n    </g>\r\n    <g id=\"xtick_5\">\r\n     <g id=\"line2d_5\">\r\n      <g>\r\n       <use style=\"stroke:#000000;stroke-width:0.8;\" x=\"244.286778\" xlink:href=\"#mc77d1d701f\" y=\"224.64\"/>\r\n      </g>\r\n     </g>\r\n     <g id=\"text_5\">\r\n      <!-- 4 -->\r\n      <defs>\r\n       <path d=\"M 37.796875 64.3125 \r\nL 12.890625 25.390625 \r\nL 37.796875 25.390625 \r\nz\r\nM 35.203125 72.90625 \r\nL 47.609375 72.90625 \r\nL 47.609375 25.390625 \r\nL 58.015625 25.390625 \r\nL 58.015625 17.1875 \r\nL 47.609375 17.1875 \r\nL 47.609375 0 \r\nL 37.796875 0 \r\nL 37.796875 17.1875 \r\nL 4.890625 17.1875 \r\nL 4.890625 26.703125 \r\nz\r\n\" id=\"DejaVuSans-52\"/>\r\n      </defs>\r\n      <g transform=\"translate(241.105528 239.238437)scale(0.1 -0.1)\">\r\n       <use xlink:href=\"#DejaVuSans-52\"/>\r\n      </g>\r\n     </g>\r\n    </g>\r\n    <g id=\"xtick_6\">\r\n     <g id=\"line2d_6\">\r\n      <g>\r\n       <use style=\"stroke:#000000;stroke-width:0.8;\" x=\"292.727755\" xlink:href=\"#mc77d1d701f\" y=\"224.64\"/>\r\n      </g>\r\n     </g>\r\n     <g id=\"text_6\">\r\n      <!-- 5 -->\r\n      <defs>\r\n       <path d=\"M 10.796875 72.90625 \r\nL 49.515625 72.90625 \r\nL 49.515625 64.59375 \r\nL 19.828125 64.59375 \r\nL 19.828125 46.734375 \r\nQ 21.96875 47.46875 24.109375 47.828125 \r\nQ 26.265625 48.1875 28.421875 48.1875 \r\nQ 40.625 48.1875 47.75 41.5 \r\nQ 54.890625 34.8125 54.890625 23.390625 \r\nQ 54.890625 11.625 47.5625 5.09375 \r\nQ 40.234375 -1.421875 26.90625 -1.421875 \r\nQ 22.3125 -1.421875 17.546875 -0.640625 \r\nQ 12.796875 0.140625 7.71875 1.703125 \r\nL 7.71875 11.625 \r\nQ 12.109375 9.234375 16.796875 8.0625 \r\nQ 21.484375 6.890625 26.703125 6.890625 \r\nQ 35.15625 6.890625 40.078125 11.328125 \r\nQ 45.015625 15.765625 45.015625 23.390625 \r\nQ 45.015625 31 40.078125 35.4375 \r\nQ 35.15625 39.890625 26.703125 39.890625 \r\nQ 22.75 39.890625 18.8125 39.015625 \r\nQ 14.890625 38.140625 10.796875 36.28125 \r\nz\r\n\" id=\"DejaVuSans-53\"/>\r\n      </defs>\r\n      <g transform=\"translate(289.546505 239.238437)scale(0.1 -0.1)\">\r\n       <use xlink:href=\"#DejaVuSans-53\"/>\r\n      </g>\r\n     </g>\r\n    </g>\r\n    <g id=\"xtick_7\">\r\n     <g id=\"line2d_7\">\r\n      <g>\r\n       <use style=\"stroke:#000000;stroke-width:0.8;\" x=\"341.168733\" xlink:href=\"#mc77d1d701f\" y=\"224.64\"/>\r\n      </g>\r\n     </g>\r\n     <g id=\"text_7\">\r\n      <!-- 6 -->\r\n      <defs>\r\n       <path d=\"M 33.015625 40.375 \r\nQ 26.375 40.375 22.484375 35.828125 \r\nQ 18.609375 31.296875 18.609375 23.390625 \r\nQ 18.609375 15.53125 22.484375 10.953125 \r\nQ 26.375 6.390625 33.015625 6.390625 \r\nQ 39.65625 6.390625 43.53125 10.953125 \r\nQ 47.40625 15.53125 47.40625 23.390625 \r\nQ 47.40625 31.296875 43.53125 35.828125 \r\nQ 39.65625 40.375 33.015625 40.375 \r\nz\r\nM 52.59375 71.296875 \r\nL 52.59375 62.3125 \r\nQ 48.875 64.0625 45.09375 64.984375 \r\nQ 41.3125 65.921875 37.59375 65.921875 \r\nQ 27.828125 65.921875 22.671875 59.328125 \r\nQ 17.53125 52.734375 16.796875 39.40625 \r\nQ 19.671875 43.65625 24.015625 45.921875 \r\nQ 28.375 48.1875 33.59375 48.1875 \r\nQ 44.578125 48.1875 50.953125 41.515625 \r\nQ 57.328125 34.859375 57.328125 23.390625 \r\nQ 57.328125 12.15625 50.6875 5.359375 \r\nQ 44.046875 -1.421875 33.015625 -1.421875 \r\nQ 20.359375 -1.421875 13.671875 8.265625 \r\nQ 6.984375 17.96875 6.984375 36.375 \r\nQ 6.984375 53.65625 15.1875 63.9375 \r\nQ 23.390625 74.21875 37.203125 74.21875 \r\nQ 40.921875 74.21875 44.703125 73.484375 \r\nQ 48.484375 72.75 52.59375 71.296875 \r\nz\r\n\" id=\"DejaVuSans-54\"/>\r\n      </defs>\r\n      <g transform=\"translate(337.987483 239.238437)scale(0.1 -0.1)\">\r\n       <use xlink:href=\"#DejaVuSans-54\"/>\r\n      </g>\r\n     </g>\r\n    </g>\r\n   </g>\r\n   <g id=\"matplotlib.axis_2\">\r\n    <g id=\"ytick_1\">\r\n     <g id=\"line2d_8\">\r\n      <defs>\r\n       <path d=\"M 0 0 \r\nL -3.5 0 \r\n\" id=\"m7070d1ff31\" style=\"stroke:#000000;stroke-width:0.8;\"/>\r\n      </defs>\r\n      <g>\r\n       <use style=\"stroke:#000000;stroke-width:0.8;\" x=\"35.304688\" xlink:href=\"#m7070d1ff31\" y=\"210.019895\"/>\r\n      </g>\r\n     </g>\r\n     <g id=\"text_8\">\r\n      <!-- −60 -->\r\n      <defs>\r\n       <path d=\"M 10.59375 35.5 \r\nL 73.1875 35.5 \r\nL 73.1875 27.203125 \r\nL 10.59375 27.203125 \r\nz\r\n\" id=\"DejaVuSans-8722\"/>\r\n      </defs>\r\n      <g transform=\"translate(7.2 213.819114)scale(0.1 -0.1)\">\r\n       <use xlink:href=\"#DejaVuSans-8722\"/>\r\n       <use x=\"83.789062\" xlink:href=\"#DejaVuSans-54\"/>\r\n       <use x=\"147.412109\" xlink:href=\"#DejaVuSans-48\"/>\r\n      </g>\r\n     </g>\r\n    </g>\r\n    <g id=\"ytick_2\">\r\n     <g id=\"line2d_9\">\r\n      <g>\r\n       <use style=\"stroke:#000000;stroke-width:0.8;\" x=\"35.304688\" xlink:href=\"#m7070d1ff31\" y=\"178.653263\"/>\r\n      </g>\r\n     </g>\r\n     <g id=\"text_9\">\r\n      <!-- −40 -->\r\n      <g transform=\"translate(7.2 182.452482)scale(0.1 -0.1)\">\r\n       <use xlink:href=\"#DejaVuSans-8722\"/>\r\n       <use x=\"83.789062\" xlink:href=\"#DejaVuSans-52\"/>\r\n       <use x=\"147.412109\" xlink:href=\"#DejaVuSans-48\"/>\r\n      </g>\r\n     </g>\r\n    </g>\r\n    <g id=\"ytick_3\">\r\n     <g id=\"line2d_10\">\r\n      <g>\r\n       <use style=\"stroke:#000000;stroke-width:0.8;\" x=\"35.304688\" xlink:href=\"#m7070d1ff31\" y=\"147.286632\"/>\r\n      </g>\r\n     </g>\r\n     <g id=\"text_10\">\r\n      <!-- −20 -->\r\n      <g transform=\"translate(7.2 151.08585)scale(0.1 -0.1)\">\r\n       <use xlink:href=\"#DejaVuSans-8722\"/>\r\n       <use x=\"83.789062\" xlink:href=\"#DejaVuSans-50\"/>\r\n       <use x=\"147.412109\" xlink:href=\"#DejaVuSans-48\"/>\r\n      </g>\r\n     </g>\r\n    </g>\r\n    <g id=\"ytick_4\">\r\n     <g id=\"line2d_11\">\r\n      <g>\r\n       <use style=\"stroke:#000000;stroke-width:0.8;\" x=\"35.304688\" xlink:href=\"#m7070d1ff31\" y=\"115.92\"/>\r\n      </g>\r\n     </g>\r\n     <g id=\"text_11\">\r\n      <!-- 0 -->\r\n      <g transform=\"translate(21.942188 119.719219)scale(0.1 -0.1)\">\r\n       <use xlink:href=\"#DejaVuSans-48\"/>\r\n      </g>\r\n     </g>\r\n    </g>\r\n    <g id=\"ytick_5\">\r\n     <g id=\"line2d_12\">\r\n      <g>\r\n       <use style=\"stroke:#000000;stroke-width:0.8;\" x=\"35.304688\" xlink:href=\"#m7070d1ff31\" y=\"84.553368\"/>\r\n      </g>\r\n     </g>\r\n     <g id=\"text_12\">\r\n      <!-- 20 -->\r\n      <g transform=\"translate(15.579688 88.352587)scale(0.1 -0.1)\">\r\n       <use xlink:href=\"#DejaVuSans-50\"/>\r\n       <use x=\"63.623047\" xlink:href=\"#DejaVuSans-48\"/>\r\n      </g>\r\n     </g>\r\n    </g>\r\n    <g id=\"ytick_6\">\r\n     <g id=\"line2d_13\">\r\n      <g>\r\n       <use style=\"stroke:#000000;stroke-width:0.8;\" x=\"35.304688\" xlink:href=\"#m7070d1ff31\" y=\"53.186737\"/>\r\n      </g>\r\n     </g>\r\n     <g id=\"text_13\">\r\n      <!-- 40 -->\r\n      <g transform=\"translate(15.579688 56.985956)scale(0.1 -0.1)\">\r\n       <use xlink:href=\"#DejaVuSans-52\"/>\r\n       <use x=\"63.623047\" xlink:href=\"#DejaVuSans-48\"/>\r\n      </g>\r\n     </g>\r\n    </g>\r\n    <g id=\"ytick_7\">\r\n     <g id=\"line2d_14\">\r\n      <g>\r\n       <use style=\"stroke:#000000;stroke-width:0.8;\" x=\"35.304688\" xlink:href=\"#m7070d1ff31\" y=\"21.820105\"/>\r\n      </g>\r\n     </g>\r\n     <g id=\"text_14\">\r\n      <!-- 60 -->\r\n      <g transform=\"translate(15.579688 25.619324)scale(0.1 -0.1)\">\r\n       <use xlink:href=\"#DejaVuSans-54\"/>\r\n       <use x=\"63.623047\" xlink:href=\"#DejaVuSans-48\"/>\r\n      </g>\r\n     </g>\r\n    </g>\r\n   </g>\r\n   <g id=\"line2d_15\">\r\n    <path clip-path=\"url(#p9735fad576)\" d=\"M 50.522869 115.92 \r\nL 53.597249 115.82053 \r\nL 56.67163 115.721461 \r\nL 59.74601 115.623191 \r\nL 62.82039 115.526117 \r\nL 65.89477 115.430628 \r\nL 68.96915 115.33711 \r\nL 72.04353 115.245939 \r\nL 75.117911 115.157482 \r\nL 78.192291 115.072096 \r\nL 81.266671 114.990124 \r\nL 84.341051 114.911896 \r\nL 87.415431 114.837727 \r\nL 90.489811 114.767917 \r\nL 93.564192 114.702745 \r\nL 96.638572 114.642475 \r\nL 99.712952 114.587349 \r\nL 102.787332 114.537589 \r\nL 105.861712 114.493395 \r\nL 108.936092 114.454946 \r\nL 112.010473 114.422397 \r\nL 115.084853 114.395877 \r\nL 118.159233 114.375495 \r\nL 121.233613 114.361332 \r\nL 124.307993 114.353445 \r\nL 127.382373 114.351866 \r\nL 130.456754 114.356601 \r\nL 133.531134 114.367632 \r\nL 136.605514 114.384913 \r\nL 139.679894 114.408376 \r\nL 142.754274 114.437925 \r\nL 145.828654 114.473443 \r\nL 148.903035 114.514785 \r\nL 151.977415 114.561785 \r\nL 155.051795 114.614254 \r\nL 158.126175 114.671982 \r\nL 161.200555 114.734734 \r\nL 164.274935 114.802259 \r\nL 167.349316 114.874285 \r\nL 170.423696 114.950522 \r\nL 173.498076 115.030662 \r\nL 176.572456 115.114384 \r\nL 179.646836 115.201349 \r\nL 182.721216 115.291208 \r\nL 185.795597 115.383599 \r\nL 188.869977 115.47815 \r\nL 191.944357 115.57448 \r\nL 195.018737 115.672201 \r\nL 198.093117 115.770921 \r\nL 201.167497 115.87024 \r\nL 204.241878 115.96976 \r\nL 207.316258 116.069079 \r\nL 210.390638 116.167799 \r\nL 213.465018 116.26552 \r\nL 216.539398 116.36185 \r\nL 219.613778 116.456401 \r\nL 222.688159 116.548792 \r\nL 225.762539 116.638651 \r\nL 228.836919 116.725616 \r\nL 231.911299 116.809338 \r\nL 234.985679 116.889478 \r\nL 238.060059 116.965715 \r\nL 241.13444 117.037741 \r\nL 244.20882 117.105266 \r\nL 247.2832 117.168018 \r\nL 250.35758 117.225746 \r\nL 253.43196 117.278215 \r\nL 256.50634 117.325215 \r\nL 259.580721 117.366557 \r\nL 262.655101 117.402075 \r\nL 265.729481 117.431624 \r\nL 268.803861 117.455087 \r\nL 271.878241 117.472368 \r\nL 274.952621 117.483399 \r\nL 278.027002 117.488134 \r\nL 281.101382 117.486555 \r\nL 284.175762 117.478668 \r\nL 287.250142 117.464505 \r\nL 290.324522 117.444123 \r\nL 293.398902 117.417603 \r\nL 296.473283 117.385054 \r\nL 299.547663 117.346605 \r\nL 302.622043 117.302411 \r\nL 305.696423 117.252651 \r\nL 308.770803 117.197525 \r\nL 311.845183 117.137255 \r\nL 314.919564 117.072083 \r\nL 317.993944 117.002273 \r\nL 321.068324 116.928104 \r\nL 324.142704 116.849876 \r\nL 327.217084 116.767904 \r\nL 330.291464 116.682518 \r\nL 333.365845 116.594061 \r\nL 336.440225 116.50289 \r\nL 339.514605 116.409372 \r\nL 342.588985 116.313883 \r\nL 345.663365 116.216809 \r\nL 348.737745 116.118539 \r\nL 351.812126 116.01947 \r\nL 354.886506 115.92 \r\n\" style=\"fill:none;stroke:#1f77b4;stroke-linecap:square;stroke-width:1.5;\"/>\r\n   </g>\r\n   <g id=\"line2d_16\">\r\n    <path clip-path=\"url(#p9735fad576)\" d=\"M 50.522869 114.351668 \r\nL 53.597249 114.354826 \r\nL 56.67163 114.364286 \r\nL 59.74601 114.38001 \r\nL 62.82039 114.401935 \r\nL 65.89477 114.429973 \r\nL 68.96915 114.464011 \r\nL 72.04353 114.503912 \r\nL 75.117911 114.549514 \r\nL 78.192291 114.600636 \r\nL 81.266671 114.657069 \r\nL 84.341051 114.718588 \r\nL 87.415431 114.784945 \r\nL 90.489811 114.855872 \r\nL 93.564192 114.931084 \r\nL 96.638572 115.010278 \r\nL 99.712952 115.093136 \r\nL 102.787332 115.179322 \r\nL 105.861712 115.268492 \r\nL 108.936092 115.360284 \r\nL 112.010473 115.45433 \r\nL 115.084853 115.550252 \r\nL 118.159233 115.647662 \r\nL 121.233613 115.746169 \r\nL 124.307993 115.845376 \r\nL 127.382373 115.944883 \r\nL 130.456754 116.04429 \r\nL 133.531134 116.143197 \r\nL 136.605514 116.241205 \r\nL 139.679894 116.337919 \r\nL 142.754274 116.432951 \r\nL 145.828654 116.525917 \r\nL 148.903035 116.616444 \r\nL 151.977415 116.704166 \r\nL 155.051795 116.78873 \r\nL 158.126175 116.869797 \r\nL 161.200555 116.947039 \r\nL 164.274935 117.020145 \r\nL 167.349316 117.088822 \r\nL 170.423696 117.152792 \r\nL 173.498076 117.211798 \r\nL 176.572456 117.265602 \r\nL 179.646836 117.313989 \r\nL 182.721216 117.356762 \r\nL 185.795597 117.39375 \r\nL 188.869977 117.424803 \r\nL 191.944357 117.449797 \r\nL 195.018737 117.468632 \r\nL 198.093117 117.48123 \r\nL 201.167497 117.487542 \r\nL 204.241878 117.487542 \r\nL 207.316258 117.48123 \r\nL 210.390638 117.468632 \r\nL 213.465018 117.449797 \r\nL 216.539398 117.424803 \r\nL 219.613778 117.39375 \r\nL 222.688159 117.356762 \r\nL 225.762539 117.313989 \r\nL 228.836919 117.265602 \r\nL 231.911299 117.211798 \r\nL 234.985679 117.152792 \r\nL 238.060059 117.088822 \r\nL 241.13444 117.020145 \r\nL 244.20882 116.947039 \r\nL 247.2832 116.869797 \r\nL 250.35758 116.78873 \r\nL 253.43196 116.704166 \r\nL 256.50634 116.616444 \r\nL 259.580721 116.525917 \r\nL 262.655101 116.432951 \r\nL 265.729481 116.337919 \r\nL 268.803861 116.241205 \r\nL 271.878241 116.143197 \r\nL 274.952621 116.04429 \r\nL 278.027002 115.944883 \r\nL 281.101382 115.845376 \r\nL 284.175762 115.746169 \r\nL 287.250142 115.647662 \r\nL 290.324522 115.550252 \r\nL 293.398902 115.45433 \r\nL 296.473283 115.360284 \r\nL 299.547663 115.268492 \r\nL 302.622043 115.179322 \r\nL 305.696423 115.093136 \r\nL 308.770803 115.010278 \r\nL 311.845183 114.931084 \r\nL 314.919564 114.855872 \r\nL 317.993944 114.784945 \r\nL 321.068324 114.718588 \r\nL 324.142704 114.657069 \r\nL 327.217084 114.600636 \r\nL 330.291464 114.549514 \r\nL 333.365845 114.503912 \r\nL 336.440225 114.464011 \r\nL 339.514605 114.429973 \r\nL 342.588985 114.401935 \r\nL 345.663365 114.38001 \r\nL 348.737745 114.364286 \r\nL 351.812126 114.354826 \r\nL 354.886506 114.351668 \r\n\" style=\"fill:none;stroke:#ff7f0e;stroke-linecap:square;stroke-width:1.5;\"/>\r\n   </g>\r\n   <g id=\"line2d_17\">\r\n    <path clip-path=\"url(#p9735fad576)\" d=\"M 50.522869 115.92 \r\nL 53.597249 115.82033 \r\nL 56.67163 115.719851 \r\nL 59.74601 115.617729 \r\nL 62.82039 115.513074 \r\nL 65.89477 115.40491 \r\nL 68.96915 115.292135 \r\nL 72.04353 115.173471 \r\nL 75.117911 115.047404 \r\nL 78.192291 114.912094 \r\nL 81.266671 114.765262 \r\nL 84.341051 114.604014 \r\nL 87.415431 114.424599 \r\nL 90.489811 114.222038 \r\nL 93.564192 113.989543 \r\nL 96.638572 113.717586 \r\nL 99.712952 113.392331 \r\nL 102.787332 112.992844 \r\nL 105.861712 112.485833 \r\nL 108.936092 111.8149 \r\nL 112.010473 110.876212 \r\nL 115.084853 109.455249 \r\nL 118.159233 107.02555 \r\nL 121.233613 101.857445 \r\nL 124.307993 82.996668 \r\nL 127.382373 214.756364 \r\nL 130.456754 135.647441 \r\nL 133.531134 126.827986 \r\nL 136.605514 123.415297 \r\nL 139.679894 121.592693 \r\nL 142.754274 120.451397 \r\nL 145.828654 119.66421 \r\nL 148.903035 119.084425 \r\nL 151.977415 118.63643 \r\nL 155.051795 118.277282 \r\nL 158.126175 117.980764 \r\nL 161.200555 117.729951 \r\nL 164.274935 117.513415 \r\nL 167.349316 117.323146 \r\nL 170.423696 117.15335 \r\nL 173.498076 116.999717 \r\nL 176.572456 116.858965 \r\nL 179.646836 116.728531 \r\nL 182.721216 116.606373 \r\nL 185.795597 116.490826 \r\nL 188.869977 116.380504 \r\nL 191.944357 116.274223 \r\nL 195.018737 116.170951 \r\nL 198.093117 116.069758 \r\nL 201.167497 115.969785 \r\nL 204.241878 115.870215 \r\nL 207.316258 115.770242 \r\nL 210.390638 115.669049 \r\nL 213.465018 115.565777 \r\nL 216.539398 115.459496 \r\nL 219.613778 115.349174 \r\nL 222.688159 115.233627 \r\nL 225.762539 115.111469 \r\nL 228.836919 114.981035 \r\nL 231.911299 114.840283 \r\nL 234.985679 114.68665 \r\nL 238.060059 114.516854 \r\nL 241.13444 114.326585 \r\nL 244.20882 114.110049 \r\nL 247.2832 113.859236 \r\nL 250.35758 113.562718 \r\nL 253.43196 113.20357 \r\nL 256.50634 112.755575 \r\nL 259.580721 112.17579 \r\nL 262.655101 111.388603 \r\nL 265.729481 110.247307 \r\nL 268.803861 108.424703 \r\nL 271.878241 105.012014 \r\nL 274.952621 96.192559 \r\nL 278.027002 17.083636 \r\nL 281.101382 148.843332 \r\nL 284.175762 129.982555 \r\nL 287.250142 124.81445 \r\nL 290.324522 122.384751 \r\nL 293.398902 120.963788 \r\nL 296.473283 120.0251 \r\nL 299.547663 119.354167 \r\nL 302.622043 118.847156 \r\nL 305.696423 118.447669 \r\nL 308.770803 118.122414 \r\nL 311.845183 117.850457 \r\nL 314.919564 117.617962 \r\nL 317.993944 117.415401 \r\nL 321.068324 117.235986 \r\nL 324.142704 117.074738 \r\nL 327.217084 116.927906 \r\nL 330.291464 116.792596 \r\nL 333.365845 116.666529 \r\nL 336.440225 116.547865 \r\nL 339.514605 116.43509 \r\nL 342.588985 116.326926 \r\nL 345.663365 116.222271 \r\nL 348.737745 116.120149 \r\nL 351.812126 116.01967 \r\nL 354.886506 115.92 \r\n\" style=\"fill:none;stroke:#2ca02c;stroke-linecap:square;stroke-width:1.5;\"/>\r\n   </g>\r\n   <g id=\"patch_3\">\r\n    <path d=\"M 35.304688 224.64 \r\nL 35.304688 7.2 \r\n\" style=\"fill:none;stroke:#000000;stroke-linecap:square;stroke-linejoin:miter;stroke-width:0.8;\"/>\r\n   </g>\r\n   <g id=\"patch_4\">\r\n    <path d=\"M 370.104688 224.64 \r\nL 370.104688 7.2 \r\n\" style=\"fill:none;stroke:#000000;stroke-linecap:square;stroke-linejoin:miter;stroke-width:0.8;\"/>\r\n   </g>\r\n   <g id=\"patch_5\">\r\n    <path d=\"M 35.304688 224.64 \r\nL 370.104688 224.64 \r\n\" style=\"fill:none;stroke:#000000;stroke-linecap:square;stroke-linejoin:miter;stroke-width:0.8;\"/>\r\n   </g>\r\n   <g id=\"patch_6\">\r\n    <path d=\"M 35.304688 7.2 \r\nL 370.104688 7.2 \r\n\" style=\"fill:none;stroke:#000000;stroke-linecap:square;stroke-linejoin:miter;stroke-width:0.8;\"/>\r\n   </g>\r\n  </g>\r\n </g>\r\n <defs>\r\n  <clipPath id=\"p9735fad576\">\r\n   <rect height=\"217.44\" width=\"334.8\" x=\"35.304688\" y=\"7.2\"/>\r\n  </clipPath>\r\n </defs>\r\n</svg>\r\n",
      "image/png": "[encoded data removed]"
     },
     "metadata": {
      "needs_background": "light"
     }
    }
   ],
   "source": [
    "# você pode ainda plotar mais de uma figura no mesmo gráfico\n",
    "y1 = np.cos(x)\n",
    "y2 = np.tan(x)\n",
    "plt.plot(x,y)\n",
    "plt.plot(x,y1)\n",
    "plt.plot(x,y2)\n",
    "plt.show()"
   ]
  },
  {
   "cell_type": "code",
   "execution_count": 37,
   "metadata": {},
   "outputs": [
    {
     "output_type": "display_data",
     "data": {
      "text/plain": "<Figure size 1440x1080 with 1 Axes>",
      "image/svg+xml": "<?xml version=\"1.0\" encoding=\"utf-8\" standalone=\"no\"?>\r\n<!DOCTYPE svg PUBLIC \"-//W3C//DTD SVG 1.1//EN\"\r\n  \"http://www.w3.org/Graphics/SVG/1.1/DTD/svg11.dtd\">\r\n<!-- Created with matplotlib (https://matplotlib.org/) -->\r\n<svg height=\"846.478125pt\" version=\"1.1\" viewBox=\"0 0 1158.504688 846.478125\" width=\"1158.504688pt\" xmlns=\"http://www.w3.org/2000/svg\" xmlns:xlink=\"http://www.w3.org/1999/xlink\">\r\n <defs>\r\n  <style type=\"text/css\">\r\n*{stroke-linecap:butt;stroke-linejoin:round;}\r\n  </style>\r\n </defs>\r\n <g id=\"figure_1\">\r\n  <g id=\"patch_1\">\r\n   <path d=\"M 0 846.478125 \r\nL 1158.504688 846.478125 \r\nL 1158.504688 -0 \r\nL 0 -0 \r\nz\r\n\" style=\"fill:none;\"/>\r\n  </g>\r\n  <g id=\"axes_1\">\r\n   <g id=\"patch_2\">\r\n    <path d=\"M 35.304688 822.6 \r\nL 1151.304688 822.6 \r\nL 1151.304688 7.2 \r\nL 35.304688 7.2 \r\nz\r\n\" style=\"fill:#ffffff;\"/>\r\n   </g>\r\n   <g id=\"matplotlib.axis_1\">\r\n    <g id=\"xtick_1\">\r\n     <g id=\"line2d_1\">\r\n      <defs>\r\n       <path d=\"M 0 0 \r\nL 0 3.5 \r\n\" id=\"mee6a49a2fa\" style=\"stroke:#000000;stroke-width:0.8;\"/>\r\n      </defs>\r\n      <g>\r\n       <use style=\"stroke:#000000;stroke-width:0.8;\" x=\"86.03196\" xlink:href=\"#mee6a49a2fa\" y=\"822.6\"/>\r\n      </g>\r\n     </g>\r\n     <g id=\"text_1\">\r\n      <!-- 0 -->\r\n      <defs>\r\n       <path d=\"M 31.78125 66.40625 \r\nQ 24.171875 66.40625 20.328125 58.90625 \r\nQ 16.5 51.421875 16.5 36.375 \r\nQ 16.5 21.390625 20.328125 13.890625 \r\nQ 24.171875 6.390625 31.78125 6.390625 \r\nQ 39.453125 6.390625 43.28125 13.890625 \r\nQ 47.125 21.390625 47.125 36.375 \r\nQ 47.125 51.421875 43.28125 58.90625 \r\nQ 39.453125 66.40625 31.78125 66.40625 \r\nz\r\nM 31.78125 74.21875 \r\nQ 44.046875 74.21875 50.515625 64.515625 \r\nQ 56.984375 54.828125 56.984375 36.375 \r\nQ 56.984375 17.96875 50.515625 8.265625 \r\nQ 44.046875 -1.421875 31.78125 -1.421875 \r\nQ 19.53125 -1.421875 13.0625 8.265625 \r\nQ 6.59375 17.96875 6.59375 36.375 \r\nQ 6.59375 54.828125 13.0625 64.515625 \r\nQ 19.53125 74.21875 31.78125 74.21875 \r\nz\r\n\" id=\"DejaVuSans-48\"/>\r\n      </defs>\r\n      <g transform=\"translate(82.85071 837.198437)scale(0.1 -0.1)\">\r\n       <use xlink:href=\"#DejaVuSans-48\"/>\r\n      </g>\r\n     </g>\r\n    </g>\r\n    <g id=\"xtick_2\">\r\n     <g id=\"line2d_2\">\r\n      <g>\r\n       <use style=\"stroke:#000000;stroke-width:0.8;\" x=\"247.501884\" xlink:href=\"#mee6a49a2fa\" y=\"822.6\"/>\r\n      </g>\r\n     </g>\r\n     <g id=\"text_2\">\r\n      <!-- 1 -->\r\n      <defs>\r\n       <path d=\"M 12.40625 8.296875 \r\nL 28.515625 8.296875 \r\nL 28.515625 63.921875 \r\nL 10.984375 60.40625 \r\nL 10.984375 69.390625 \r\nL 28.421875 72.90625 \r\nL 38.28125 72.90625 \r\nL 38.28125 8.296875 \r\nL 54.390625 8.296875 \r\nL 54.390625 0 \r\nL 12.40625 0 \r\nz\r\n\" id=\"DejaVuSans-49\"/>\r\n      </defs>\r\n      <g transform=\"translate(244.320634 837.198437)scale(0.1 -0.1)\">\r\n       <use xlink:href=\"#DejaVuSans-49\"/>\r\n      </g>\r\n     </g>\r\n    </g>\r\n    <g id=\"xtick_3\">\r\n     <g id=\"line2d_3\">\r\n      <g>\r\n       <use style=\"stroke:#000000;stroke-width:0.8;\" x=\"408.971808\" xlink:href=\"#mee6a49a2fa\" y=\"822.6\"/>\r\n      </g>\r\n     </g>\r\n     <g id=\"text_3\">\r\n      <!-- 2 -->\r\n      <defs>\r\n       <path d=\"M 19.1875 8.296875 \r\nL 53.609375 8.296875 \r\nL 53.609375 0 \r\nL 7.328125 0 \r\nL 7.328125 8.296875 \r\nQ 12.9375 14.109375 22.625 23.890625 \r\nQ 32.328125 33.6875 34.8125 36.53125 \r\nQ 39.546875 41.84375 41.421875 45.53125 \r\nQ 43.3125 49.21875 43.3125 52.78125 \r\nQ 43.3125 58.59375 39.234375 62.25 \r\nQ 35.15625 65.921875 28.609375 65.921875 \r\nQ 23.96875 65.921875 18.8125 64.3125 \r\nQ 13.671875 62.703125 7.8125 59.421875 \r\nL 7.8125 69.390625 \r\nQ 13.765625 71.78125 18.9375 73 \r\nQ 24.125 74.21875 28.421875 74.21875 \r\nQ 39.75 74.21875 46.484375 68.546875 \r\nQ 53.21875 62.890625 53.21875 53.421875 \r\nQ 53.21875 48.921875 51.53125 44.890625 \r\nQ 49.859375 40.875 45.40625 35.40625 \r\nQ 44.1875 33.984375 37.640625 27.21875 \r\nQ 31.109375 20.453125 19.1875 8.296875 \r\nz\r\n\" id=\"DejaVuSans-50\"/>\r\n      </defs>\r\n      <g transform=\"translate(405.790558 837.198437)scale(0.1 -0.1)\">\r\n       <use xlink:href=\"#DejaVuSans-50\"/>\r\n      </g>\r\n     </g>\r\n    </g>\r\n    <g id=\"xtick_4\">\r\n     <g id=\"line2d_4\">\r\n      <g>\r\n       <use style=\"stroke:#000000;stroke-width:0.8;\" x=\"570.441732\" xlink:href=\"#mee6a49a2fa\" y=\"822.6\"/>\r\n      </g>\r\n     </g>\r\n     <g id=\"text_4\">\r\n      <!-- 3 -->\r\n      <defs>\r\n       <path d=\"M 40.578125 39.3125 \r\nQ 47.65625 37.796875 51.625 33 \r\nQ 55.609375 28.21875 55.609375 21.1875 \r\nQ 55.609375 10.40625 48.1875 4.484375 \r\nQ 40.765625 -1.421875 27.09375 -1.421875 \r\nQ 22.515625 -1.421875 17.65625 -0.515625 \r\nQ 12.796875 0.390625 7.625 2.203125 \r\nL 7.625 11.71875 \r\nQ 11.71875 9.328125 16.59375 8.109375 \r\nQ 21.484375 6.890625 26.8125 6.890625 \r\nQ 36.078125 6.890625 40.9375 10.546875 \r\nQ 45.796875 14.203125 45.796875 21.1875 \r\nQ 45.796875 27.640625 41.28125 31.265625 \r\nQ 36.765625 34.90625 28.71875 34.90625 \r\nL 20.21875 34.90625 \r\nL 20.21875 43.015625 \r\nL 29.109375 43.015625 \r\nQ 36.375 43.015625 40.234375 45.921875 \r\nQ 44.09375 48.828125 44.09375 54.296875 \r\nQ 44.09375 59.90625 40.109375 62.90625 \r\nQ 36.140625 65.921875 28.71875 65.921875 \r\nQ 24.65625 65.921875 20.015625 65.03125 \r\nQ 15.375 64.15625 9.8125 62.3125 \r\nL 9.8125 71.09375 \r\nQ 15.4375 72.65625 20.34375 73.4375 \r\nQ 25.25 74.21875 29.59375 74.21875 \r\nQ 40.828125 74.21875 47.359375 69.109375 \r\nQ 53.90625 64.015625 53.90625 55.328125 \r\nQ 53.90625 49.265625 50.4375 45.09375 \r\nQ 46.96875 40.921875 40.578125 39.3125 \r\nz\r\n\" id=\"DejaVuSans-51\"/>\r\n      </defs>\r\n      <g transform=\"translate(567.260482 837.198437)scale(0.1 -0.1)\">\r\n       <use xlink:href=\"#DejaVuSans-51\"/>\r\n      </g>\r\n     </g>\r\n    </g>\r\n    <g id=\"xtick_5\">\r\n     <g id=\"line2d_5\">\r\n      <g>\r\n       <use style=\"stroke:#000000;stroke-width:0.8;\" x=\"731.911657\" xlink:href=\"#mee6a49a2fa\" y=\"822.6\"/>\r\n      </g>\r\n     </g>\r\n     <g id=\"text_5\">\r\n      <!-- 4 -->\r\n      <defs>\r\n       <path d=\"M 37.796875 64.3125 \r\nL 12.890625 25.390625 \r\nL 37.796875 25.390625 \r\nz\r\nM 35.203125 72.90625 \r\nL 47.609375 72.90625 \r\nL 47.609375 25.390625 \r\nL 58.015625 25.390625 \r\nL 58.015625 17.1875 \r\nL 47.609375 17.1875 \r\nL 47.609375 0 \r\nL 37.796875 0 \r\nL 37.796875 17.1875 \r\nL 4.890625 17.1875 \r\nL 4.890625 26.703125 \r\nz\r\n\" id=\"DejaVuSans-52\"/>\r\n      </defs>\r\n      <g transform=\"translate(728.730407 837.198437)scale(0.1 -0.1)\">\r\n       <use xlink:href=\"#DejaVuSans-52\"/>\r\n      </g>\r\n     </g>\r\n    </g>\r\n    <g id=\"xtick_6\">\r\n     <g id=\"line2d_6\">\r\n      <g>\r\n       <use style=\"stroke:#000000;stroke-width:0.8;\" x=\"893.381581\" xlink:href=\"#mee6a49a2fa\" y=\"822.6\"/>\r\n      </g>\r\n     </g>\r\n     <g id=\"text_6\">\r\n      <!-- 5 -->\r\n      <defs>\r\n       <path d=\"M 10.796875 72.90625 \r\nL 49.515625 72.90625 \r\nL 49.515625 64.59375 \r\nL 19.828125 64.59375 \r\nL 19.828125 46.734375 \r\nQ 21.96875 47.46875 24.109375 47.828125 \r\nQ 26.265625 48.1875 28.421875 48.1875 \r\nQ 40.625 48.1875 47.75 41.5 \r\nQ 54.890625 34.8125 54.890625 23.390625 \r\nQ 54.890625 11.625 47.5625 5.09375 \r\nQ 40.234375 -1.421875 26.90625 -1.421875 \r\nQ 22.3125 -1.421875 17.546875 -0.640625 \r\nQ 12.796875 0.140625 7.71875 1.703125 \r\nL 7.71875 11.625 \r\nQ 12.109375 9.234375 16.796875 8.0625 \r\nQ 21.484375 6.890625 26.703125 6.890625 \r\nQ 35.15625 6.890625 40.078125 11.328125 \r\nQ 45.015625 15.765625 45.015625 23.390625 \r\nQ 45.015625 31 40.078125 35.4375 \r\nQ 35.15625 39.890625 26.703125 39.890625 \r\nQ 22.75 39.890625 18.8125 39.015625 \r\nQ 14.890625 38.140625 10.796875 36.28125 \r\nz\r\n\" id=\"DejaVuSans-53\"/>\r\n      </defs>\r\n      <g transform=\"translate(890.200331 837.198437)scale(0.1 -0.1)\">\r\n       <use xlink:href=\"#DejaVuSans-53\"/>\r\n      </g>\r\n     </g>\r\n    </g>\r\n    <g id=\"xtick_7\">\r\n     <g id=\"line2d_7\">\r\n      <g>\r\n       <use style=\"stroke:#000000;stroke-width:0.8;\" x=\"1054.851505\" xlink:href=\"#mee6a49a2fa\" y=\"822.6\"/>\r\n      </g>\r\n     </g>\r\n     <g id=\"text_7\">\r\n      <!-- 6 -->\r\n      <defs>\r\n       <path d=\"M 33.015625 40.375 \r\nQ 26.375 40.375 22.484375 35.828125 \r\nQ 18.609375 31.296875 18.609375 23.390625 \r\nQ 18.609375 15.53125 22.484375 10.953125 \r\nQ 26.375 6.390625 33.015625 6.390625 \r\nQ 39.65625 6.390625 43.53125 10.953125 \r\nQ 47.40625 15.53125 47.40625 23.390625 \r\nQ 47.40625 31.296875 43.53125 35.828125 \r\nQ 39.65625 40.375 33.015625 40.375 \r\nz\r\nM 52.59375 71.296875 \r\nL 52.59375 62.3125 \r\nQ 48.875 64.0625 45.09375 64.984375 \r\nQ 41.3125 65.921875 37.59375 65.921875 \r\nQ 27.828125 65.921875 22.671875 59.328125 \r\nQ 17.53125 52.734375 16.796875 39.40625 \r\nQ 19.671875 43.65625 24.015625 45.921875 \r\nQ 28.375 48.1875 33.59375 48.1875 \r\nQ 44.578125 48.1875 50.953125 41.515625 \r\nQ 57.328125 34.859375 57.328125 23.390625 \r\nQ 57.328125 12.15625 50.6875 5.359375 \r\nQ 44.046875 -1.421875 33.015625 -1.421875 \r\nQ 20.359375 -1.421875 13.671875 8.265625 \r\nQ 6.984375 17.96875 6.984375 36.375 \r\nQ 6.984375 53.65625 15.1875 63.9375 \r\nQ 23.390625 74.21875 37.203125 74.21875 \r\nQ 40.921875 74.21875 44.703125 73.484375 \r\nQ 48.484375 72.75 52.59375 71.296875 \r\nz\r\n\" id=\"DejaVuSans-54\"/>\r\n      </defs>\r\n      <g transform=\"translate(1051.670255 837.198437)scale(0.1 -0.1)\">\r\n       <use xlink:href=\"#DejaVuSans-54\"/>\r\n      </g>\r\n     </g>\r\n    </g>\r\n   </g>\r\n   <g id=\"matplotlib.axis_2\">\r\n    <g id=\"ytick_1\">\r\n     <g id=\"line2d_8\">\r\n      <defs>\r\n       <path d=\"M 0 0 \r\nL -3.5 0 \r\n\" id=\"m335f9f4aa1\" style=\"stroke:#000000;stroke-width:0.8;\"/>\r\n      </defs>\r\n      <g>\r\n       <use style=\"stroke:#000000;stroke-width:0.8;\" x=\"35.304688\" xlink:href=\"#m335f9f4aa1\" y=\"767.774606\"/>\r\n      </g>\r\n     </g>\r\n     <g id=\"text_8\">\r\n      <!-- −60 -->\r\n      <defs>\r\n       <path d=\"M 10.59375 35.5 \r\nL 73.1875 35.5 \r\nL 73.1875 27.203125 \r\nL 10.59375 27.203125 \r\nz\r\n\" id=\"DejaVuSans-8722\"/>\r\n      </defs>\r\n      <g transform=\"translate(7.2 771.573824)scale(0.1 -0.1)\">\r\n       <use xlink:href=\"#DejaVuSans-8722\"/>\r\n       <use x=\"83.789062\" xlink:href=\"#DejaVuSans-54\"/>\r\n       <use x=\"147.412109\" xlink:href=\"#DejaVuSans-48\"/>\r\n      </g>\r\n     </g>\r\n    </g>\r\n    <g id=\"ytick_2\">\r\n     <g id=\"line2d_9\">\r\n      <g>\r\n       <use style=\"stroke:#000000;stroke-width:0.8;\" x=\"35.304688\" xlink:href=\"#m335f9f4aa1\" y=\"650.149737\"/>\r\n      </g>\r\n     </g>\r\n     <g id=\"text_9\">\r\n      <!-- −40 -->\r\n      <g transform=\"translate(7.2 653.948956)scale(0.1 -0.1)\">\r\n       <use xlink:href=\"#DejaVuSans-8722\"/>\r\n       <use x=\"83.789062\" xlink:href=\"#DejaVuSans-52\"/>\r\n       <use x=\"147.412109\" xlink:href=\"#DejaVuSans-48\"/>\r\n      </g>\r\n     </g>\r\n    </g>\r\n    <g id=\"ytick_3\">\r\n     <g id=\"line2d_10\">\r\n      <g>\r\n       <use style=\"stroke:#000000;stroke-width:0.8;\" x=\"35.304688\" xlink:href=\"#m335f9f4aa1\" y=\"532.524869\"/>\r\n      </g>\r\n     </g>\r\n     <g id=\"text_10\">\r\n      <!-- −20 -->\r\n      <g transform=\"translate(7.2 536.324087)scale(0.1 -0.1)\">\r\n       <use xlink:href=\"#DejaVuSans-8722\"/>\r\n       <use x=\"83.789062\" xlink:href=\"#DejaVuSans-50\"/>\r\n       <use x=\"147.412109\" xlink:href=\"#DejaVuSans-48\"/>\r\n      </g>\r\n     </g>\r\n    </g>\r\n    <g id=\"ytick_4\">\r\n     <g id=\"line2d_11\">\r\n      <g>\r\n       <use style=\"stroke:#000000;stroke-width:0.8;\" x=\"35.304688\" xlink:href=\"#m335f9f4aa1\" y=\"414.9\"/>\r\n      </g>\r\n     </g>\r\n     <g id=\"text_11\">\r\n      <!-- 0 -->\r\n      <g transform=\"translate(21.942187 418.699219)scale(0.1 -0.1)\">\r\n       <use xlink:href=\"#DejaVuSans-48\"/>\r\n      </g>\r\n     </g>\r\n    </g>\r\n    <g id=\"ytick_5\">\r\n     <g id=\"line2d_12\">\r\n      <g>\r\n       <use style=\"stroke:#000000;stroke-width:0.8;\" x=\"35.304688\" xlink:href=\"#m335f9f4aa1\" y=\"297.275131\"/>\r\n      </g>\r\n     </g>\r\n     <g id=\"text_12\">\r\n      <!-- 20 -->\r\n      <g transform=\"translate(15.579687 301.07435)scale(0.1 -0.1)\">\r\n       <use xlink:href=\"#DejaVuSans-50\"/>\r\n       <use x=\"63.623047\" xlink:href=\"#DejaVuSans-48\"/>\r\n      </g>\r\n     </g>\r\n    </g>\r\n    <g id=\"ytick_6\">\r\n     <g id=\"line2d_13\">\r\n      <g>\r\n       <use style=\"stroke:#000000;stroke-width:0.8;\" x=\"35.304688\" xlink:href=\"#m335f9f4aa1\" y=\"179.650263\"/>\r\n      </g>\r\n     </g>\r\n     <g id=\"text_13\">\r\n      <!-- 40 -->\r\n      <g transform=\"translate(15.579687 183.449482)scale(0.1 -0.1)\">\r\n       <use xlink:href=\"#DejaVuSans-52\"/>\r\n       <use x=\"63.623047\" xlink:href=\"#DejaVuSans-48\"/>\r\n      </g>\r\n     </g>\r\n    </g>\r\n    <g id=\"ytick_7\">\r\n     <g id=\"line2d_14\">\r\n      <g>\r\n       <use style=\"stroke:#000000;stroke-width:0.8;\" x=\"35.304688\" xlink:href=\"#m335f9f4aa1\" y=\"62.025394\"/>\r\n      </g>\r\n     </g>\r\n     <g id=\"text_14\">\r\n      <!-- 60 -->\r\n      <g transform=\"translate(15.579687 65.824613)scale(0.1 -0.1)\">\r\n       <use xlink:href=\"#DejaVuSans-54\"/>\r\n       <use x=\"63.623047\" xlink:href=\"#DejaVuSans-48\"/>\r\n      </g>\r\n     </g>\r\n    </g>\r\n   </g>\r\n   <g id=\"line2d_15\">\r\n    <path clip-path=\"url(#p7055beee8e)\" d=\"M 86.03196 414.9 \r\nL 96.279894 414.526988 \r\nL 106.527828 414.155479 \r\nL 116.775762 413.786967 \r\nL 127.023696 413.422938 \r\nL 137.27163 413.064855 \r\nL 147.519564 412.714163 \r\nL 157.767497 412.372271 \r\nL 168.015431 412.040559 \r\nL 178.263365 411.72036 \r\nL 188.511299 411.412964 \r\nL 198.759233 411.11961 \r\nL 209.007167 410.841477 \r\nL 219.255101 410.579687 \r\nL 229.503035 410.335294 \r\nL 239.750968 410.109281 \r\nL 249.998902 409.902558 \r\nL 260.246836 409.715958 \r\nL 270.49477 409.550233 \r\nL 280.742704 409.406049 \r\nL 290.990638 409.283987 \r\nL 301.238572 409.18454 \r\nL 311.486506 409.108106 \r\nL 321.73444 409.054994 \r\nL 331.982373 409.025418 \r\nL 342.230307 409.019497 \r\nL 352.478241 409.037254 \r\nL 362.726175 409.078619 \r\nL 372.974109 409.143425 \r\nL 383.222043 409.23141 \r\nL 393.469977 409.34222 \r\nL 403.717911 409.47541 \r\nL 413.965845 409.630443 \r\nL 424.213778 409.806694 \r\nL 434.461712 410.003454 \r\nL 444.709646 410.219931 \r\nL 454.95758 410.455253 \r\nL 465.205514 410.708472 \r\nL 475.453448 410.978569 \r\nL 485.701382 411.264457 \r\nL 495.949316 411.564983 \r\nL 506.197249 411.878938 \r\nL 516.445183 412.205058 \r\nL 526.693117 412.54203 \r\nL 536.941051 412.888496 \r\nL 547.188985 413.243062 \r\nL 557.436919 413.6043 \r\nL 567.684853 413.970755 \r\nL 577.932787 414.340952 \r\nL 588.180721 414.7134 \r\nL 598.428654 415.0866 \r\nL 608.676588 415.459048 \r\nL 618.924522 415.829245 \r\nL 629.172456 416.1957 \r\nL 639.42039 416.556938 \r\nL 649.668324 416.911504 \r\nL 659.916258 417.25797 \r\nL 670.164192 417.594942 \r\nL 680.412126 417.921062 \r\nL 690.660059 418.235017 \r\nL 700.907993 418.535543 \r\nL 711.155927 418.821431 \r\nL 721.403861 419.091528 \r\nL 731.651795 419.344747 \r\nL 741.899729 419.580069 \r\nL 752.147663 419.796546 \r\nL 762.395597 419.993306 \r\nL 772.64353 420.169557 \r\nL 782.891464 420.32459 \r\nL 793.139398 420.45778 \r\nL 803.387332 420.56859 \r\nL 813.635266 420.656575 \r\nL 823.8832 420.721381 \r\nL 834.131134 420.762746 \r\nL 844.379068 420.780503 \r\nL 854.627002 420.774582 \r\nL 864.874935 420.745006 \r\nL 875.122869 420.691894 \r\nL 885.370803 420.61546 \r\nL 895.618737 420.516013 \r\nL 905.866671 420.393951 \r\nL 916.114605 420.249767 \r\nL 926.362539 420.084042 \r\nL 936.610473 419.897442 \r\nL 946.858407 419.690719 \r\nL 957.10634 419.464706 \r\nL 967.354274 419.220313 \r\nL 977.602208 418.958523 \r\nL 987.850142 418.68039 \r\nL 998.098076 418.387036 \r\nL 1008.34601 418.07964 \r\nL 1018.593944 417.759441 \r\nL 1028.841878 417.427729 \r\nL 1039.089811 417.085837 \r\nL 1049.337745 416.735145 \r\nL 1059.585679 416.377062 \r\nL 1069.833613 416.013033 \r\nL 1080.081547 415.644521 \r\nL 1090.329481 415.273012 \r\nL 1100.577415 414.9 \r\n\" style=\"fill:none;stroke:#1f77b4;stroke-linecap:square;stroke-width:1.5;\"/>\r\n   </g>\r\n   <g id=\"line2d_16\">\r\n    <path clip-path=\"url(#p7055beee8e)\" d=\"M 86.03196 409.018757 \r\nL 96.279894 409.030597 \r\nL 106.527828 409.066072 \r\nL 116.775762 409.125038 \r\nL 127.023696 409.207258 \r\nL 137.27163 409.3124 \r\nL 147.519564 409.440042 \r\nL 157.767497 409.589669 \r\nL 168.015431 409.760679 \r\nL 178.263365 409.952383 \r\nL 188.511299 410.16401 \r\nL 198.759233 410.394706 \r\nL 209.007167 410.643544 \r\nL 219.255101 410.909521 \r\nL 229.503035 411.191566 \r\nL 239.750968 411.488544 \r\nL 249.998902 411.799259 \r\nL 260.246836 412.122459 \r\nL 270.49477 412.456843 \r\nL 280.742704 412.801065 \r\nL 290.990638 413.153739 \r\nL 301.238572 413.513444 \r\nL 311.486506 413.878733 \r\nL 321.73444 414.248134 \r\nL 331.982373 414.620159 \r\nL 342.230307 414.993312 \r\nL 352.478241 415.366088 \r\nL 362.726175 415.736988 \r\nL 372.974109 416.104518 \r\nL 383.222043 416.467197 \r\nL 393.469977 416.823566 \r\nL 403.717911 417.17219 \r\nL 413.965845 417.511664 \r\nL 424.213778 417.840622 \r\nL 434.461712 418.157739 \r\nL 444.709646 418.461738 \r\nL 454.95758 418.751395 \r\nL 465.205514 419.025545 \r\nL 475.453448 419.283082 \r\nL 485.701382 419.52297 \r\nL 495.949316 419.744242 \r\nL 506.197249 419.946009 \r\nL 516.445183 420.127458 \r\nL 526.693117 420.287857 \r\nL 536.941051 420.426561 \r\nL 547.188985 420.543012 \r\nL 557.436919 420.63674 \r\nL 567.684853 420.707368 \r\nL 577.932787 420.754613 \r\nL 588.180721 420.778282 \r\nL 598.428654 420.778282 \r\nL 608.676588 420.754613 \r\nL 618.924522 420.707368 \r\nL 629.172456 420.63674 \r\nL 639.42039 420.543012 \r\nL 649.668324 420.426561 \r\nL 659.916258 420.287857 \r\nL 670.164192 420.127458 \r\nL 680.412126 419.946009 \r\nL 690.660059 419.744242 \r\nL 700.907993 419.52297 \r\nL 711.155927 419.283082 \r\nL 721.403861 419.025545 \r\nL 731.651795 418.751395 \r\nL 741.899729 418.461738 \r\nL 752.147663 418.157739 \r\nL 762.395597 417.840622 \r\nL 772.64353 417.511664 \r\nL 782.891464 417.17219 \r\nL 793.139398 416.823566 \r\nL 803.387332 416.467197 \r\nL 813.635266 416.104518 \r\nL 823.8832 415.736988 \r\nL 834.131134 415.366088 \r\nL 844.379068 414.993312 \r\nL 854.627002 414.620159 \r\nL 864.874935 414.248134 \r\nL 875.122869 413.878733 \r\nL 885.370803 413.513444 \r\nL 895.618737 413.153739 \r\nL 905.866671 412.801065 \r\nL 916.114605 412.456843 \r\nL 926.362539 412.122459 \r\nL 936.610473 411.799259 \r\nL 946.858407 411.488544 \r\nL 957.10634 411.191566 \r\nL 967.354274 410.909521 \r\nL 977.602208 410.643544 \r\nL 987.850142 410.394706 \r\nL 998.098076 410.16401 \r\nL 1008.34601 409.952383 \r\nL 1018.593944 409.760679 \r\nL 1028.841878 409.589669 \r\nL 1039.089811 409.440042 \r\nL 1049.337745 409.3124 \r\nL 1059.585679 409.207258 \r\nL 1069.833613 409.125038 \r\nL 1080.081547 409.066072 \r\nL 1090.329481 409.030597 \r\nL 1100.577415 409.018757 \r\n\" style=\"fill:none;stroke:#ff7f0e;stroke-linecap:square;stroke-width:1.5;\"/>\r\n   </g>\r\n   <g id=\"line2d_17\">\r\n    <path clip-path=\"url(#p7055beee8e)\" d=\"M 86.03196 414.9 \r\nL 96.279894 414.526236 \r\nL 106.527828 414.149441 \r\nL 116.775762 413.766483 \r\nL 127.023696 413.374028 \r\nL 137.27163 412.968413 \r\nL 147.519564 412.545505 \r\nL 157.767497 412.100516 \r\nL 168.015431 411.627764 \r\nL 178.263365 411.120354 \r\nL 188.511299 410.569732 \r\nL 198.759233 409.965051 \r\nL 209.007167 409.292246 \r\nL 219.255101 408.532642 \r\nL 229.503035 407.660785 \r\nL 239.750968 406.640949 \r\nL 249.998902 405.421243 \r\nL 260.246836 403.923165 \r\nL 270.49477 402.021873 \r\nL 280.742704 399.505875 \r\nL 290.990638 395.985796 \r\nL 301.238572 390.657184 \r\nL 311.486506 381.545811 \r\nL 321.73444 362.16542 \r\nL 331.982373 291.437506 \r\nL 342.230307 785.536364 \r\nL 352.478241 488.877903 \r\nL 362.726175 455.804947 \r\nL 372.974109 443.007363 \r\nL 383.222043 436.172598 \r\nL 393.469977 431.892737 \r\nL 403.717911 428.940788 \r\nL 413.965845 426.766592 \r\nL 424.213778 425.086612 \r\nL 434.461712 423.739806 \r\nL 444.709646 422.627864 \r\nL 454.95758 421.687317 \r\nL 465.205514 420.875307 \r\nL 475.453448 420.161798 \r\nL 485.701382 419.525061 \r\nL 495.949316 418.94894 \r\nL 506.197249 418.421119 \r\nL 516.445183 417.931992 \r\nL 526.693117 417.473898 \r\nL 536.941051 417.040598 \r\nL 547.188985 416.626889 \r\nL 557.436919 416.228337 \r\nL 567.684853 415.841066 \r\nL 577.932787 415.461591 \r\nL 588.180721 415.086694 \r\nL 598.428654 414.713306 \r\nL 608.676588 414.338409 \r\nL 618.924522 413.958934 \r\nL 629.172456 413.571663 \r\nL 639.42039 413.173111 \r\nL 649.668324 412.759402 \r\nL 659.916258 412.326102 \r\nL 670.164192 411.868008 \r\nL 680.412126 411.378881 \r\nL 690.660059 410.85106 \r\nL 700.907993 410.274939 \r\nL 711.155927 409.638202 \r\nL 721.403861 408.924693 \r\nL 731.651795 408.112683 \r\nL 741.899729 407.172136 \r\nL 752.147663 406.060194 \r\nL 762.395597 404.713388 \r\nL 772.64353 403.033408 \r\nL 782.891464 400.859212 \r\nL 793.139398 397.907263 \r\nL 803.387332 393.627402 \r\nL 813.635266 386.792637 \r\nL 823.8832 373.995053 \r\nL 834.131134 340.922097 \r\nL 844.379068 44.263636 \r\nL 854.627002 538.362494 \r\nL 864.874935 467.63458 \r\nL 875.122869 448.254189 \r\nL 885.370803 439.142816 \r\nL 895.618737 433.814204 \r\nL 905.866671 430.294125 \r\nL 916.114605 427.778127 \r\nL 926.362539 425.876835 \r\nL 936.610473 424.378757 \r\nL 946.858407 423.159051 \r\nL 957.10634 422.139215 \r\nL 967.354274 421.267358 \r\nL 977.602208 420.507754 \r\nL 987.850142 419.834949 \r\nL 998.098076 419.230268 \r\nL 1008.34601 418.679646 \r\nL 1018.593944 418.172236 \r\nL 1028.841878 417.699484 \r\nL 1039.089811 417.254495 \r\nL 1049.337745 416.831587 \r\nL 1059.585679 416.425972 \r\nL 1069.833613 416.033517 \r\nL 1080.081547 415.650559 \r\nL 1090.329481 415.273764 \r\nL 1100.577415 414.9 \r\n\" style=\"fill:none;stroke:#2ca02c;stroke-linecap:square;stroke-width:1.5;\"/>\r\n   </g>\r\n   <g id=\"patch_3\">\r\n    <path d=\"M 35.304688 822.6 \r\nL 35.304688 7.2 \r\n\" style=\"fill:none;stroke:#000000;stroke-linecap:square;stroke-linejoin:miter;stroke-width:0.8;\"/>\r\n   </g>\r\n   <g id=\"patch_4\">\r\n    <path d=\"M 1151.304688 822.6 \r\nL 1151.304688 7.2 \r\n\" style=\"fill:none;stroke:#000000;stroke-linecap:square;stroke-linejoin:miter;stroke-width:0.8;\"/>\r\n   </g>\r\n   <g id=\"patch_5\">\r\n    <path d=\"M 35.304687 822.6 \r\nL 1151.304688 822.6 \r\n\" style=\"fill:none;stroke:#000000;stroke-linecap:square;stroke-linejoin:miter;stroke-width:0.8;\"/>\r\n   </g>\r\n   <g id=\"patch_6\">\r\n    <path d=\"M 35.304687 7.2 \r\nL 1151.304688 7.2 \r\n\" style=\"fill:none;stroke:#000000;stroke-linecap:square;stroke-linejoin:miter;stroke-width:0.8;\"/>\r\n   </g>\r\n  </g>\r\n </g>\r\n <defs>\r\n  <clipPath id=\"p7055beee8e\">\r\n   <rect height=\"815.4\" width=\"1116\" x=\"35.304688\" y=\"7.2\"/>\r\n  </clipPath>\r\n </defs>\r\n</svg>\r\n",
      "image/png": "[encoded data removed]"
     },
     "metadata": {
      "needs_background": "light"
     }
    }
   ],
   "source": [
    "# meio difícil de ver, né?\n",
    "# vamos usar o parametro figsize para ajeitarmos isso\n",
    "\n",
    "fig = plt.figure(figsize=(20,15))\n",
    "plt.plot(x,y)\n",
    "plt.plot(x,y1)\n",
    "plt.plot(x,y2)\n",
    "plt.show()"
   ]
  },
  {
   "cell_type": "code",
   "execution_count": 38,
   "metadata": {},
   "outputs": [
    {
     "output_type": "display_data",
     "data": {
      "text/plain": "<Figure size 432x288 with 1 Axes>",
      "image/svg+xml": "<?xml version=\"1.0\" encoding=\"utf-8\" standalone=\"no\"?>\r\n<!DOCTYPE svg PUBLIC \"-//W3C//DTD SVG 1.1//EN\"\r\n  \"http://www.w3.org/Graphics/SVG/1.1/DTD/svg11.dtd\">\r\n<!-- Created with matplotlib (https://matplotlib.org/) -->\r\n<svg height=\"252.317344pt\" version=\"1.1\" viewBox=\"0 0 380.482812 252.317344\" width=\"380.482812pt\" xmlns=\"http://www.w3.org/2000/svg\" xmlns:xlink=\"http://www.w3.org/1999/xlink\">\r\n <defs>\r\n  <style type=\"text/css\">\r\n*{stroke-linecap:butt;stroke-linejoin:round;}\r\n  </style>\r\n </defs>\r\n <g id=\"figure_1\">\r\n  <g id=\"patch_1\">\r\n   <path d=\"M -0 252.317344 \r\nL 380.482812 252.317344 \r\nL 380.482812 0 \r\nL -0 0 \r\nz\r\n\" style=\"fill:none;\"/>\r\n  </g>\r\n  <g id=\"axes_1\">\r\n   <g id=\"patch_2\">\r\n    <path d=\"M 38.482813 228.439219 \r\nL 373.282813 228.439219 \r\nL 373.282813 10.999219 \r\nL 38.482813 10.999219 \r\nz\r\n\" style=\"fill:#ffffff;\"/>\r\n   </g>\r\n   <g id=\"matplotlib.axis_1\">\r\n    <g id=\"xtick_1\">\r\n     <g id=\"line2d_1\">\r\n      <defs>\r\n       <path d=\"M 0 0 \r\nL 0 3.5 \r\n\" id=\"ma7d0ca11ff\" style=\"stroke:#000000;stroke-width:0.8;\"/>\r\n      </defs>\r\n      <g>\r\n       <use style=\"stroke:#000000;stroke-width:0.8;\" x=\"53.700994\" xlink:href=\"#ma7d0ca11ff\" y=\"228.439219\"/>\r\n      </g>\r\n     </g>\r\n     <g id=\"text_1\">\r\n      <!-- 0 -->\r\n      <defs>\r\n       <path d=\"M 31.78125 66.40625 \r\nQ 24.171875 66.40625 20.328125 58.90625 \r\nQ 16.5 51.421875 16.5 36.375 \r\nQ 16.5 21.390625 20.328125 13.890625 \r\nQ 24.171875 6.390625 31.78125 6.390625 \r\nQ 39.453125 6.390625 43.28125 13.890625 \r\nQ 47.125 21.390625 47.125 36.375 \r\nQ 47.125 51.421875 43.28125 58.90625 \r\nQ 39.453125 66.40625 31.78125 66.40625 \r\nz\r\nM 31.78125 74.21875 \r\nQ 44.046875 74.21875 50.515625 64.515625 \r\nQ 56.984375 54.828125 56.984375 36.375 \r\nQ 56.984375 17.96875 50.515625 8.265625 \r\nQ 44.046875 -1.421875 31.78125 -1.421875 \r\nQ 19.53125 -1.421875 13.0625 8.265625 \r\nQ 6.59375 17.96875 6.59375 36.375 \r\nQ 6.59375 54.828125 13.0625 64.515625 \r\nQ 19.53125 74.21875 31.78125 74.21875 \r\nz\r\n\" id=\"DejaVuSans-48\"/>\r\n      </defs>\r\n      <g transform=\"translate(50.519744 243.037656)scale(0.1 -0.1)\">\r\n       <use xlink:href=\"#DejaVuSans-48\"/>\r\n      </g>\r\n     </g>\r\n    </g>\r\n    <g id=\"xtick_2\">\r\n     <g id=\"line2d_2\">\r\n      <g>\r\n       <use style=\"stroke:#000000;stroke-width:0.8;\" x=\"102.141972\" xlink:href=\"#ma7d0ca11ff\" y=\"228.439219\"/>\r\n      </g>\r\n     </g>\r\n     <g id=\"text_2\">\r\n      <!-- 1 -->\r\n      <defs>\r\n       <path d=\"M 12.40625 8.296875 \r\nL 28.515625 8.296875 \r\nL 28.515625 63.921875 \r\nL 10.984375 60.40625 \r\nL 10.984375 69.390625 \r\nL 28.421875 72.90625 \r\nL 38.28125 72.90625 \r\nL 38.28125 8.296875 \r\nL 54.390625 8.296875 \r\nL 54.390625 0 \r\nL 12.40625 0 \r\nz\r\n\" id=\"DejaVuSans-49\"/>\r\n      </defs>\r\n      <g transform=\"translate(98.960722 243.037656)scale(0.1 -0.1)\">\r\n       <use xlink:href=\"#DejaVuSans-49\"/>\r\n      </g>\r\n     </g>\r\n    </g>\r\n    <g id=\"xtick_3\">\r\n     <g id=\"line2d_3\">\r\n      <g>\r\n       <use style=\"stroke:#000000;stroke-width:0.8;\" x=\"150.582949\" xlink:href=\"#ma7d0ca11ff\" y=\"228.439219\"/>\r\n      </g>\r\n     </g>\r\n     <g id=\"text_3\">\r\n      <!-- 2 -->\r\n      <defs>\r\n       <path d=\"M 19.1875 8.296875 \r\nL 53.609375 8.296875 \r\nL 53.609375 0 \r\nL 7.328125 0 \r\nL 7.328125 8.296875 \r\nQ 12.9375 14.109375 22.625 23.890625 \r\nQ 32.328125 33.6875 34.8125 36.53125 \r\nQ 39.546875 41.84375 41.421875 45.53125 \r\nQ 43.3125 49.21875 43.3125 52.78125 \r\nQ 43.3125 58.59375 39.234375 62.25 \r\nQ 35.15625 65.921875 28.609375 65.921875 \r\nQ 23.96875 65.921875 18.8125 64.3125 \r\nQ 13.671875 62.703125 7.8125 59.421875 \r\nL 7.8125 69.390625 \r\nQ 13.765625 71.78125 18.9375 73 \r\nQ 24.125 74.21875 28.421875 74.21875 \r\nQ 39.75 74.21875 46.484375 68.546875 \r\nQ 53.21875 62.890625 53.21875 53.421875 \r\nQ 53.21875 48.921875 51.53125 44.890625 \r\nQ 49.859375 40.875 45.40625 35.40625 \r\nQ 44.1875 33.984375 37.640625 27.21875 \r\nQ 31.109375 20.453125 19.1875 8.296875 \r\nz\r\n\" id=\"DejaVuSans-50\"/>\r\n      </defs>\r\n      <g transform=\"translate(147.401699 243.037656)scale(0.1 -0.1)\">\r\n       <use xlink:href=\"#DejaVuSans-50\"/>\r\n      </g>\r\n     </g>\r\n    </g>\r\n    <g id=\"xtick_4\">\r\n     <g id=\"line2d_4\">\r\n      <g>\r\n       <use style=\"stroke:#000000;stroke-width:0.8;\" x=\"199.023926\" xlink:href=\"#ma7d0ca11ff\" y=\"228.439219\"/>\r\n      </g>\r\n     </g>\r\n     <g id=\"text_4\">\r\n      <!-- 3 -->\r\n      <defs>\r\n       <path d=\"M 40.578125 39.3125 \r\nQ 47.65625 37.796875 51.625 33 \r\nQ 55.609375 28.21875 55.609375 21.1875 \r\nQ 55.609375 10.40625 48.1875 4.484375 \r\nQ 40.765625 -1.421875 27.09375 -1.421875 \r\nQ 22.515625 -1.421875 17.65625 -0.515625 \r\nQ 12.796875 0.390625 7.625 2.203125 \r\nL 7.625 11.71875 \r\nQ 11.71875 9.328125 16.59375 8.109375 \r\nQ 21.484375 6.890625 26.8125 6.890625 \r\nQ 36.078125 6.890625 40.9375 10.546875 \r\nQ 45.796875 14.203125 45.796875 21.1875 \r\nQ 45.796875 27.640625 41.28125 31.265625 \r\nQ 36.765625 34.90625 28.71875 34.90625 \r\nL 20.21875 34.90625 \r\nL 20.21875 43.015625 \r\nL 29.109375 43.015625 \r\nQ 36.375 43.015625 40.234375 45.921875 \r\nQ 44.09375 48.828125 44.09375 54.296875 \r\nQ 44.09375 59.90625 40.109375 62.90625 \r\nQ 36.140625 65.921875 28.71875 65.921875 \r\nQ 24.65625 65.921875 20.015625 65.03125 \r\nQ 15.375 64.15625 9.8125 62.3125 \r\nL 9.8125 71.09375 \r\nQ 15.4375 72.65625 20.34375 73.4375 \r\nQ 25.25 74.21875 29.59375 74.21875 \r\nQ 40.828125 74.21875 47.359375 69.109375 \r\nQ 53.90625 64.015625 53.90625 55.328125 \r\nQ 53.90625 49.265625 50.4375 45.09375 \r\nQ 46.96875 40.921875 40.578125 39.3125 \r\nz\r\n\" id=\"DejaVuSans-51\"/>\r\n      </defs>\r\n      <g transform=\"translate(195.842676 243.037656)scale(0.1 -0.1)\">\r\n       <use xlink:href=\"#DejaVuSans-51\"/>\r\n      </g>\r\n     </g>\r\n    </g>\r\n    <g id=\"xtick_5\">\r\n     <g id=\"line2d_5\">\r\n      <g>\r\n       <use style=\"stroke:#000000;stroke-width:0.8;\" x=\"247.464903\" xlink:href=\"#ma7d0ca11ff\" y=\"228.439219\"/>\r\n      </g>\r\n     </g>\r\n     <g id=\"text_5\">\r\n      <!-- 4 -->\r\n      <defs>\r\n       <path d=\"M 37.796875 64.3125 \r\nL 12.890625 25.390625 \r\nL 37.796875 25.390625 \r\nz\r\nM 35.203125 72.90625 \r\nL 47.609375 72.90625 \r\nL 47.609375 25.390625 \r\nL 58.015625 25.390625 \r\nL 58.015625 17.1875 \r\nL 47.609375 17.1875 \r\nL 47.609375 0 \r\nL 37.796875 0 \r\nL 37.796875 17.1875 \r\nL 4.890625 17.1875 \r\nL 4.890625 26.703125 \r\nz\r\n\" id=\"DejaVuSans-52\"/>\r\n      </defs>\r\n      <g transform=\"translate(244.283653 243.037656)scale(0.1 -0.1)\">\r\n       <use xlink:href=\"#DejaVuSans-52\"/>\r\n      </g>\r\n     </g>\r\n    </g>\r\n    <g id=\"xtick_6\">\r\n     <g id=\"line2d_6\">\r\n      <g>\r\n       <use style=\"stroke:#000000;stroke-width:0.8;\" x=\"295.90588\" xlink:href=\"#ma7d0ca11ff\" y=\"228.439219\"/>\r\n      </g>\r\n     </g>\r\n     <g id=\"text_6\">\r\n      <!-- 5 -->\r\n      <defs>\r\n       <path d=\"M 10.796875 72.90625 \r\nL 49.515625 72.90625 \r\nL 49.515625 64.59375 \r\nL 19.828125 64.59375 \r\nL 19.828125 46.734375 \r\nQ 21.96875 47.46875 24.109375 47.828125 \r\nQ 26.265625 48.1875 28.421875 48.1875 \r\nQ 40.625 48.1875 47.75 41.5 \r\nQ 54.890625 34.8125 54.890625 23.390625 \r\nQ 54.890625 11.625 47.5625 5.09375 \r\nQ 40.234375 -1.421875 26.90625 -1.421875 \r\nQ 22.3125 -1.421875 17.546875 -0.640625 \r\nQ 12.796875 0.140625 7.71875 1.703125 \r\nL 7.71875 11.625 \r\nQ 12.109375 9.234375 16.796875 8.0625 \r\nQ 21.484375 6.890625 26.703125 6.890625 \r\nQ 35.15625 6.890625 40.078125 11.328125 \r\nQ 45.015625 15.765625 45.015625 23.390625 \r\nQ 45.015625 31 40.078125 35.4375 \r\nQ 35.15625 39.890625 26.703125 39.890625 \r\nQ 22.75 39.890625 18.8125 39.015625 \r\nQ 14.890625 38.140625 10.796875 36.28125 \r\nz\r\n\" id=\"DejaVuSans-53\"/>\r\n      </defs>\r\n      <g transform=\"translate(292.72463 243.037656)scale(0.1 -0.1)\">\r\n       <use xlink:href=\"#DejaVuSans-53\"/>\r\n      </g>\r\n     </g>\r\n    </g>\r\n    <g id=\"xtick_7\">\r\n     <g id=\"line2d_7\">\r\n      <g>\r\n       <use style=\"stroke:#000000;stroke-width:0.8;\" x=\"344.346858\" xlink:href=\"#ma7d0ca11ff\" y=\"228.439219\"/>\r\n      </g>\r\n     </g>\r\n     <g id=\"text_7\">\r\n      <!-- 6 -->\r\n      <defs>\r\n       <path d=\"M 33.015625 40.375 \r\nQ 26.375 40.375 22.484375 35.828125 \r\nQ 18.609375 31.296875 18.609375 23.390625 \r\nQ 18.609375 15.53125 22.484375 10.953125 \r\nQ 26.375 6.390625 33.015625 6.390625 \r\nQ 39.65625 6.390625 43.53125 10.953125 \r\nQ 47.40625 15.53125 47.40625 23.390625 \r\nQ 47.40625 31.296875 43.53125 35.828125 \r\nQ 39.65625 40.375 33.015625 40.375 \r\nz\r\nM 52.59375 71.296875 \r\nL 52.59375 62.3125 \r\nQ 48.875 64.0625 45.09375 64.984375 \r\nQ 41.3125 65.921875 37.59375 65.921875 \r\nQ 27.828125 65.921875 22.671875 59.328125 \r\nQ 17.53125 52.734375 16.796875 39.40625 \r\nQ 19.671875 43.65625 24.015625 45.921875 \r\nQ 28.375 48.1875 33.59375 48.1875 \r\nQ 44.578125 48.1875 50.953125 41.515625 \r\nQ 57.328125 34.859375 57.328125 23.390625 \r\nQ 57.328125 12.15625 50.6875 5.359375 \r\nQ 44.046875 -1.421875 33.015625 -1.421875 \r\nQ 20.359375 -1.421875 13.671875 8.265625 \r\nQ 6.984375 17.96875 6.984375 36.375 \r\nQ 6.984375 53.65625 15.1875 63.9375 \r\nQ 23.390625 74.21875 37.203125 74.21875 \r\nQ 40.921875 74.21875 44.703125 73.484375 \r\nQ 48.484375 72.75 52.59375 71.296875 \r\nz\r\n\" id=\"DejaVuSans-54\"/>\r\n      </defs>\r\n      <g transform=\"translate(341.165608 243.037656)scale(0.1 -0.1)\">\r\n       <use xlink:href=\"#DejaVuSans-54\"/>\r\n      </g>\r\n     </g>\r\n    </g>\r\n   </g>\r\n   <g id=\"matplotlib.axis_2\">\r\n    <g id=\"ytick_1\">\r\n     <g id=\"line2d_8\">\r\n      <defs>\r\n       <path d=\"M 0 0 \r\nL -3.5 0 \r\n\" id=\"mda26c92552\" style=\"stroke:#000000;stroke-width:0.8;\"/>\r\n      </defs>\r\n      <g>\r\n       <use style=\"stroke:#000000;stroke-width:0.8;\" x=\"38.482813\" xlink:href=\"#mda26c92552\" y=\"228.439219\"/>\r\n      </g>\r\n     </g>\r\n     <g id=\"text_8\">\r\n      <!-- −1.5 -->\r\n      <defs>\r\n       <path d=\"M 10.59375 35.5 \r\nL 73.1875 35.5 \r\nL 73.1875 27.203125 \r\nL 10.59375 27.203125 \r\nz\r\n\" id=\"DejaVuSans-8722\"/>\r\n       <path d=\"M 10.6875 12.40625 \r\nL 21 12.40625 \r\nL 21 0 \r\nL 10.6875 0 \r\nz\r\n\" id=\"DejaVuSans-46\"/>\r\n      </defs>\r\n      <g transform=\"translate(7.2 232.238437)scale(0.1 -0.1)\">\r\n       <use xlink:href=\"#DejaVuSans-8722\"/>\r\n       <use x=\"83.789062\" xlink:href=\"#DejaVuSans-49\"/>\r\n       <use x=\"147.412109\" xlink:href=\"#DejaVuSans-46\"/>\r\n       <use x=\"179.199219\" xlink:href=\"#DejaVuSans-53\"/>\r\n      </g>\r\n     </g>\r\n    </g>\r\n    <g id=\"ytick_2\">\r\n     <g id=\"line2d_9\">\r\n      <g>\r\n       <use style=\"stroke:#000000;stroke-width:0.8;\" x=\"38.482813\" xlink:href=\"#mda26c92552\" y=\"192.199219\"/>\r\n      </g>\r\n     </g>\r\n     <g id=\"text_9\">\r\n      <!-- −1.0 -->\r\n      <g transform=\"translate(7.2 195.998437)scale(0.1 -0.1)\">\r\n       <use xlink:href=\"#DejaVuSans-8722\"/>\r\n       <use x=\"83.789062\" xlink:href=\"#DejaVuSans-49\"/>\r\n       <use x=\"147.412109\" xlink:href=\"#DejaVuSans-46\"/>\r\n       <use x=\"179.199219\" xlink:href=\"#DejaVuSans-48\"/>\r\n      </g>\r\n     </g>\r\n    </g>\r\n    <g id=\"ytick_3\">\r\n     <g id=\"line2d_10\">\r\n      <g>\r\n       <use style=\"stroke:#000000;stroke-width:0.8;\" x=\"38.482813\" xlink:href=\"#mda26c92552\" y=\"155.959219\"/>\r\n      </g>\r\n     </g>\r\n     <g id=\"text_10\">\r\n      <!-- −0.5 -->\r\n      <g transform=\"translate(7.2 159.758437)scale(0.1 -0.1)\">\r\n       <use xlink:href=\"#DejaVuSans-8722\"/>\r\n       <use x=\"83.789062\" xlink:href=\"#DejaVuSans-48\"/>\r\n       <use x=\"147.412109\" xlink:href=\"#DejaVuSans-46\"/>\r\n       <use x=\"179.199219\" xlink:href=\"#DejaVuSans-53\"/>\r\n      </g>\r\n     </g>\r\n    </g>\r\n    <g id=\"ytick_4\">\r\n     <g id=\"line2d_11\">\r\n      <g>\r\n       <use style=\"stroke:#000000;stroke-width:0.8;\" x=\"38.482813\" xlink:href=\"#mda26c92552\" y=\"119.719219\"/>\r\n      </g>\r\n     </g>\r\n     <g id=\"text_11\">\r\n      <!-- 0.0 -->\r\n      <g transform=\"translate(15.579688 123.518437)scale(0.1 -0.1)\">\r\n       <use xlink:href=\"#DejaVuSans-48\"/>\r\n       <use x=\"63.623047\" xlink:href=\"#DejaVuSans-46\"/>\r\n       <use x=\"95.410156\" xlink:href=\"#DejaVuSans-48\"/>\r\n      </g>\r\n     </g>\r\n    </g>\r\n    <g id=\"ytick_5\">\r\n     <g id=\"line2d_12\">\r\n      <g>\r\n       <use style=\"stroke:#000000;stroke-width:0.8;\" x=\"38.482813\" xlink:href=\"#mda26c92552\" y=\"83.479219\"/>\r\n      </g>\r\n     </g>\r\n     <g id=\"text_12\">\r\n      <!-- 0.5 -->\r\n      <g transform=\"translate(15.579688 87.278437)scale(0.1 -0.1)\">\r\n       <use xlink:href=\"#DejaVuSans-48\"/>\r\n       <use x=\"63.623047\" xlink:href=\"#DejaVuSans-46\"/>\r\n       <use x=\"95.410156\" xlink:href=\"#DejaVuSans-53\"/>\r\n      </g>\r\n     </g>\r\n    </g>\r\n    <g id=\"ytick_6\">\r\n     <g id=\"line2d_13\">\r\n      <g>\r\n       <use style=\"stroke:#000000;stroke-width:0.8;\" x=\"38.482813\" xlink:href=\"#mda26c92552\" y=\"47.239219\"/>\r\n      </g>\r\n     </g>\r\n     <g id=\"text_13\">\r\n      <!-- 1.0 -->\r\n      <g transform=\"translate(15.579688 51.038437)scale(0.1 -0.1)\">\r\n       <use xlink:href=\"#DejaVuSans-49\"/>\r\n       <use x=\"63.623047\" xlink:href=\"#DejaVuSans-46\"/>\r\n       <use x=\"95.410156\" xlink:href=\"#DejaVuSans-48\"/>\r\n      </g>\r\n     </g>\r\n    </g>\r\n    <g id=\"ytick_7\">\r\n     <g id=\"line2d_14\">\r\n      <g>\r\n       <use style=\"stroke:#000000;stroke-width:0.8;\" x=\"38.482813\" xlink:href=\"#mda26c92552\" y=\"10.999219\"/>\r\n      </g>\r\n     </g>\r\n     <g id=\"text_14\">\r\n      <!-- 1.5 -->\r\n      <g transform=\"translate(15.579688 14.798437)scale(0.1 -0.1)\">\r\n       <use xlink:href=\"#DejaVuSans-49\"/>\r\n       <use x=\"63.623047\" xlink:href=\"#DejaVuSans-46\"/>\r\n       <use x=\"95.410156\" xlink:href=\"#DejaVuSans-53\"/>\r\n      </g>\r\n     </g>\r\n    </g>\r\n   </g>\r\n   <g id=\"line2d_15\">\r\n    <path clip-path=\"url(#p5eb4b04018)\" d=\"M 53.700994 119.719219 \r\nL 56.775374 115.122253 \r\nL 59.849755 110.543798 \r\nL 62.924135 106.002289 \r\nL 65.998515 101.516013 \r\nL 69.072895 97.103035 \r\nL 72.147275 92.781124 \r\nL 75.221655 88.567684 \r\nL 78.296036 84.479679 \r\nL 81.370416 80.533572 \r\nL 84.444796 76.745252 \r\nL 87.519176 73.129973 \r\nL 90.593556 69.702292 \r\nL 93.667936 66.476012 \r\nL 96.742317 63.464123 \r\nL 99.816697 60.678754 \r\nL 102.891077 58.13112 \r\nL 105.965457 55.831479 \r\nL 109.039837 53.789092 \r\nL 112.114217 52.012182 \r\nL 115.188598 50.507904 \r\nL 118.262978 49.282316 \r\nL 121.337358 48.340353 \r\nL 124.411738 47.685807 \r\nL 127.486118 47.321314 \r\nL 130.560498 47.248342 \r\nL 133.634879 47.467185 \r\nL 136.709259 47.976961 \r\nL 139.783639 48.775617 \r\nL 142.858019 49.859939 \r\nL 145.932399 51.225559 \r\nL 149.006779 52.86698 \r\nL 152.08116 54.77759 \r\nL 155.15554 56.949697 \r\nL 158.22992 59.374556 \r\nL 161.3043 62.042401 \r\nL 164.37868 64.94249 \r\nL 167.45306 68.063145 \r\nL 170.527441 71.391802 \r\nL 173.601821 74.915055 \r\nL 176.676201 78.61872 \r\nL 179.750581 82.487881 \r\nL 182.824961 86.50696 \r\nL 185.899341 90.659774 \r\nL 188.973722 94.929599 \r\nL 192.048102 99.299243 \r\nL 195.122482 103.751111 \r\nL 198.196862 108.267278 \r\nL 201.271242 112.829557 \r\nL 204.345622 117.419578 \r\nL 207.420003 122.018859 \r\nL 210.494383 126.608881 \r\nL 213.568763 131.17116 \r\nL 216.643143 135.687326 \r\nL 219.717523 140.139194 \r\nL 222.791903 144.508839 \r\nL 225.866284 148.778664 \r\nL 228.940664 152.931477 \r\nL 232.015044 156.950556 \r\nL 235.089424 160.819718 \r\nL 238.163804 164.523382 \r\nL 241.238184 168.046636 \r\nL 244.312565 171.375292 \r\nL 247.386945 174.495948 \r\nL 250.461325 177.396037 \r\nL 253.535705 180.063882 \r\nL 256.610085 182.48874 \r\nL 259.684465 184.660848 \r\nL 262.758846 186.571458 \r\nL 265.833226 188.212878 \r\nL 268.907606 189.578498 \r\nL 271.981986 190.66282 \r\nL 275.056366 191.461477 \r\nL 278.130746 191.971253 \r\nL 281.205127 192.190096 \r\nL 284.279507 192.117123 \r\nL 287.353887 191.752631 \r\nL 290.428267 191.098085 \r\nL 293.502647 190.156121 \r\nL 296.577027 188.930533 \r\nL 299.651408 187.426256 \r\nL 302.725788 185.649346 \r\nL 305.800168 183.606959 \r\nL 308.874548 181.307318 \r\nL 311.948928 178.759684 \r\nL 315.023308 175.974314 \r\nL 318.097689 172.962426 \r\nL 321.172069 169.736146 \r\nL 324.246449 166.308465 \r\nL 327.320829 162.693185 \r\nL 330.395209 158.904865 \r\nL 333.469589 154.958758 \r\nL 336.54397 150.870754 \r\nL 339.61835 146.657314 \r\nL 342.69273 142.335403 \r\nL 345.76711 137.922425 \r\nL 348.84149 133.436149 \r\nL 351.91587 128.89464 \r\nL 354.990251 124.316184 \r\nL 358.064631 119.719219 \r\n\" style=\"fill:none;stroke:#1f77b4;stroke-linecap:square;stroke-width:1.5;\"/>\r\n   </g>\r\n   <g id=\"line2d_16\">\r\n    <path clip-path=\"url(#p5eb4b04018)\" d=\"M 53.700994 47.239219 \r\nL 56.775374 47.385144 \r\nL 59.849755 47.822334 \r\nL 62.924135 48.549027 \r\nL 65.998515 49.562297 \r\nL 69.072895 50.858064 \r\nL 72.147275 52.431111 \r\nL 75.221655 54.275103 \r\nL 78.296036 56.382616 \r\nL 81.370416 58.745163 \r\nL 84.444796 61.35323 \r\nL 87.519176 64.196318 \r\nL 90.593556 67.262976 \r\nL 93.667936 70.540857 \r\nL 96.742317 74.016761 \r\nL 99.816697 77.676694 \r\nL 102.891077 81.505917 \r\nL 105.965457 85.489011 \r\nL 109.039837 89.609939 \r\nL 112.114217 93.852105 \r\nL 115.188598 98.19843 \r\nL 118.262978 102.631411 \r\nL 121.337358 107.133199 \r\nL 124.411738 111.685666 \r\nL 127.486118 116.270481 \r\nL 130.560498 120.869184 \r\nL 133.634879 125.463256 \r\nL 136.709259 130.034198 \r\nL 139.783639 134.563606 \r\nL 142.858019 139.033241 \r\nL 145.932399 143.425105 \r\nL 149.006779 147.721513 \r\nL 152.08116 151.905167 \r\nL 155.15554 155.959219 \r\nL 158.22992 159.867345 \r\nL 161.3043 163.613809 \r\nL 164.37868 167.183525 \r\nL 167.45306 170.562119 \r\nL 170.527441 173.735986 \r\nL 173.601821 176.692347 \r\nL 176.676201 179.419297 \r\nL 179.750581 181.905857 \r\nL 182.824961 184.142012 \r\nL 185.899341 186.11876 \r\nL 188.973722 187.82814 \r\nL 192.048102 189.263269 \r\nL 195.122482 190.41837 \r\nL 198.196862 191.288789 \r\nL 201.271242 191.871024 \r\nL 204.345622 192.162728 \r\nL 207.420003 192.162728 \r\nL 210.494383 191.871024 \r\nL 213.568763 191.288789 \r\nL 216.643143 190.41837 \r\nL 219.717523 189.263269 \r\nL 222.791903 187.82814 \r\nL 225.866284 186.11876 \r\nL 228.940664 184.142012 \r\nL 232.015044 181.905857 \r\nL 235.089424 179.419297 \r\nL 238.163804 176.692347 \r\nL 241.238184 173.735986 \r\nL 244.312565 170.562119 \r\nL 247.386945 167.183525 \r\nL 250.461325 163.613809 \r\nL 253.535705 159.867345 \r\nL 256.610085 155.959219 \r\nL 259.684465 151.905167 \r\nL 262.758846 147.721513 \r\nL 265.833226 143.425105 \r\nL 268.907606 139.033241 \r\nL 271.981986 134.563606 \r\nL 275.056366 130.034198 \r\nL 278.130746 125.463256 \r\nL 281.205127 120.869184 \r\nL 284.279507 116.270481 \r\nL 287.353887 111.685666 \r\nL 290.428267 107.133199 \r\nL 293.502647 102.631411 \r\nL 296.577027 98.19843 \r\nL 299.651408 93.852105 \r\nL 302.725788 89.609939 \r\nL 305.800168 85.489011 \r\nL 308.874548 81.505917 \r\nL 311.948928 77.676694 \r\nL 315.023308 74.016761 \r\nL 318.097689 70.540857 \r\nL 321.172069 67.262976 \r\nL 324.246449 64.196318 \r\nL 327.320829 61.35323 \r\nL 330.395209 58.745163 \r\nL 333.469589 56.382616 \r\nL 336.54397 54.275103 \r\nL 339.61835 52.431111 \r\nL 342.69273 50.858064 \r\nL 345.76711 49.562297 \r\nL 348.84149 48.549027 \r\nL 351.91587 47.822334 \r\nL 354.990251 47.385144 \r\nL 358.064631 47.239219 \r\n\" style=\"fill:none;stroke:#ff7f0e;stroke-linecap:square;stroke-width:1.5;\"/>\r\n   </g>\r\n   <g id=\"line2d_17\">\r\n    <path clip-path=\"url(#p5eb4b04018)\" d=\"M 53.700994 119.719219 \r\nL 56.775374 115.112979 \r\nL 59.849755 110.469381 \r\nL 62.924135 105.749844 \r\nL 65.998515 100.913257 \r\nL 69.072895 95.914491 \r\nL 72.147275 90.702604 \r\nL 75.221655 85.218588 \r\nL 78.296036 79.39243 \r\nL 81.370416 73.139151 \r\nL 84.444796 66.353325 \r\nL 87.519176 58.901277 \r\nL 90.593556 50.609678 \r\nL 93.667936 41.248373 \r\nL 96.742317 30.50368 \r\nL 99.816697 17.935301 \r\nL 102.891077 2.903733 \r\nL 103.541138 -1 \r\nM 128.193377 -1 \r\nL 128.321778 253.317344 \r\nM 153.958827 253.317344 \r\nL 155.15554 245.258261 \r\nL 158.22992 228.660322 \r\nL 161.3043 214.956827 \r\nL 164.37868 203.365598 \r\nL 167.45306 193.358453 \r\nL 170.527441 184.565217 \r\nL 173.601821 176.718121 \r\nL 176.676201 169.61805 \r\nL 179.750581 163.113225 \r\nL 182.824961 157.085256 \r\nL 185.899341 151.439748 \r\nL 188.973722 146.099781 \r\nL 192.048102 141.001267 \r\nL 195.122482 136.089549 \r\nL 198.196862 131.316839 \r\nL 201.271242 126.64022 \r\nL 204.345622 122.020018 \r\nL 207.420003 117.41842 \r\nL 210.494383 112.798218 \r\nL 213.568763 108.121599 \r\nL 216.643143 103.348889 \r\nL 219.717523 98.437171 \r\nL 222.791903 93.338656 \r\nL 225.866284 87.998689 \r\nL 228.940664 82.353182 \r\nL 232.015044 76.325213 \r\nL 235.089424 69.820387 \r\nL 238.163804 62.720317 \r\nL 241.238184 54.873221 \r\nL 244.312565 46.079985 \r\nL 247.386945 36.07284 \r\nL 250.461325 24.48161 \r\nL 253.535705 10.778115 \r\nL 255.717326 -1 \r\nM 283.450349 -1 \r\nL 283.578751 253.317344 \r\nM 306.079854 253.317344 \r\nL 308.874548 236.534705 \r\nL 311.948928 221.503137 \r\nL 315.023308 208.934757 \r\nL 318.097689 198.190064 \r\nL 321.172069 188.828759 \r\nL 324.246449 180.53716 \r\nL 327.320829 173.085112 \r\nL 330.395209 166.299286 \r\nL 333.469589 160.046008 \r\nL 336.54397 154.21985 \r\nL 339.61835 148.735834 \r\nL 342.69273 143.523946 \r\nL 345.76711 138.52518 \r\nL 348.84149 133.688594 \r\nL 351.91587 128.969056 \r\nL 354.990251 124.325458 \r\nL 358.064631 119.719219 \r\n\" style=\"fill:none;stroke:#2ca02c;stroke-linecap:square;stroke-width:1.5;\"/>\r\n   </g>\r\n   <g id=\"patch_3\">\r\n    <path d=\"M 38.482813 228.439219 \r\nL 38.482813 10.999219 \r\n\" style=\"fill:none;stroke:#000000;stroke-linecap:square;stroke-linejoin:miter;stroke-width:0.8;\"/>\r\n   </g>\r\n   <g id=\"patch_4\">\r\n    <path d=\"M 373.282813 228.439219 \r\nL 373.282813 10.999219 \r\n\" style=\"fill:none;stroke:#000000;stroke-linecap:square;stroke-linejoin:miter;stroke-width:0.8;\"/>\r\n   </g>\r\n   <g id=\"patch_5\">\r\n    <path d=\"M 38.482813 228.439219 \r\nL 373.282812 228.439219 \r\n\" style=\"fill:none;stroke:#000000;stroke-linecap:square;stroke-linejoin:miter;stroke-width:0.8;\"/>\r\n   </g>\r\n   <g id=\"patch_6\">\r\n    <path d=\"M 38.482813 10.999219 \r\nL 373.282812 10.999219 \r\n\" style=\"fill:none;stroke:#000000;stroke-linecap:square;stroke-linejoin:miter;stroke-width:0.8;\"/>\r\n   </g>\r\n  </g>\r\n </g>\r\n <defs>\r\n  <clipPath id=\"p5eb4b04018\">\r\n   <rect height=\"217.44\" width=\"334.8\" x=\"38.482813\" y=\"10.999219\"/>\r\n  </clipPath>\r\n </defs>\r\n</svg>\r\n",
      "image/png": "[encoded data removed]"
     },
     "metadata": {
      "needs_background": "light"
     }
    }
   ],
   "source": [
    "# é, não tá bom ainda\n",
    "# mas é claro, pois a função tangente explode para infinito em alguns pontos\n",
    "# sendo assim, vamos limitar o intervalo mostrado nos eixos\n",
    "\n",
    "plt.ylim((-1.5,1.5))\n",
    "plt.plot(x,y)\n",
    "plt.plot(x,y1)\n",
    "plt.plot(x,y2)\n",
    "plt.show()"
   ]
  },
  {
   "cell_type": "code",
   "execution_count": null,
   "metadata": {},
   "outputs": [],
   "source": [
    "# tá, desisto\n",
    "# melhor só tirar o tangente e plotar separado mesmo kkk\n",
    "# mas você aprendeu várias coisas com essa nossa tentativa!"
   ]
  },
  {
   "cell_type": "code",
   "execution_count": null,
   "metadata": {},
   "outputs": [],
   "source": [
    "# a propósito, também é possível plotar tipos diferentes de gráfico\n",
    "\n",
    "x = np.arange(20)\n",
    "y = x**2\n",
    "plt.scatter(x,y)\n",
    "plt.show()"
   ]
  },
  {
   "cell_type": "code",
   "execution_count": null,
   "metadata": {},
   "outputs": [],
   "source": [
    "# também é possível maquiar seu gráfico colocando legendas ou mudando a cor\n",
    "\n",
    "plt.scatter(x,y,color='red')\n",
    "plt.xlabel('eixo X')\n",
    "plt.ylabel('eixo Y')\n",
    "plt.show()"
   ]
  },
  {
   "cell_type": "code",
   "execution_count": null,
   "metadata": {},
   "outputs": [],
   "source": [
    "# ou gráficos de barra\n",
    "\n",
    "values = df['ocean_proximity'].value_counts(True)\n",
    "values.plot.bar()"
   ]
  },
  {
   "cell_type": "code",
   "execution_count": null,
   "metadata": {},
   "outputs": [],
   "source": [
    "# enfim, uma infinidade de parametros e atributos\n",
    "# com isso, é possível criar gráficos como esse\n",
    "\n",
    "df.plot(kind=\"scatter\", x=\"longitude\", y=\"latitude\", alpha=0.4,\n",
    "    s=df[\"population\"]/100, label=\"population\", figsize=(10,7),\n",
    "    c=\"median_house_value\", cmap=plt.get_cmap(\"jet\"), colorbar=True,\n",
    "    sharex=False)\n",
    "plt.legend()\n",
    "plt.show()"
   ]
  },
  {
   "cell_type": "code",
   "execution_count": null,
   "metadata": {},
   "outputs": [],
   "source": [
    "# mas relaxa, por enquanto você não precisa fazer algo como isso"
   ]
  },
  {
   "cell_type": "markdown",
   "metadata": {},
   "source": [
    "Com isso acabamos o tutorial!\n",
    "\n",
    "Boa sorte no projeto! Estamos esperando por você na segunda fase!"
   ]
  }
 ],
 "metadata": {
  "kernelspec": {
   "display_name": "Python 3",
   "language": "python",
   "name": "python3"
  },
  "language_info": {
   "codemirror_mode": {
    "name": "ipython",
    "version": 3
   },
   "file_extension": ".py",
   "mimetype": "text/x-python",
   "name": "python",
   "nbconvert_exporter": "python",
   "pygments_lexer": "ipython3",
   "version": "3.8.3-final"
  }
 },
 "nbformat": 4,
 "nbformat_minor": 4
}